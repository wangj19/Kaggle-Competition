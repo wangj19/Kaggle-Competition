{
 "cells": [
  {
   "cell_type": "markdown",
   "id": "278b0571",
   "metadata": {
    "papermill": {
     "duration": 0.007951,
     "end_time": "2024-07-26T08:02:42.290024",
     "exception": false,
     "start_time": "2024-07-26T08:02:42.282073",
     "status": "completed"
    },
    "tags": []
   },
   "source": [
    "- [Training notebook](https://www.kaggle.com/code/motono0223/isic-pytorch-training-baseline-image-only)\n",
    "- Inference notebook (This notebook)"
   ]
  },
  {
   "cell_type": "markdown",
   "id": "d236283a",
   "metadata": {
    "papermill": {
     "duration": 0.006713,
     "end_time": "2024-07-26T08:02:42.303681",
     "exception": false,
     "start_time": "2024-07-26T08:02:42.296968",
     "status": "completed"
    },
    "tags": []
   },
   "source": [
    "# <span><h1 style = \"font-family: garamond; font-size: 40px; font-style: normal; letter-spcaing: 3px; background-color: #f6f5f5; color :#fe346e; border-radius: 100px 100px; text-align:center\">Import Required Libraries 📚</h1></span>"
   ]
  },
  {
   "cell_type": "code",
   "execution_count": 1,
   "id": "0203adb6",
   "metadata": {
    "execution": {
     "iopub.execute_input": "2024-07-26T08:02:42.318288Z",
     "iopub.status.busy": "2024-07-26T08:02:42.317998Z",
     "iopub.status.idle": "2024-07-26T08:02:42.330752Z",
     "shell.execute_reply": "2024-07-26T08:02:42.329786Z"
    },
    "papermill": {
     "duration": 0.022491,
     "end_time": "2024-07-26T08:02:42.332920",
     "exception": false,
     "start_time": "2024-07-26T08:02:42.310429",
     "status": "completed"
    },
    "tags": []
   },
   "outputs": [
    {
     "name": "stdout",
     "output_type": "stream",
     "text": [
      "Writing main.py\n"
     ]
    }
   ],
   "source": [
    "%%writefile main.py\n",
    "import os\n",
    "import gc\n",
    "import cv2\n",
    "import math\n",
    "import copy\n",
    "import time\n",
    "import random\n",
    "import glob\n",
    "from matplotlib import pyplot as plt\n",
    "\n",
    "import h5py\n",
    "from PIL import Image\n",
    "from io import BytesIO\n",
    "\n",
    "# For data manipulation\n",
    "import numpy as np\n",
    "import pandas as pd\n",
    "\n",
    "# Pytorch Imports\n",
    "import torch\n",
    "import torch.nn as nn\n",
    "import torch.optim as optim\n",
    "import torch.nn.functional as F\n",
    "from torch.optim import lr_scheduler\n",
    "from torch.utils.data import Dataset, DataLoader\n",
    "from torch.cuda import amp\n",
    "import torchvision\n",
    "\n",
    "# Utils\n",
    "import joblib\n",
    "from tqdm import tqdm\n",
    "from collections import defaultdict\n",
    "\n",
    "# Sklearn Imports\n",
    "from sklearn.preprocessing import LabelEncoder\n",
    "from sklearn.model_selection import StratifiedKFold\n",
    "\n",
    "# For Image Models\n",
    "import timm\n",
    "\n",
    "# Albumentations for augmentations\n",
    "import albumentations as A\n",
    "from albumentations.pytorch import ToTensorV2\n",
    "\n",
    "# For colored terminal text\n",
    "from colorama import Fore, Back, Style\n",
    "b_ = Fore.BLUE\n",
    "sr_ = Style.RESET_ALL\n",
    "\n",
    "import warnings\n",
    "warnings.filterwarnings(\"ignore\")\n",
    "\n",
    "# For descriptive error messages\n",
    "os.environ['CUDA_LAUNCH_BLOCKING'] = \"1\""
   ]
  },
  {
   "cell_type": "code",
   "execution_count": 2,
   "id": "5ea47529",
   "metadata": {
    "execution": {
     "iopub.execute_input": "2024-07-26T08:02:42.348269Z",
     "iopub.status.busy": "2024-07-26T08:02:42.347772Z",
     "iopub.status.idle": "2024-07-26T08:02:42.352248Z",
     "shell.execute_reply": "2024-07-26T08:02:42.351495Z"
    },
    "papermill": {
     "duration": 0.014202,
     "end_time": "2024-07-26T08:02:42.354415",
     "exception": false,
     "start_time": "2024-07-26T08:02:42.340213",
     "status": "completed"
    },
    "tags": []
   },
   "outputs": [
    {
     "name": "stdout",
     "output_type": "stream",
     "text": [
      "Appending to main.py\n"
     ]
    }
   ],
   "source": [
    "%%writefile -a main.py\n",
    "import sys\n",
    "# /kaggle/input/isic-pytorch-training-baseline/Final_model.bin\n",
    "BEST_WEIGHT = sys.argv[1]\n",
    "print(f\"BEST_WEIGHT = {BEST_WEIGHT}\")"
   ]
  },
  {
   "cell_type": "markdown",
   "id": "d51198f1",
   "metadata": {
    "papermill": {
     "duration": 0.006812,
     "end_time": "2024-07-26T08:02:42.368192",
     "exception": false,
     "start_time": "2024-07-26T08:02:42.361380",
     "status": "completed"
    },
    "tags": []
   },
   "source": [
    "# <span><h1 style = \"font-family: garamond; font-size: 40px; font-style: normal; letter-spcaing: 3px; background-color: #f6f5f5; color :#fe346e; border-radius: 100px 100px; text-align:center\">Training Configuration ⚙️</h1></span>"
   ]
  },
  {
   "cell_type": "code",
   "execution_count": 3,
   "id": "d4b1b97d",
   "metadata": {
    "execution": {
     "iopub.execute_input": "2024-07-26T08:02:42.383461Z",
     "iopub.status.busy": "2024-07-26T08:02:42.382857Z",
     "iopub.status.idle": "2024-07-26T08:02:42.387661Z",
     "shell.execute_reply": "2024-07-26T08:02:42.386799Z"
    },
    "papermill": {
     "duration": 0.014375,
     "end_time": "2024-07-26T08:02:42.389508",
     "exception": false,
     "start_time": "2024-07-26T08:02:42.375133",
     "status": "completed"
    },
    "tags": []
   },
   "outputs": [
    {
     "name": "stdout",
     "output_type": "stream",
     "text": [
      "Appending to main.py\n"
     ]
    }
   ],
   "source": [
    "%%writefile -a main.py\n",
    "CONFIG = {\n",
    "    \"seed\": 42,\n",
    "    \"img_size\": 384,\n",
    "    \"model_name\": \"densenet161.tv_in1k\",\n",
    "    \"valid_batch_size\": 32,\n",
    "    \"device\": torch.device(\"cuda:0\" if torch.cuda.is_available() else \"cpu\"),\n",
    "}"
   ]
  },
  {
   "cell_type": "markdown",
   "id": "10dec17e",
   "metadata": {
    "papermill": {
     "duration": 0.006763,
     "end_time": "2024-07-26T08:02:42.403468",
     "exception": false,
     "start_time": "2024-07-26T08:02:42.396705",
     "status": "completed"
    },
    "tags": []
   },
   "source": [
    "# <span><h1 style = \"font-family: garamond; font-size: 40px; font-style: normal; letter-spcaing: 3px; background-color: #f6f5f5; color :#fe346e; border-radius: 100px 100px; text-align:center\">Set Seed for Reproducibility</h1></span>"
   ]
  },
  {
   "cell_type": "code",
   "execution_count": 4,
   "id": "0d935a2a",
   "metadata": {
    "execution": {
     "iopub.execute_input": "2024-07-26T08:02:42.418679Z",
     "iopub.status.busy": "2024-07-26T08:02:42.418384Z",
     "iopub.status.idle": "2024-07-26T08:02:42.423729Z",
     "shell.execute_reply": "2024-07-26T08:02:42.422815Z"
    },
    "papermill": {
     "duration": 0.015141,
     "end_time": "2024-07-26T08:02:42.425581",
     "exception": false,
     "start_time": "2024-07-26T08:02:42.410440",
     "status": "completed"
    },
    "tags": []
   },
   "outputs": [
    {
     "name": "stdout",
     "output_type": "stream",
     "text": [
      "Appending to main.py\n"
     ]
    }
   ],
   "source": [
    "%%writefile -a main.py\n",
    "def set_seed(seed=42):\n",
    "    '''Sets the seed of the entire notebook so results are the same every time we run.\n",
    "    This is for REPRODUCIBILITY.'''\n",
    "    np.random.seed(seed)\n",
    "    torch.manual_seed(seed)\n",
    "    torch.cuda.manual_seed(seed)\n",
    "    # When running on the CuDNN backend, two further options must be set\n",
    "    torch.backends.cudnn.deterministic = True\n",
    "    torch.backends.cudnn.benchmark = False\n",
    "    # Set a fixed value for the hash seed\n",
    "    os.environ['PYTHONHASHSEED'] = str(seed)\n",
    "    \n",
    "set_seed(CONFIG['seed'])"
   ]
  },
  {
   "cell_type": "code",
   "execution_count": 5,
   "id": "90cd7e90",
   "metadata": {
    "execution": {
     "iopub.execute_input": "2024-07-26T08:02:42.440689Z",
     "iopub.status.busy": "2024-07-26T08:02:42.440446Z",
     "iopub.status.idle": "2024-07-26T08:02:42.445336Z",
     "shell.execute_reply": "2024-07-26T08:02:42.444467Z"
    },
    "papermill": {
     "duration": 0.014525,
     "end_time": "2024-07-26T08:02:42.447220",
     "exception": false,
     "start_time": "2024-07-26T08:02:42.432695",
     "status": "completed"
    },
    "tags": []
   },
   "outputs": [
    {
     "name": "stdout",
     "output_type": "stream",
     "text": [
      "Appending to main.py\n"
     ]
    }
   ],
   "source": [
    "%%writefile -a main.py\n",
    "ROOT_DIR = \"/kaggle/input/isic-2024-challenge\"\n",
    "TEST_CSV = f'{ROOT_DIR}/test-metadata.csv'\n",
    "TEST_HDF = f'{ROOT_DIR}/test-image.hdf5'\n",
    "SAMPLE = f'{ROOT_DIR}/sample_submission.csv'\n",
    "\n",
    "# BEST_WEIGHT = \"/kaggle/input/isic-pytorch-training-baseline/Final_model.bin\""
   ]
  },
  {
   "cell_type": "markdown",
   "id": "821378a6",
   "metadata": {
    "papermill": {
     "duration": 0.006909,
     "end_time": "2024-07-26T08:02:42.462529",
     "exception": false,
     "start_time": "2024-07-26T08:02:42.455620",
     "status": "completed"
    },
    "tags": []
   },
   "source": [
    "# <h1 style = \"font-family: garamond; font-size: 40px; font-style: normal; letter-spcaing: 3px; background-color: #f6f5f5; color :#fe346e; border-radius: 100px 100px; text-align:center\">Read the Data 📖</h1>"
   ]
  },
  {
   "cell_type": "code",
   "execution_count": 6,
   "id": "4884ec3c",
   "metadata": {
    "execution": {
     "iopub.execute_input": "2024-07-26T08:02:42.478031Z",
     "iopub.status.busy": "2024-07-26T08:02:42.477422Z",
     "iopub.status.idle": "2024-07-26T08:02:42.482043Z",
     "shell.execute_reply": "2024-07-26T08:02:42.481250Z"
    },
    "papermill": {
     "duration": 0.014436,
     "end_time": "2024-07-26T08:02:42.484106",
     "exception": false,
     "start_time": "2024-07-26T08:02:42.469670",
     "status": "completed"
    },
    "tags": []
   },
   "outputs": [
    {
     "name": "stdout",
     "output_type": "stream",
     "text": [
      "Appending to main.py\n"
     ]
    }
   ],
   "source": [
    "%%writefile -a main.py\n",
    "df = pd.read_csv(TEST_CSV)\n",
    "df['target'] = 0 # dummy\n",
    "df"
   ]
  },
  {
   "cell_type": "code",
   "execution_count": 7,
   "id": "73e04666",
   "metadata": {
    "execution": {
     "iopub.execute_input": "2024-07-26T08:02:42.499910Z",
     "iopub.status.busy": "2024-07-26T08:02:42.499397Z",
     "iopub.status.idle": "2024-07-26T08:02:42.503794Z",
     "shell.execute_reply": "2024-07-26T08:02:42.503006Z"
    },
    "papermill": {
     "duration": 0.01426,
     "end_time": "2024-07-26T08:02:42.505789",
     "exception": false,
     "start_time": "2024-07-26T08:02:42.491529",
     "status": "completed"
    },
    "tags": []
   },
   "outputs": [
    {
     "name": "stdout",
     "output_type": "stream",
     "text": [
      "Appending to main.py\n"
     ]
    }
   ],
   "source": [
    "%%writefile -a main.py\n",
    "df_sub = pd.read_csv(SAMPLE)\n",
    "df_sub"
   ]
  },
  {
   "cell_type": "markdown",
   "id": "7ce1cf23",
   "metadata": {
    "papermill": {
     "duration": 0.007859,
     "end_time": "2024-07-26T08:02:42.521273",
     "exception": false,
     "start_time": "2024-07-26T08:02:42.513414",
     "status": "completed"
    },
    "tags": []
   },
   "source": [
    "# <span><h1 style = \"font-family: garamond; font-size: 40px; font-style: normal; letter-spcaing: 3px; background-color: #f6f5f5; color :#fe346e; border-radius: 100px 100px; text-align:center\">Dataset Class</h1></span>"
   ]
  },
  {
   "cell_type": "code",
   "execution_count": 8,
   "id": "95d4f810",
   "metadata": {
    "execution": {
     "iopub.execute_input": "2024-07-26T08:02:42.538168Z",
     "iopub.status.busy": "2024-07-26T08:02:42.537878Z",
     "iopub.status.idle": "2024-07-26T08:02:42.543496Z",
     "shell.execute_reply": "2024-07-26T08:02:42.542606Z"
    },
    "papermill": {
     "duration": 0.016547,
     "end_time": "2024-07-26T08:02:42.545625",
     "exception": false,
     "start_time": "2024-07-26T08:02:42.529078",
     "status": "completed"
    },
    "tags": []
   },
   "outputs": [
    {
     "name": "stdout",
     "output_type": "stream",
     "text": [
      "Appending to main.py\n"
     ]
    }
   ],
   "source": [
    "%%writefile -a main.py\n",
    "class ISICDataset(Dataset):\n",
    "    def __init__(self, df, file_hdf, transforms=None):\n",
    "        self.df = df\n",
    "        self.fp_hdf = h5py.File(file_hdf, mode=\"r\")\n",
    "        self.isic_ids = df['isic_id'].values\n",
    "        self.targets = df['target'].values\n",
    "        self.transforms = transforms\n",
    "        \n",
    "    def __len__(self):\n",
    "        return len(self.isic_ids)\n",
    "    \n",
    "    def __getitem__(self, index):\n",
    "        isic_id = self.isic_ids[index]\n",
    "        img = np.array( Image.open(BytesIO(self.fp_hdf[isic_id][()])) )\n",
    "        target = self.targets[index]\n",
    "        \n",
    "        if self.transforms:\n",
    "            img = self.transforms(image=img)[\"image\"]\n",
    "            \n",
    "        return {\n",
    "            'image': img,\n",
    "            'target': target,\n",
    "        }"
   ]
  },
  {
   "cell_type": "markdown",
   "id": "dac29849",
   "metadata": {
    "papermill": {
     "duration": 0.008885,
     "end_time": "2024-07-26T08:02:42.563661",
     "exception": false,
     "start_time": "2024-07-26T08:02:42.554776",
     "status": "completed"
    },
    "tags": []
   },
   "source": [
    "# <span><h1 style = \"font-family: garamond; font-size: 40px; font-style: normal; letter-spcaing: 3px; background-color: #f6f5f5; color :#fe346e; border-radius: 100px 100px; text-align:center\">Augmentations</h1></span>"
   ]
  },
  {
   "cell_type": "code",
   "execution_count": 9,
   "id": "02d7c368",
   "metadata": {
    "execution": {
     "iopub.execute_input": "2024-07-26T08:02:42.582271Z",
     "iopub.status.busy": "2024-07-26T08:02:42.581624Z",
     "iopub.status.idle": "2024-07-26T08:02:42.587392Z",
     "shell.execute_reply": "2024-07-26T08:02:42.586485Z"
    },
    "papermill": {
     "duration": 0.017467,
     "end_time": "2024-07-26T08:02:42.589664",
     "exception": false,
     "start_time": "2024-07-26T08:02:42.572197",
     "status": "completed"
    },
    "tags": []
   },
   "outputs": [
    {
     "name": "stdout",
     "output_type": "stream",
     "text": [
      "Appending to main.py\n"
     ]
    }
   ],
   "source": [
    "%%writefile -a main.py\n",
    "data_transforms = {\n",
    "    \"valid\": A.Compose([\n",
    "        A.Resize(CONFIG['img_size'], CONFIG['img_size']),\n",
    "        A.Normalize(\n",
    "                mean=[0.485, 0.456, 0.406], \n",
    "                std=[0.229, 0.224, 0.225], \n",
    "                max_pixel_value=255.0, \n",
    "                p=1.0\n",
    "            ),\n",
    "        ToTensorV2()], p=1.)\n",
    "}"
   ]
  },
  {
   "cell_type": "markdown",
   "id": "51cd9df5",
   "metadata": {
    "papermill": {
     "duration": 0.008044,
     "end_time": "2024-07-26T08:02:42.605794",
     "exception": false,
     "start_time": "2024-07-26T08:02:42.597750",
     "status": "completed"
    },
    "tags": []
   },
   "source": [
    "# <span><h1 style = \"font-family: garamond; font-size: 40px; font-style: normal; letter-spcaing: 3px; background-color: #f6f5f5; color :#fe346e; border-radius: 100px 100px; text-align:center\">GeM Pooling</h1></span>"
   ]
  },
  {
   "cell_type": "code",
   "execution_count": 10,
   "id": "d19c6a07",
   "metadata": {
    "execution": {
     "iopub.execute_input": "2024-07-26T08:02:42.623997Z",
     "iopub.status.busy": "2024-07-26T08:02:42.623644Z",
     "iopub.status.idle": "2024-07-26T08:02:42.629666Z",
     "shell.execute_reply": "2024-07-26T08:02:42.628734Z"
    },
    "papermill": {
     "duration": 0.017689,
     "end_time": "2024-07-26T08:02:42.631821",
     "exception": false,
     "start_time": "2024-07-26T08:02:42.614132",
     "status": "completed"
    },
    "tags": []
   },
   "outputs": [
    {
     "name": "stdout",
     "output_type": "stream",
     "text": [
      "Appending to main.py\n"
     ]
    }
   ],
   "source": [
    "%%writefile -a main.py\n",
    "class GeM(nn.Module):\n",
    "    def __init__(self, p=3, eps=1e-6):\n",
    "        super(GeM, self).__init__()\n",
    "        self.p = nn.Parameter(torch.ones(1)*p)\n",
    "        self.eps = eps\n",
    "\n",
    "    def forward(self, x):\n",
    "        return self.gem(x, p=self.p, eps=self.eps)\n",
    "        \n",
    "    def gem(self, x, p=3, eps=1e-6):\n",
    "        return F.avg_pool2d(x.clamp(min=eps).pow(p), (x.size(-2), x.size(-1))).pow(1./p)\n",
    "        \n",
    "    def __repr__(self):\n",
    "        return self.__class__.__name__ + \\\n",
    "                '(' + 'p=' + '{:.4f}'.format(self.p.data.tolist()[0]) + \\\n",
    "                ', ' + 'eps=' + str(self.eps) + ')'"
   ]
  },
  {
   "cell_type": "markdown",
   "id": "27dd5a06",
   "metadata": {
    "papermill": {
     "duration": 0.007943,
     "end_time": "2024-07-26T08:02:42.648119",
     "exception": false,
     "start_time": "2024-07-26T08:02:42.640176",
     "status": "completed"
    },
    "tags": []
   },
   "source": [
    "# <span><h1 style = \"font-family: garamond; font-size: 40px; font-style: normal; letter-spcaing: 3px; background-color: #f6f5f5; color :#fe346e; border-radius: 100px 100px; text-align:center\">Create Model</h1></span>"
   ]
  },
  {
   "cell_type": "code",
   "execution_count": 11,
   "id": "afd7eef5",
   "metadata": {
    "execution": {
     "iopub.execute_input": "2024-07-26T08:02:42.666677Z",
     "iopub.status.busy": "2024-07-26T08:02:42.666292Z",
     "iopub.status.idle": "2024-07-26T08:02:42.672720Z",
     "shell.execute_reply": "2024-07-26T08:02:42.671805Z"
    },
    "papermill": {
     "duration": 0.018138,
     "end_time": "2024-07-26T08:02:42.674926",
     "exception": false,
     "start_time": "2024-07-26T08:02:42.656788",
     "status": "completed"
    },
    "tags": []
   },
   "outputs": [
    {
     "name": "stdout",
     "output_type": "stream",
     "text": [
      "Appending to main.py\n"
     ]
    }
   ],
   "source": [
    "%%writefile -a main.py\n",
    "class ISICModel(nn.Module):\n",
    "    def __init__(self, model_name, num_classes=1, pretrained=True, checkpoint_path=None):\n",
    "        super(ISICModel, self).__init__()\n",
    "        self.model = timm.create_model(model_name, pretrained=pretrained, checkpoint_path=checkpoint_path)\n",
    "\n",
    "        in_features = self.model.classifier.in_features\n",
    "        self.model.classifier = nn.Identity()\n",
    "        self.model.global_pool = nn.Identity()\n",
    "        self.pooling = GeM()\n",
    "        self.linear = nn.Linear(in_features, num_classes)\n",
    "        self.sigmoid = nn.Sigmoid()\n",
    "\n",
    "    def forward(self, images):\n",
    "        features = self.model(images)\n",
    "        pooled_features = self.pooling(features).flatten(1)\n",
    "        output = self.sigmoid(self.linear(pooled_features))\n",
    "        return output\n",
    "    \n",
    "model = ISICModel(CONFIG['model_name'], pretrained=False)\n",
    "model.load_state_dict( torch.load(BEST_WEIGHT) )\n",
    "model.to(CONFIG['device']);"
   ]
  },
  {
   "cell_type": "markdown",
   "id": "4a8097f8",
   "metadata": {
    "papermill": {
     "duration": 0.008076,
     "end_time": "2024-07-26T08:02:42.691170",
     "exception": false,
     "start_time": "2024-07-26T08:02:42.683094",
     "status": "completed"
    },
    "tags": []
   },
   "source": [
    "<span style=\"color: #000508; font-family: Segoe UI; font-size: 1.5em; font-weight: 300;\">Prepare Dataloaders</span>"
   ]
  },
  {
   "cell_type": "code",
   "execution_count": 12,
   "id": "84194a56",
   "metadata": {
    "execution": {
     "iopub.execute_input": "2024-07-26T08:02:42.709071Z",
     "iopub.status.busy": "2024-07-26T08:02:42.708719Z",
     "iopub.status.idle": "2024-07-26T08:02:42.714153Z",
     "shell.execute_reply": "2024-07-26T08:02:42.713280Z"
    },
    "papermill": {
     "duration": 0.016899,
     "end_time": "2024-07-26T08:02:42.716579",
     "exception": false,
     "start_time": "2024-07-26T08:02:42.699680",
     "status": "completed"
    },
    "tags": []
   },
   "outputs": [
    {
     "name": "stdout",
     "output_type": "stream",
     "text": [
      "Appending to main.py\n"
     ]
    }
   ],
   "source": [
    "%%writefile -a main.py\n",
    "test_dataset = ISICDataset(df, TEST_HDF, transforms=data_transforms[\"valid\"])\n",
    "test_loader = DataLoader(test_dataset, batch_size=CONFIG['valid_batch_size'], \n",
    "                          num_workers=2, shuffle=False, pin_memory=True)"
   ]
  },
  {
   "cell_type": "markdown",
   "id": "87c4974f",
   "metadata": {
    "papermill": {
     "duration": 0.008522,
     "end_time": "2024-07-26T08:02:42.733184",
     "exception": false,
     "start_time": "2024-07-26T08:02:42.724662",
     "status": "completed"
    },
    "tags": []
   },
   "source": [
    "<span style=\"color: #000508; font-family: Segoe UI; font-size: 1.5em; font-weight: 300;\">Start Inference</span>"
   ]
  },
  {
   "cell_type": "code",
   "execution_count": 13,
   "id": "2803d0cd",
   "metadata": {
    "execution": {
     "iopub.execute_input": "2024-07-26T08:02:42.751323Z",
     "iopub.status.busy": "2024-07-26T08:02:42.750670Z",
     "iopub.status.idle": "2024-07-26T08:02:42.756349Z",
     "shell.execute_reply": "2024-07-26T08:02:42.755484Z"
    },
    "papermill": {
     "duration": 0.01706,
     "end_time": "2024-07-26T08:02:42.758485",
     "exception": false,
     "start_time": "2024-07-26T08:02:42.741425",
     "status": "completed"
    },
    "tags": []
   },
   "outputs": [
    {
     "name": "stdout",
     "output_type": "stream",
     "text": [
      "Appending to main.py\n"
     ]
    }
   ],
   "source": [
    "%%writefile -a main.py\n",
    "preds = []\n",
    "with torch.no_grad():\n",
    "    bar = tqdm(enumerate(test_loader), total=len(test_loader))\n",
    "    for step, data in bar:        \n",
    "        images = data['image'].to(CONFIG[\"device\"], dtype=torch.float)        \n",
    "        batch_size = images.size(0)\n",
    "        outputs = model(images)\n",
    "        preds.append( outputs.detach().cpu().numpy() )\n",
    "preds = np.concatenate(preds).flatten()"
   ]
  },
  {
   "cell_type": "code",
   "execution_count": 14,
   "id": "e9c985d1",
   "metadata": {
    "execution": {
     "iopub.execute_input": "2024-07-26T08:02:42.777937Z",
     "iopub.status.busy": "2024-07-26T08:02:42.777251Z",
     "iopub.status.idle": "2024-07-26T08:02:42.783116Z",
     "shell.execute_reply": "2024-07-26T08:02:42.782113Z"
    },
    "papermill": {
     "duration": 0.018379,
     "end_time": "2024-07-26T08:02:42.785064",
     "exception": false,
     "start_time": "2024-07-26T08:02:42.766685",
     "status": "completed"
    },
    "tags": []
   },
   "outputs": [
    {
     "name": "stdout",
     "output_type": "stream",
     "text": [
      "Appending to main.py\n"
     ]
    }
   ],
   "source": [
    "%%writefile -a main.py\n",
    "df_sub[\"target\"] = preds\n",
    "df_sub.to_csv(\"submission.csv\", index=False)"
   ]
  },
  {
   "cell_type": "markdown",
   "id": "c37664b6",
   "metadata": {
    "papermill": {
     "duration": 0.007861,
     "end_time": "2024-07-26T08:02:42.801625",
     "exception": false,
     "start_time": "2024-07-26T08:02:42.793764",
     "status": "completed"
    },
    "tags": []
   },
   "source": [
    "# Test"
   ]
  },
  {
   "cell_type": "code",
   "execution_count": 15,
   "id": "51b44c91",
   "metadata": {
    "execution": {
     "iopub.execute_input": "2024-07-26T08:02:42.820240Z",
     "iopub.status.busy": "2024-07-26T08:02:42.819896Z",
     "iopub.status.idle": "2024-07-26T08:02:58.929536Z",
     "shell.execute_reply": "2024-07-26T08:02:58.928580Z"
    },
    "papermill": {
     "duration": 16.121849,
     "end_time": "2024-07-26T08:02:58.931895",
     "exception": false,
     "start_time": "2024-07-26T08:02:42.810046",
     "status": "completed"
    },
    "tags": []
   },
   "outputs": [
    {
     "name": "stdout",
     "output_type": "stream",
     "text": [
      "BEST_WEIGHT = /kaggle/input/isic-pytorch-training-baseline/Final_model.bin\r\n",
      "100%|█████████████████████████████████████████████| 1/1 [00:01<00:00,  1.08s/it]\r\n"
     ]
    }
   ],
   "source": [
    "!python main.py /kaggle/input/isic-pytorch-training-baseline/Final_model.bin"
   ]
  },
  {
   "cell_type": "code",
   "execution_count": 16,
   "id": "1fb2b8d3",
   "metadata": {
    "execution": {
     "iopub.execute_input": "2024-07-26T08:02:58.950114Z",
     "iopub.status.busy": "2024-07-26T08:02:58.949826Z",
     "iopub.status.idle": "2024-07-26T08:03:00.914082Z",
     "shell.execute_reply": "2024-07-26T08:03:00.912808Z"
    },
    "papermill": {
     "duration": 1.976099,
     "end_time": "2024-07-26T08:03:00.916575",
     "exception": false,
     "start_time": "2024-07-26T08:02:58.940476",
     "status": "completed"
    },
    "tags": []
   },
   "outputs": [
    {
     "name": "stdout",
     "output_type": "stream",
     "text": [
      "isic_id,target\r\n",
      "ISIC_0015657,0.9869648\r\n",
      "ISIC_0015729,0.003979742\r\n",
      "ISIC_0015740,0.5922989\r\n"
     ]
    }
   ],
   "source": [
    "!head submission.csv\n",
    "!rm submission.csv"
   ]
  }
 ],
 "metadata": {
  "kaggle": {
   "accelerator": "gpu",
   "dataSources": [
    {
     "databundleVersionId": 9094797,
     "sourceId": 63056,
     "sourceType": "competition"
    },
    {
     "sourceId": 189795394,
     "sourceType": "kernelVersion"
    }
   ],
   "isGpuEnabled": true,
   "isInternetEnabled": false,
   "language": "python",
   "sourceType": "notebook"
  },
  "kernelspec": {
   "display_name": "Python 3",
   "language": "python",
   "name": "python3"
  },
  "language_info": {
   "codemirror_mode": {
    "name": "ipython",
    "version": 3
   },
   "file_extension": ".py",
   "mimetype": "text/x-python",
   "name": "python",
   "nbconvert_exporter": "python",
   "pygments_lexer": "ipython3",
   "version": "3.10.13"
  },
  "papermill": {
   "default_parameters": {},
   "duration": 21.633551,
   "end_time": "2024-07-26T08:03:01.243451",
   "environment_variables": {},
   "exception": null,
   "input_path": "__notebook__.ipynb",
   "output_path": "__notebook__.ipynb",
   "parameters": {},
   "start_time": "2024-07-26T08:02:39.609900",
   "version": "2.5.0"
  }
 },
 "nbformat": 4,
 "nbformat_minor": 5
}

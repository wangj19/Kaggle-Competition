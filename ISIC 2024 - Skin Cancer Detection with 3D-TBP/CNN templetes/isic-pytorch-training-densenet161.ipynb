{
 "cells": [
  {
   "cell_type": "markdown",
   "id": "8260c7ba",
   "metadata": {
    "papermill": {
     "duration": 0.013717,
     "end_time": "2024-07-26T00:28:08.439319",
     "exception": false,
     "start_time": "2024-07-26T00:28:08.425602",
     "status": "completed"
    },
    "tags": []
   },
   "source": [
    "# <span><h1 style = \"font-family: garamond; font-size: 40px; font-style: normal; letter-spcaing: 3px; background-color: #f6f5f5; color :#fe346e; border-radius: 100px 100px; text-align:center\">Import Required Libraries 📚</h1></span>"
   ]
  },
  {
   "cell_type": "code",
   "execution_count": 1,
   "id": "30b09c62",
   "metadata": {
    "execution": {
     "iopub.execute_input": "2024-07-26T00:28:08.467475Z",
     "iopub.status.busy": "2024-07-26T00:28:08.466739Z",
     "iopub.status.idle": "2024-07-26T00:28:22.485792Z",
     "shell.execute_reply": "2024-07-26T00:28:22.484878Z"
    },
    "papermill": {
     "duration": 14.035613,
     "end_time": "2024-07-26T00:28:22.488158",
     "exception": false,
     "start_time": "2024-07-26T00:28:08.452545",
     "status": "completed"
    },
    "tags": []
   },
   "outputs": [
    {
     "name": "stdout",
     "output_type": "stream",
     "text": [
      "Collecting torcheval\r\n",
      "  Downloading torcheval-0.0.7-py3-none-any.whl.metadata (8.6 kB)\r\n",
      "Requirement already satisfied: typing-extensions in /opt/conda/lib/python3.10/site-packages (from torcheval) (4.9.0)\r\n",
      "Downloading torcheval-0.0.7-py3-none-any.whl (179 kB)\r\n",
      "\u001b[2K   \u001b[90m━━━━━━━━━━━━━━━━━━━━━━━━━━━━━━━━━━━━━━━━\u001b[0m \u001b[32m179.2/179.2 kB\u001b[0m \u001b[31m5.6 MB/s\u001b[0m eta \u001b[36m0:00:00\u001b[0m\r\n",
      "\u001b[?25hInstalling collected packages: torcheval\r\n",
      "Successfully installed torcheval-0.0.7\r\n"
     ]
    }
   ],
   "source": [
    "!pip install torcheval"
   ]
  },
  {
   "cell_type": "code",
   "execution_count": 2,
   "id": "31b294c5",
   "metadata": {
    "execution": {
     "iopub.execute_input": "2024-07-26T00:28:22.517333Z",
     "iopub.status.busy": "2024-07-26T00:28:22.516996Z",
     "iopub.status.idle": "2024-07-26T00:28:31.816904Z",
     "shell.execute_reply": "2024-07-26T00:28:31.816104Z"
    },
    "papermill": {
     "duration": 9.316866,
     "end_time": "2024-07-26T00:28:31.819180",
     "exception": false,
     "start_time": "2024-07-26T00:28:22.502314",
     "status": "completed"
    },
    "tags": []
   },
   "outputs": [],
   "source": [
    "import os\n",
    "import gc\n",
    "import cv2\n",
    "import math\n",
    "import copy\n",
    "import time\n",
    "import random\n",
    "import glob\n",
    "from matplotlib import pyplot as plt\n",
    "\n",
    "# For data manipulation\n",
    "import numpy as np\n",
    "import pandas as pd\n",
    "\n",
    "# Pytorch Imports\n",
    "import torch\n",
    "import torch.nn as nn\n",
    "import torch.optim as optim\n",
    "import torch.nn.functional as F\n",
    "from torch.optim import lr_scheduler\n",
    "from torch.utils.data import Dataset, DataLoader\n",
    "from torch.cuda import amp\n",
    "import torchvision\n",
    "from torcheval.metrics.functional import binary_auroc\n",
    "\n",
    "# Utils\n",
    "import joblib\n",
    "from tqdm import tqdm\n",
    "from collections import defaultdict\n",
    "\n",
    "# Sklearn Imports\n",
    "from sklearn.preprocessing import LabelEncoder\n",
    "from sklearn.model_selection import StratifiedKFold, StratifiedGroupKFold \n",
    "\n",
    "# For Image Models\n",
    "import timm\n",
    "\n",
    "# Albumentations for augmentations\n",
    "import albumentations as A\n",
    "from albumentations.pytorch import ToTensorV2\n",
    "\n",
    "# For colored terminal text\n",
    "from colorama import Fore, Back, Style\n",
    "b_ = Fore.BLUE\n",
    "sr_ = Style.RESET_ALL\n",
    "\n",
    "import warnings\n",
    "warnings.filterwarnings(\"ignore\")\n",
    "\n",
    "# For descriptive error messages\n",
    "os.environ['CUDA_LAUNCH_BLOCKING'] = \"1\""
   ]
  },
  {
   "cell_type": "markdown",
   "id": "54633d40",
   "metadata": {
    "papermill": {
     "duration": 0.013667,
     "end_time": "2024-07-26T00:28:31.847674",
     "exception": false,
     "start_time": "2024-07-26T00:28:31.834007",
     "status": "completed"
    },
    "tags": []
   },
   "source": [
    "# <span><h1 style = \"font-family: garamond; font-size: 40px; font-style: normal; letter-spcaing: 3px; background-color: #f6f5f5; color :#fe346e; border-radius: 100px 100px; text-align:center\">Training Configuration ⚙️</h1></span>"
   ]
  },
  {
   "cell_type": "code",
   "execution_count": 3,
   "id": "654e96a0",
   "metadata": {
    "execution": {
     "iopub.execute_input": "2024-07-26T00:28:31.876212Z",
     "iopub.status.busy": "2024-07-26T00:28:31.875724Z",
     "iopub.status.idle": "2024-07-26T00:28:31.939004Z",
     "shell.execute_reply": "2024-07-26T00:28:31.938184Z"
    },
    "papermill": {
     "duration": 0.079699,
     "end_time": "2024-07-26T00:28:31.940927",
     "exception": false,
     "start_time": "2024-07-26T00:28:31.861228",
     "status": "completed"
    },
    "tags": []
   },
   "outputs": [],
   "source": [
    "CONFIG = {\n",
    "    \"seed\": 42,\n",
    "    \"epochs\": 30,\n",
    "    \"img_size\": 384,\n",
    "    \"model_name\": \"densenet161.tv_in1k\",\n",
    "    \"checkpoint_path\" : \"/kaggle/input/tf-efficientnet/pytorch/tf-efficientnet-b0/1/tf_efficientnet_b0_aa-827b6e33.pth\",\n",
    "    \"train_batch_size\": 16,\n",
    "    \"valid_batch_size\": 64,\n",
    "    \"learning_rate\": 1e-4,\n",
    "    \"scheduler\": 'CosineAnnealingLR',\n",
    "    \"min_lr\": 1e-6,\n",
    "    \"T_max\": 500,\n",
    "    \"weight_decay\": 1e-6,\n",
    "    \"fold\" : 0,\n",
    "    \"n_fold\": 5,\n",
    "    \"n_accumulate\": 1,\n",
    "    \"device\": torch.device(\"cuda:0\" if torch.cuda.is_available() else \"cpu\"),\n",
    "}"
   ]
  },
  {
   "cell_type": "markdown",
   "id": "44fe0688",
   "metadata": {
    "papermill": {
     "duration": 0.013153,
     "end_time": "2024-07-26T00:28:31.967677",
     "exception": false,
     "start_time": "2024-07-26T00:28:31.954524",
     "status": "completed"
    },
    "tags": []
   },
   "source": [
    "# <span><h1 style = \"font-family: garamond; font-size: 40px; font-style: normal; letter-spcaing: 3px; background-color: #f6f5f5; color :#fe346e; border-radius: 100px 100px; text-align:center\">Set Seed for Reproducibility</h1></span>"
   ]
  },
  {
   "cell_type": "code",
   "execution_count": 4,
   "id": "e2c10035",
   "metadata": {
    "execution": {
     "iopub.execute_input": "2024-07-26T00:28:31.996075Z",
     "iopub.status.busy": "2024-07-26T00:28:31.995518Z",
     "iopub.status.idle": "2024-07-26T00:28:32.003895Z",
     "shell.execute_reply": "2024-07-26T00:28:32.003037Z"
    },
    "papermill": {
     "duration": 0.024589,
     "end_time": "2024-07-26T00:28:32.005829",
     "exception": false,
     "start_time": "2024-07-26T00:28:31.981240",
     "status": "completed"
    },
    "tags": []
   },
   "outputs": [],
   "source": [
    "def set_seed(seed=42):\n",
    "    '''Sets the seed of the entire notebook so results are the same every time we run.\n",
    "    This is for REPRODUCIBILITY.'''\n",
    "    np.random.seed(seed)\n",
    "    torch.manual_seed(seed)\n",
    "    torch.cuda.manual_seed(seed)\n",
    "    # When running on the CuDNN backend, two further options must be set\n",
    "    torch.backends.cudnn.deterministic = True\n",
    "    torch.backends.cudnn.benchmark = False\n",
    "    # Set a fixed value for the hash seed\n",
    "    os.environ['PYTHONHASHSEED'] = str(seed)\n",
    "    \n",
    "set_seed(CONFIG['seed'])"
   ]
  },
  {
   "cell_type": "code",
   "execution_count": 5,
   "id": "3e40a13c",
   "metadata": {
    "execution": {
     "iopub.execute_input": "2024-07-26T00:28:32.033868Z",
     "iopub.status.busy": "2024-07-26T00:28:32.033158Z",
     "iopub.status.idle": "2024-07-26T00:28:32.037216Z",
     "shell.execute_reply": "2024-07-26T00:28:32.036373Z"
    },
    "papermill": {
     "duration": 0.019927,
     "end_time": "2024-07-26T00:28:32.039052",
     "exception": false,
     "start_time": "2024-07-26T00:28:32.019125",
     "status": "completed"
    },
    "tags": []
   },
   "outputs": [],
   "source": [
    "ROOT_DIR = \"/kaggle/input/isic-2024-challenge\"\n",
    "TRAIN_DIR = f'{ROOT_DIR}/train-image/image'"
   ]
  },
  {
   "cell_type": "code",
   "execution_count": 6,
   "id": "a8e4229f",
   "metadata": {
    "execution": {
     "iopub.execute_input": "2024-07-26T00:28:32.066851Z",
     "iopub.status.busy": "2024-07-26T00:28:32.066330Z",
     "iopub.status.idle": "2024-07-26T00:28:32.070189Z",
     "shell.execute_reply": "2024-07-26T00:28:32.069392Z"
    },
    "papermill": {
     "duration": 0.019814,
     "end_time": "2024-07-26T00:28:32.072095",
     "exception": false,
     "start_time": "2024-07-26T00:28:32.052281",
     "status": "completed"
    },
    "tags": []
   },
   "outputs": [],
   "source": [
    "def get_train_file_path(image_id):\n",
    "    return f\"{TRAIN_DIR}/{image_id}.jpg\""
   ]
  },
  {
   "cell_type": "markdown",
   "id": "b734593f",
   "metadata": {
    "papermill": {
     "duration": 0.012997,
     "end_time": "2024-07-26T00:28:32.098338",
     "exception": false,
     "start_time": "2024-07-26T00:28:32.085341",
     "status": "completed"
    },
    "tags": []
   },
   "source": [
    "# <h1 style = \"font-family: garamond; font-size: 40px; font-style: normal; letter-spcaing: 3px; background-color: #f6f5f5; color :#fe346e; border-radius: 100px 100px; text-align:center\">Read the Data 📖</h1>"
   ]
  },
  {
   "cell_type": "code",
   "execution_count": 7,
   "id": "e619d075",
   "metadata": {
    "execution": {
     "iopub.execute_input": "2024-07-26T00:28:32.126135Z",
     "iopub.status.busy": "2024-07-26T00:28:32.125663Z",
     "iopub.status.idle": "2024-07-26T00:28:36.371436Z",
     "shell.execute_reply": "2024-07-26T00:28:36.370663Z"
    },
    "papermill": {
     "duration": 4.262183,
     "end_time": "2024-07-26T00:28:36.373748",
     "exception": false,
     "start_time": "2024-07-26T00:28:32.111565",
     "status": "completed"
    },
    "tags": []
   },
   "outputs": [],
   "source": [
    "train_images = sorted(glob.glob(f\"{TRAIN_DIR}/*.jpg\"))"
   ]
  },
  {
   "cell_type": "code",
   "execution_count": 8,
   "id": "a2ce7589",
   "metadata": {
    "execution": {
     "iopub.execute_input": "2024-07-26T00:28:36.402788Z",
     "iopub.status.busy": "2024-07-26T00:28:36.402029Z",
     "iopub.status.idle": "2024-07-26T00:28:44.167416Z",
     "shell.execute_reply": "2024-07-26T00:28:44.166489Z"
    },
    "papermill": {
     "duration": 7.782285,
     "end_time": "2024-07-26T00:28:44.169813",
     "exception": false,
     "start_time": "2024-07-26T00:28:36.387528",
     "status": "completed"
    },
    "tags": []
   },
   "outputs": [
    {
     "name": "stdout",
     "output_type": "stream",
     "text": [
      "        df.shape, # of positive cases, # of patients\n",
      "original> (401059, 55) 393 (1042,)\n",
      "filtered> (8253, 55) 393 (950,)\n"
     ]
    },
    {
     "data": {
      "text/html": [
       "<div>\n",
       "<style scoped>\n",
       "    .dataframe tbody tr th:only-of-type {\n",
       "        vertical-align: middle;\n",
       "    }\n",
       "\n",
       "    .dataframe tbody tr th {\n",
       "        vertical-align: top;\n",
       "    }\n",
       "\n",
       "    .dataframe thead th {\n",
       "        text-align: right;\n",
       "    }\n",
       "</style>\n",
       "<table border=\"1\" class=\"dataframe\">\n",
       "  <thead>\n",
       "    <tr style=\"text-align: right;\">\n",
       "      <th></th>\n",
       "      <th>isic_id</th>\n",
       "      <th>target</th>\n",
       "      <th>patient_id</th>\n",
       "      <th>age_approx</th>\n",
       "      <th>sex</th>\n",
       "      <th>anatom_site_general</th>\n",
       "      <th>clin_size_long_diam_mm</th>\n",
       "      <th>image_type</th>\n",
       "      <th>tbp_tile_type</th>\n",
       "      <th>tbp_lv_A</th>\n",
       "      <th>...</th>\n",
       "      <th>iddx_full</th>\n",
       "      <th>iddx_1</th>\n",
       "      <th>iddx_2</th>\n",
       "      <th>iddx_3</th>\n",
       "      <th>iddx_4</th>\n",
       "      <th>iddx_5</th>\n",
       "      <th>mel_mitotic_index</th>\n",
       "      <th>mel_thick_mm</th>\n",
       "      <th>tbp_lv_dnn_lesion_confidence</th>\n",
       "      <th>file_path</th>\n",
       "    </tr>\n",
       "  </thead>\n",
       "  <tbody>\n",
       "    <tr>\n",
       "      <th>0</th>\n",
       "      <td>ISIC_0082829</td>\n",
       "      <td>1</td>\n",
       "      <td>IP_3249371</td>\n",
       "      <td>80.0</td>\n",
       "      <td>female</td>\n",
       "      <td>anterior torso</td>\n",
       "      <td>9.27</td>\n",
       "      <td>TBP tile: close-up</td>\n",
       "      <td>3D: XP</td>\n",
       "      <td>18.093368</td>\n",
       "      <td>...</td>\n",
       "      <td>Malignant::Malignant epidermal proliferations:...</td>\n",
       "      <td>Malignant</td>\n",
       "      <td>Malignant epidermal proliferations</td>\n",
       "      <td>Squamous cell carcinoma in situ</td>\n",
       "      <td>NaN</td>\n",
       "      <td>NaN</td>\n",
       "      <td>NaN</td>\n",
       "      <td>NaN</td>\n",
       "      <td>72.211683</td>\n",
       "      <td>/kaggle/input/isic-2024-challenge/train-image/...</td>\n",
       "    </tr>\n",
       "    <tr>\n",
       "      <th>1</th>\n",
       "      <td>ISIC_0096034</td>\n",
       "      <td>1</td>\n",
       "      <td>IP_6723298</td>\n",
       "      <td>75.0</td>\n",
       "      <td>male</td>\n",
       "      <td>head/neck</td>\n",
       "      <td>3.88</td>\n",
       "      <td>TBP tile: close-up</td>\n",
       "      <td>3D: white</td>\n",
       "      <td>26.187010</td>\n",
       "      <td>...</td>\n",
       "      <td>Malignant::Malignant adnexal epithelial prolif...</td>\n",
       "      <td>Malignant</td>\n",
       "      <td>Malignant adnexal epithelial proliferations - ...</td>\n",
       "      <td>Basal cell carcinoma</td>\n",
       "      <td>Basal cell carcinoma, Nodular</td>\n",
       "      <td>NaN</td>\n",
       "      <td>NaN</td>\n",
       "      <td>NaN</td>\n",
       "      <td>94.559590</td>\n",
       "      <td>/kaggle/input/isic-2024-challenge/train-image/...</td>\n",
       "    </tr>\n",
       "    <tr>\n",
       "      <th>2</th>\n",
       "      <td>ISIC_0104229</td>\n",
       "      <td>1</td>\n",
       "      <td>IP_9057861</td>\n",
       "      <td>80.0</td>\n",
       "      <td>male</td>\n",
       "      <td>anterior torso</td>\n",
       "      <td>6.55</td>\n",
       "      <td>TBP tile: close-up</td>\n",
       "      <td>3D: white</td>\n",
       "      <td>33.480140</td>\n",
       "      <td>...</td>\n",
       "      <td>Malignant::Malignant adnexal epithelial prolif...</td>\n",
       "      <td>Malignant</td>\n",
       "      <td>Malignant adnexal epithelial proliferations - ...</td>\n",
       "      <td>Basal cell carcinoma</td>\n",
       "      <td>Basal cell carcinoma, Nodular</td>\n",
       "      <td>NaN</td>\n",
       "      <td>NaN</td>\n",
       "      <td>NaN</td>\n",
       "      <td>66.196170</td>\n",
       "      <td>/kaggle/input/isic-2024-challenge/train-image/...</td>\n",
       "    </tr>\n",
       "    <tr>\n",
       "      <th>3</th>\n",
       "      <td>ISIC_0119495</td>\n",
       "      <td>1</td>\n",
       "      <td>IP_6856511</td>\n",
       "      <td>60.0</td>\n",
       "      <td>male</td>\n",
       "      <td>upper extremity</td>\n",
       "      <td>5.27</td>\n",
       "      <td>TBP tile: close-up</td>\n",
       "      <td>3D: white</td>\n",
       "      <td>25.872050</td>\n",
       "      <td>...</td>\n",
       "      <td>Malignant::Malignant epidermal proliferations:...</td>\n",
       "      <td>Malignant</td>\n",
       "      <td>Malignant epidermal proliferations</td>\n",
       "      <td>Squamous cell carcinoma, Invasive</td>\n",
       "      <td>NaN</td>\n",
       "      <td>NaN</td>\n",
       "      <td>NaN</td>\n",
       "      <td>NaN</td>\n",
       "      <td>99.991270</td>\n",
       "      <td>/kaggle/input/isic-2024-challenge/train-image/...</td>\n",
       "    </tr>\n",
       "    <tr>\n",
       "      <th>4</th>\n",
       "      <td>ISIC_0157834</td>\n",
       "      <td>1</td>\n",
       "      <td>IP_3927284</td>\n",
       "      <td>55.0</td>\n",
       "      <td>male</td>\n",
       "      <td>posterior torso</td>\n",
       "      <td>5.29</td>\n",
       "      <td>TBP tile: close-up</td>\n",
       "      <td>3D: white</td>\n",
       "      <td>30.966662</td>\n",
       "      <td>...</td>\n",
       "      <td>Malignant::Malignant adnexal epithelial prolif...</td>\n",
       "      <td>Malignant</td>\n",
       "      <td>Malignant adnexal epithelial proliferations - ...</td>\n",
       "      <td>Basal cell carcinoma</td>\n",
       "      <td>Basal cell carcinoma, Superficial</td>\n",
       "      <td>NaN</td>\n",
       "      <td>NaN</td>\n",
       "      <td>NaN</td>\n",
       "      <td>99.960846</td>\n",
       "      <td>/kaggle/input/isic-2024-challenge/train-image/...</td>\n",
       "    </tr>\n",
       "    <tr>\n",
       "      <th>...</th>\n",
       "      <td>...</td>\n",
       "      <td>...</td>\n",
       "      <td>...</td>\n",
       "      <td>...</td>\n",
       "      <td>...</td>\n",
       "      <td>...</td>\n",
       "      <td>...</td>\n",
       "      <td>...</td>\n",
       "      <td>...</td>\n",
       "      <td>...</td>\n",
       "      <td>...</td>\n",
       "      <td>...</td>\n",
       "      <td>...</td>\n",
       "      <td>...</td>\n",
       "      <td>...</td>\n",
       "      <td>...</td>\n",
       "      <td>...</td>\n",
       "      <td>...</td>\n",
       "      <td>...</td>\n",
       "      <td>...</td>\n",
       "      <td>...</td>\n",
       "    </tr>\n",
       "    <tr>\n",
       "      <th>8248</th>\n",
       "      <td>ISIC_0267522</td>\n",
       "      <td>0</td>\n",
       "      <td>IP_9577633</td>\n",
       "      <td>50.0</td>\n",
       "      <td>male</td>\n",
       "      <td>lower extremity</td>\n",
       "      <td>4.94</td>\n",
       "      <td>TBP tile: close-up</td>\n",
       "      <td>3D: XP</td>\n",
       "      <td>21.738880</td>\n",
       "      <td>...</td>\n",
       "      <td>Benign</td>\n",
       "      <td>Benign</td>\n",
       "      <td>NaN</td>\n",
       "      <td>NaN</td>\n",
       "      <td>NaN</td>\n",
       "      <td>NaN</td>\n",
       "      <td>NaN</td>\n",
       "      <td>NaN</td>\n",
       "      <td>96.325510</td>\n",
       "      <td>/kaggle/input/isic-2024-challenge/train-image/...</td>\n",
       "    </tr>\n",
       "    <tr>\n",
       "      <th>8249</th>\n",
       "      <td>ISIC_0267560</td>\n",
       "      <td>0</td>\n",
       "      <td>IP_7746572</td>\n",
       "      <td>80.0</td>\n",
       "      <td>male</td>\n",
       "      <td>anterior torso</td>\n",
       "      <td>9.32</td>\n",
       "      <td>TBP tile: close-up</td>\n",
       "      <td>3D: white</td>\n",
       "      <td>18.481750</td>\n",
       "      <td>...</td>\n",
       "      <td>Benign</td>\n",
       "      <td>Benign</td>\n",
       "      <td>NaN</td>\n",
       "      <td>NaN</td>\n",
       "      <td>NaN</td>\n",
       "      <td>NaN</td>\n",
       "      <td>NaN</td>\n",
       "      <td>NaN</td>\n",
       "      <td>97.022320</td>\n",
       "      <td>/kaggle/input/isic-2024-challenge/train-image/...</td>\n",
       "    </tr>\n",
       "    <tr>\n",
       "      <th>8250</th>\n",
       "      <td>ISIC_0267568</td>\n",
       "      <td>0</td>\n",
       "      <td>IP_0379091</td>\n",
       "      <td>60.0</td>\n",
       "      <td>male</td>\n",
       "      <td>anterior torso</td>\n",
       "      <td>3.45</td>\n",
       "      <td>TBP tile: close-up</td>\n",
       "      <td>3D: white</td>\n",
       "      <td>13.901465</td>\n",
       "      <td>...</td>\n",
       "      <td>Benign</td>\n",
       "      <td>Benign</td>\n",
       "      <td>NaN</td>\n",
       "      <td>NaN</td>\n",
       "      <td>NaN</td>\n",
       "      <td>NaN</td>\n",
       "      <td>NaN</td>\n",
       "      <td>NaN</td>\n",
       "      <td>72.961688</td>\n",
       "      <td>/kaggle/input/isic-2024-challenge/train-image/...</td>\n",
       "    </tr>\n",
       "    <tr>\n",
       "      <th>8251</th>\n",
       "      <td>ISIC_0267594</td>\n",
       "      <td>0</td>\n",
       "      <td>IP_1433033</td>\n",
       "      <td>70.0</td>\n",
       "      <td>NaN</td>\n",
       "      <td>lower extremity</td>\n",
       "      <td>3.00</td>\n",
       "      <td>TBP tile: close-up</td>\n",
       "      <td>3D: XP</td>\n",
       "      <td>17.986882</td>\n",
       "      <td>...</td>\n",
       "      <td>Benign</td>\n",
       "      <td>Benign</td>\n",
       "      <td>NaN</td>\n",
       "      <td>NaN</td>\n",
       "      <td>NaN</td>\n",
       "      <td>NaN</td>\n",
       "      <td>NaN</td>\n",
       "      <td>NaN</td>\n",
       "      <td>99.899274</td>\n",
       "      <td>/kaggle/input/isic-2024-challenge/train-image/...</td>\n",
       "    </tr>\n",
       "    <tr>\n",
       "      <th>8252</th>\n",
       "      <td>ISIC_0267606</td>\n",
       "      <td>0</td>\n",
       "      <td>IP_8565023</td>\n",
       "      <td>30.0</td>\n",
       "      <td>male</td>\n",
       "      <td>head/neck</td>\n",
       "      <td>3.10</td>\n",
       "      <td>TBP tile: close-up</td>\n",
       "      <td>3D: XP</td>\n",
       "      <td>13.420060</td>\n",
       "      <td>...</td>\n",
       "      <td>Benign</td>\n",
       "      <td>Benign</td>\n",
       "      <td>NaN</td>\n",
       "      <td>NaN</td>\n",
       "      <td>NaN</td>\n",
       "      <td>NaN</td>\n",
       "      <td>NaN</td>\n",
       "      <td>NaN</td>\n",
       "      <td>99.449560</td>\n",
       "      <td>/kaggle/input/isic-2024-challenge/train-image/...</td>\n",
       "    </tr>\n",
       "  </tbody>\n",
       "</table>\n",
       "<p>8253 rows × 56 columns</p>\n",
       "</div>"
      ],
      "text/plain": [
       "           isic_id  target  patient_id  age_approx     sex  \\\n",
       "0     ISIC_0082829       1  IP_3249371        80.0  female   \n",
       "1     ISIC_0096034       1  IP_6723298        75.0    male   \n",
       "2     ISIC_0104229       1  IP_9057861        80.0    male   \n",
       "3     ISIC_0119495       1  IP_6856511        60.0    male   \n",
       "4     ISIC_0157834       1  IP_3927284        55.0    male   \n",
       "...            ...     ...         ...         ...     ...   \n",
       "8248  ISIC_0267522       0  IP_9577633        50.0    male   \n",
       "8249  ISIC_0267560       0  IP_7746572        80.0    male   \n",
       "8250  ISIC_0267568       0  IP_0379091        60.0    male   \n",
       "8251  ISIC_0267594       0  IP_1433033        70.0     NaN   \n",
       "8252  ISIC_0267606       0  IP_8565023        30.0    male   \n",
       "\n",
       "     anatom_site_general  clin_size_long_diam_mm          image_type  \\\n",
       "0         anterior torso                    9.27  TBP tile: close-up   \n",
       "1              head/neck                    3.88  TBP tile: close-up   \n",
       "2         anterior torso                    6.55  TBP tile: close-up   \n",
       "3        upper extremity                    5.27  TBP tile: close-up   \n",
       "4        posterior torso                    5.29  TBP tile: close-up   \n",
       "...                  ...                     ...                 ...   \n",
       "8248     lower extremity                    4.94  TBP tile: close-up   \n",
       "8249      anterior torso                    9.32  TBP tile: close-up   \n",
       "8250      anterior torso                    3.45  TBP tile: close-up   \n",
       "8251     lower extremity                    3.00  TBP tile: close-up   \n",
       "8252           head/neck                    3.10  TBP tile: close-up   \n",
       "\n",
       "     tbp_tile_type   tbp_lv_A  ...  \\\n",
       "0           3D: XP  18.093368  ...   \n",
       "1        3D: white  26.187010  ...   \n",
       "2        3D: white  33.480140  ...   \n",
       "3        3D: white  25.872050  ...   \n",
       "4        3D: white  30.966662  ...   \n",
       "...            ...        ...  ...   \n",
       "8248        3D: XP  21.738880  ...   \n",
       "8249     3D: white  18.481750  ...   \n",
       "8250     3D: white  13.901465  ...   \n",
       "8251        3D: XP  17.986882  ...   \n",
       "8252        3D: XP  13.420060  ...   \n",
       "\n",
       "                                              iddx_full     iddx_1  \\\n",
       "0     Malignant::Malignant epidermal proliferations:...  Malignant   \n",
       "1     Malignant::Malignant adnexal epithelial prolif...  Malignant   \n",
       "2     Malignant::Malignant adnexal epithelial prolif...  Malignant   \n",
       "3     Malignant::Malignant epidermal proliferations:...  Malignant   \n",
       "4     Malignant::Malignant adnexal epithelial prolif...  Malignant   \n",
       "...                                                 ...        ...   \n",
       "8248                                             Benign     Benign   \n",
       "8249                                             Benign     Benign   \n",
       "8250                                             Benign     Benign   \n",
       "8251                                             Benign     Benign   \n",
       "8252                                             Benign     Benign   \n",
       "\n",
       "                                                 iddx_2  \\\n",
       "0                    Malignant epidermal proliferations   \n",
       "1     Malignant adnexal epithelial proliferations - ...   \n",
       "2     Malignant adnexal epithelial proliferations - ...   \n",
       "3                    Malignant epidermal proliferations   \n",
       "4     Malignant adnexal epithelial proliferations - ...   \n",
       "...                                                 ...   \n",
       "8248                                                NaN   \n",
       "8249                                                NaN   \n",
       "8250                                                NaN   \n",
       "8251                                                NaN   \n",
       "8252                                                NaN   \n",
       "\n",
       "                                 iddx_3                             iddx_4  \\\n",
       "0       Squamous cell carcinoma in situ                                NaN   \n",
       "1                  Basal cell carcinoma      Basal cell carcinoma, Nodular   \n",
       "2                  Basal cell carcinoma      Basal cell carcinoma, Nodular   \n",
       "3     Squamous cell carcinoma, Invasive                                NaN   \n",
       "4                  Basal cell carcinoma  Basal cell carcinoma, Superficial   \n",
       "...                                 ...                                ...   \n",
       "8248                                NaN                                NaN   \n",
       "8249                                NaN                                NaN   \n",
       "8250                                NaN                                NaN   \n",
       "8251                                NaN                                NaN   \n",
       "8252                                NaN                                NaN   \n",
       "\n",
       "      iddx_5  mel_mitotic_index  mel_thick_mm  tbp_lv_dnn_lesion_confidence  \\\n",
       "0        NaN                NaN           NaN                     72.211683   \n",
       "1        NaN                NaN           NaN                     94.559590   \n",
       "2        NaN                NaN           NaN                     66.196170   \n",
       "3        NaN                NaN           NaN                     99.991270   \n",
       "4        NaN                NaN           NaN                     99.960846   \n",
       "...      ...                ...           ...                           ...   \n",
       "8248     NaN                NaN           NaN                     96.325510   \n",
       "8249     NaN                NaN           NaN                     97.022320   \n",
       "8250     NaN                NaN           NaN                     72.961688   \n",
       "8251     NaN                NaN           NaN                     99.899274   \n",
       "8252     NaN                NaN           NaN                     99.449560   \n",
       "\n",
       "                                              file_path  \n",
       "0     /kaggle/input/isic-2024-challenge/train-image/...  \n",
       "1     /kaggle/input/isic-2024-challenge/train-image/...  \n",
       "2     /kaggle/input/isic-2024-challenge/train-image/...  \n",
       "3     /kaggle/input/isic-2024-challenge/train-image/...  \n",
       "4     /kaggle/input/isic-2024-challenge/train-image/...  \n",
       "...                                                 ...  \n",
       "8248  /kaggle/input/isic-2024-challenge/train-image/...  \n",
       "8249  /kaggle/input/isic-2024-challenge/train-image/...  \n",
       "8250  /kaggle/input/isic-2024-challenge/train-image/...  \n",
       "8251  /kaggle/input/isic-2024-challenge/train-image/...  \n",
       "8252  /kaggle/input/isic-2024-challenge/train-image/...  \n",
       "\n",
       "[8253 rows x 56 columns]"
      ]
     },
     "execution_count": 8,
     "metadata": {},
     "output_type": "execute_result"
    }
   ],
   "source": [
    "df = pd.read_csv(f\"{ROOT_DIR}/train-metadata.csv\")\n",
    "\n",
    "print(\"        df.shape, # of positive cases, # of patients\")\n",
    "print(\"original>\", df.shape, df.target.sum(), df[\"patient_id\"].unique().shape)\n",
    "\n",
    "df_positive = df[df[\"target\"] == 1].reset_index(drop=True)\n",
    "df_negative = df[df[\"target\"] == 0].reset_index(drop=True)\n",
    "\n",
    "df = pd.concat([df_positive, df_negative.iloc[:df_positive.shape[0]*20, :]])  # positive:negative = 1:20\n",
    "print(\"filtered>\", df.shape, df.target.sum(), df[\"patient_id\"].unique().shape)\n",
    "\n",
    "df['file_path'] = df['isic_id'].apply(get_train_file_path)\n",
    "df = df[ df[\"file_path\"].isin(train_images) ].reset_index(drop=True)\n",
    "df"
   ]
  },
  {
   "cell_type": "code",
   "execution_count": 9,
   "id": "30ae444a",
   "metadata": {
    "execution": {
     "iopub.execute_input": "2024-07-26T00:28:44.199680Z",
     "iopub.status.busy": "2024-07-26T00:28:44.199174Z",
     "iopub.status.idle": "2024-07-26T00:28:44.205251Z",
     "shell.execute_reply": "2024-07-26T00:28:44.204470Z"
    },
    "papermill": {
     "duration": 0.022851,
     "end_time": "2024-07-26T00:28:44.207096",
     "exception": false,
     "start_time": "2024-07-26T00:28:44.184245",
     "status": "completed"
    },
    "tags": []
   },
   "outputs": [
    {
     "data": {
      "text/plain": [
       "(8253, 393)"
      ]
     },
     "execution_count": 9,
     "metadata": {},
     "output_type": "execute_result"
    }
   ],
   "source": [
    "df.shape[0], df.target.sum()"
   ]
  },
  {
   "cell_type": "code",
   "execution_count": 10,
   "id": "cd2210de",
   "metadata": {
    "execution": {
     "iopub.execute_input": "2024-07-26T00:28:44.236552Z",
     "iopub.status.busy": "2024-07-26T00:28:44.236243Z",
     "iopub.status.idle": "2024-07-26T00:28:44.242097Z",
     "shell.execute_reply": "2024-07-26T00:28:44.241290Z"
    },
    "papermill": {
     "duration": 0.022762,
     "end_time": "2024-07-26T00:28:44.244094",
     "exception": false,
     "start_time": "2024-07-26T00:28:44.221332",
     "status": "completed"
    },
    "tags": []
   },
   "outputs": [
    {
     "data": {
      "text/plain": [
       "12379"
      ]
     },
     "execution_count": 10,
     "metadata": {},
     "output_type": "execute_result"
    }
   ],
   "source": [
    "CONFIG['T_max'] = df.shape[0] * (CONFIG[\"n_fold\"]-1) * CONFIG['epochs'] // CONFIG['train_batch_size'] // CONFIG[\"n_fold\"]\n",
    "CONFIG['T_max']"
   ]
  },
  {
   "cell_type": "markdown",
   "id": "ffda1b5a",
   "metadata": {
    "papermill": {
     "duration": 0.014126,
     "end_time": "2024-07-26T00:28:44.272807",
     "exception": false,
     "start_time": "2024-07-26T00:28:44.258681",
     "status": "completed"
    },
    "tags": []
   },
   "source": [
    "# <span><h1 style = \"font-family: garamond; font-size: 40px; font-style: normal; letter-spcaing: 3px; background-color: #f6f5f5; color :#fe346e; border-radius: 100px 100px; text-align:center\">Create Folds</h1></span>"
   ]
  },
  {
   "cell_type": "code",
   "execution_count": 11,
   "id": "a219f979",
   "metadata": {
    "execution": {
     "iopub.execute_input": "2024-07-26T00:28:44.302413Z",
     "iopub.status.busy": "2024-07-26T00:28:44.302171Z",
     "iopub.status.idle": "2024-07-26T00:28:44.737083Z",
     "shell.execute_reply": "2024-07-26T00:28:44.736390Z"
    },
    "papermill": {
     "duration": 0.45194,
     "end_time": "2024-07-26T00:28:44.739081",
     "exception": false,
     "start_time": "2024-07-26T00:28:44.287141",
     "status": "completed"
    },
    "tags": []
   },
   "outputs": [],
   "source": [
    "sgkf = StratifiedGroupKFold(n_splits=CONFIG['n_fold'])\n",
    "\n",
    "for fold, ( _, val_) in enumerate(sgkf.split(df, df.target,df.patient_id)):\n",
    "      df.loc[val_ , \"kfold\"] = int(fold)"
   ]
  },
  {
   "cell_type": "markdown",
   "id": "bf229817",
   "metadata": {
    "papermill": {
     "duration": 0.014101,
     "end_time": "2024-07-26T00:28:44.767673",
     "exception": false,
     "start_time": "2024-07-26T00:28:44.753572",
     "status": "completed"
    },
    "tags": []
   },
   "source": [
    "# <span><h1 style = \"font-family: garamond; font-size: 40px; font-style: normal; letter-spcaing: 3px; background-color: #f6f5f5; color :#fe346e; border-radius: 100px 100px; text-align:center\">Dataset Class</h1></span>"
   ]
  },
  {
   "cell_type": "code",
   "execution_count": 12,
   "id": "c90bf2d2",
   "metadata": {
    "execution": {
     "iopub.execute_input": "2024-07-26T00:28:44.797658Z",
     "iopub.status.busy": "2024-07-26T00:28:44.797377Z",
     "iopub.status.idle": "2024-07-26T00:28:44.809316Z",
     "shell.execute_reply": "2024-07-26T00:28:44.808497Z"
    },
    "papermill": {
     "duration": 0.029362,
     "end_time": "2024-07-26T00:28:44.811301",
     "exception": false,
     "start_time": "2024-07-26T00:28:44.781939",
     "status": "completed"
    },
    "tags": []
   },
   "outputs": [],
   "source": [
    "class ISICDataset_for_Train(Dataset):\n",
    "    def __init__(self, df, transforms=None):\n",
    "        self.df_positive = df[df[\"target\"] == 1].reset_index()\n",
    "        self.df_negative = df[df[\"target\"] == 0].reset_index()\n",
    "        self.file_names_positive = self.df_positive['file_path'].values\n",
    "        self.file_names_negative = self.df_negative['file_path'].values\n",
    "        self.targets_positive = self.df_positive['target'].values\n",
    "        self.targets_negative = self.df_negative['target'].values\n",
    "        self.transforms = transforms\n",
    "        \n",
    "    def __len__(self):\n",
    "        return len(self.df_positive) * 2\n",
    "    \n",
    "    def __getitem__(self, index):\n",
    "        if random.random() >= 0.5:\n",
    "            df = self.df_positive\n",
    "            file_names = self.file_names_positive\n",
    "            targets = self.targets_positive\n",
    "        else:\n",
    "            df = self.df_negative\n",
    "            file_names = self.file_names_negative\n",
    "            targets = self.targets_negative\n",
    "        index = index % df.shape[0]\n",
    "        \n",
    "        img_path = file_names[index]\n",
    "        img = cv2.imread(img_path)\n",
    "        img = cv2.cvtColor(img, cv2.COLOR_BGR2RGB)\n",
    "        target = targets[index]\n",
    "        \n",
    "        if self.transforms:\n",
    "            img = self.transforms(image=img)[\"image\"]\n",
    "            \n",
    "        return {\n",
    "            'image': img,\n",
    "            'target': target\n",
    "        }\n",
    "    \n",
    "class ISICDataset(Dataset):\n",
    "    def __init__(self, df, transforms=None):\n",
    "        self.df = df\n",
    "        self.file_names = df['file_path'].values\n",
    "        self.targets = df['target'].values\n",
    "        self.transforms = transforms\n",
    "        \n",
    "    def __len__(self):\n",
    "        return len(self.df)\n",
    "    \n",
    "    def __getitem__(self, index):\n",
    "        img_path = self.file_names[index]\n",
    "        img = cv2.imread(img_path)\n",
    "        img = cv2.cvtColor(img, cv2.COLOR_BGR2RGB)\n",
    "        target = self.targets[index]\n",
    "        \n",
    "        if self.transforms:\n",
    "            img = self.transforms(image=img)[\"image\"]\n",
    "            \n",
    "        return {\n",
    "            'image': img,\n",
    "            'target': target\n",
    "        }"
   ]
  },
  {
   "cell_type": "markdown",
   "id": "dfd0863e",
   "metadata": {
    "papermill": {
     "duration": 0.014067,
     "end_time": "2024-07-26T00:28:44.839584",
     "exception": false,
     "start_time": "2024-07-26T00:28:44.825517",
     "status": "completed"
    },
    "tags": []
   },
   "source": [
    "# <span><h1 style = \"font-family: garamond; font-size: 40px; font-style: normal; letter-spcaing: 3px; background-color: #f6f5f5; color :#fe346e; border-radius: 100px 100px; text-align:center\">Augmentations</h1></span>"
   ]
  },
  {
   "cell_type": "code",
   "execution_count": 13,
   "id": "5392172e",
   "metadata": {
    "execution": {
     "iopub.execute_input": "2024-07-26T00:28:44.870359Z",
     "iopub.status.busy": "2024-07-26T00:28:44.870082Z",
     "iopub.status.idle": "2024-07-26T00:28:44.878685Z",
     "shell.execute_reply": "2024-07-26T00:28:44.877859Z"
    },
    "papermill": {
     "duration": 0.02557,
     "end_time": "2024-07-26T00:28:44.880478",
     "exception": false,
     "start_time": "2024-07-26T00:28:44.854908",
     "status": "completed"
    },
    "tags": []
   },
   "outputs": [],
   "source": [
    "data_transforms = {\n",
    "    \"train\": A.Compose([\n",
    "        A.Resize(CONFIG['img_size'], CONFIG['img_size']),\n",
    "        A.RandomRotate90(p=0.3),\n",
    "        A.Flip(p=0.3),\n",
    "        A.Downscale(p=0.15),\n",
    "        A.ShiftScaleRotate(shift_limit=0.1, \n",
    "                           scale_limit=0.15, \n",
    "                           rotate_limit=60, \n",
    "                           p=0.5),\n",
    "        A.HueSaturationValue(\n",
    "                hue_shift_limit=0.2, \n",
    "                sat_shift_limit=0.2, \n",
    "                val_shift_limit=0.2, \n",
    "                p=0.5\n",
    "            ),\n",
    "        A.RandomBrightnessContrast(\n",
    "                brightness_limit=(-0.1,0.1), \n",
    "                contrast_limit=(-0.1, 0.1), \n",
    "                p=0.5\n",
    "            ),\n",
    "        A.Normalize(\n",
    "                mean=[0.485, 0.456, 0.406], \n",
    "                std=[0.229, 0.224, 0.225], \n",
    "                max_pixel_value=255.0, \n",
    "                p=1.0\n",
    "            ),\n",
    "        ToTensorV2()], p=1.),\n",
    "    \n",
    "    \"valid\": A.Compose([\n",
    "        A.Resize(CONFIG['img_size'], CONFIG['img_size']),\n",
    "        A.Normalize(\n",
    "                mean=[0.485, 0.456, 0.406], \n",
    "                std=[0.229, 0.224, 0.225], \n",
    "                max_pixel_value=255.0, \n",
    "                p=1.0\n",
    "            ),\n",
    "        ToTensorV2()], p=1.)\n",
    "}"
   ]
  },
  {
   "cell_type": "markdown",
   "id": "41a4f518",
   "metadata": {
    "papermill": {
     "duration": 0.014103,
     "end_time": "2024-07-26T00:28:44.908804",
     "exception": false,
     "start_time": "2024-07-26T00:28:44.894701",
     "status": "completed"
    },
    "tags": []
   },
   "source": [
    "# <span><h1 style = \"font-family: garamond; font-size: 40px; font-style: normal; letter-spcaing: 3px; background-color: #f6f5f5; color :#fe346e; border-radius: 100px 100px; text-align:center\">GeM Pooling</h1></span>"
   ]
  },
  {
   "cell_type": "code",
   "execution_count": 14,
   "id": "88a9307a",
   "metadata": {
    "execution": {
     "iopub.execute_input": "2024-07-26T00:28:44.977705Z",
     "iopub.status.busy": "2024-07-26T00:28:44.977078Z",
     "iopub.status.idle": "2024-07-26T00:28:44.984652Z",
     "shell.execute_reply": "2024-07-26T00:28:44.983798Z"
    },
    "papermill": {
     "duration": 0.063621,
     "end_time": "2024-07-26T00:28:44.986562",
     "exception": false,
     "start_time": "2024-07-26T00:28:44.922941",
     "status": "completed"
    },
    "tags": []
   },
   "outputs": [],
   "source": [
    "class GeM(nn.Module):\n",
    "    def __init__(self, p=3, eps=1e-6):\n",
    "        super(GeM, self).__init__()\n",
    "        self.p = nn.Parameter(torch.ones(1)*p)\n",
    "        self.eps = eps\n",
    "\n",
    "    def forward(self, x):\n",
    "        return self.gem(x, p=self.p, eps=self.eps)\n",
    "        \n",
    "    def gem(self, x, p=3, eps=1e-6):\n",
    "        return F.avg_pool2d(x.clamp(min=eps).pow(p), (x.size(-2), x.size(-1))).pow(1./p)\n",
    "        \n",
    "    def __repr__(self):\n",
    "        return self.__class__.__name__ + \\\n",
    "                '(' + 'p=' + '{:.4f}'.format(self.p.data.tolist()[0]) + \\\n",
    "                ', ' + 'eps=' + str(self.eps) + ')'"
   ]
  },
  {
   "cell_type": "markdown",
   "id": "1ddc2096",
   "metadata": {
    "papermill": {
     "duration": 0.014011,
     "end_time": "2024-07-26T00:28:45.014900",
     "exception": false,
     "start_time": "2024-07-26T00:28:45.000889",
     "status": "completed"
    },
    "tags": []
   },
   "source": [
    "# <span><h1 style = \"font-family: garamond; font-size: 40px; font-style: normal; letter-spcaing: 3px; background-color: #f6f5f5; color :#fe346e; border-radius: 100px 100px; text-align:center\">Create Model</h1></span>"
   ]
  },
  {
   "cell_type": "code",
   "execution_count": 15,
   "id": "80ac399d",
   "metadata": {
    "execution": {
     "iopub.execute_input": "2024-07-26T00:28:45.044691Z",
     "iopub.status.busy": "2024-07-26T00:28:45.044119Z",
     "iopub.status.idle": "2024-07-26T00:28:46.750876Z",
     "shell.execute_reply": "2024-07-26T00:28:46.749894Z"
    },
    "papermill": {
     "duration": 1.724077,
     "end_time": "2024-07-26T00:28:46.753218",
     "exception": false,
     "start_time": "2024-07-26T00:28:45.029141",
     "status": "completed"
    },
    "tags": []
   },
   "outputs": [
    {
     "data": {
      "application/vnd.jupyter.widget-view+json": {
       "model_id": "6ac44e0e871b4909b8c9dd0ecd220e04",
       "version_major": 2,
       "version_minor": 0
      },
      "text/plain": [
       "model.safetensors:   0%|          | 0.00/116M [00:00<?, ?B/s]"
      ]
     },
     "metadata": {},
     "output_type": "display_data"
    }
   ],
   "source": [
    "class ISICModel(nn.Module):\n",
    "    def __init__(self, model_name, num_classes=1, pretrained=True, checkpoint_path=None):\n",
    "        super(ISICModel, self).__init__()\n",
    "        self.model = timm.create_model(model_name, pretrained=pretrained)\n",
    "\n",
    "        in_features = self.model.classifier.in_features\n",
    "        self.model.classifier = nn.Identity()\n",
    "        self.model.global_pool = nn.Identity()\n",
    "        self.pooling = GeM()\n",
    "        self.linear = nn.Linear(in_features, num_classes)\n",
    "        self.sigmoid = nn.Sigmoid()\n",
    "\n",
    "    def forward(self, images):\n",
    "        features = self.model(images)\n",
    "        pooled_features = self.pooling(features).flatten(1)\n",
    "        output = self.sigmoid(self.linear(pooled_features))\n",
    "        return output\n",
    "\n",
    "    \n",
    "model = ISICModel(CONFIG['model_name'])\n",
    "model.to(CONFIG['device']);"
   ]
  },
  {
   "cell_type": "markdown",
   "id": "516a0e21",
   "metadata": {
    "papermill": {
     "duration": 0.014796,
     "end_time": "2024-07-26T00:28:46.783615",
     "exception": false,
     "start_time": "2024-07-26T00:28:46.768819",
     "status": "completed"
    },
    "tags": []
   },
   "source": [
    "# <span><h1 style = \"font-family: garamond; font-size: 40px; font-style: normal; letter-spcaing: 3px; background-color: #f6f5f5; color :#fe346e; border-radius: 100px 100px; text-align:center\">Loss Function</h1></span>"
   ]
  },
  {
   "cell_type": "code",
   "execution_count": 16,
   "id": "79922acd",
   "metadata": {
    "execution": {
     "iopub.execute_input": "2024-07-26T00:28:46.815067Z",
     "iopub.status.busy": "2024-07-26T00:28:46.814431Z",
     "iopub.status.idle": "2024-07-26T00:28:46.818846Z",
     "shell.execute_reply": "2024-07-26T00:28:46.818003Z"
    },
    "papermill": {
     "duration": 0.022173,
     "end_time": "2024-07-26T00:28:46.820916",
     "exception": false,
     "start_time": "2024-07-26T00:28:46.798743",
     "status": "completed"
    },
    "tags": []
   },
   "outputs": [],
   "source": [
    "def criterion(outputs, targets):\n",
    "    return nn.BCELoss()(outputs, targets)"
   ]
  },
  {
   "cell_type": "markdown",
   "id": "d7189b58",
   "metadata": {
    "papermill": {
     "duration": 0.015533,
     "end_time": "2024-07-26T00:28:46.851215",
     "exception": false,
     "start_time": "2024-07-26T00:28:46.835682",
     "status": "completed"
    },
    "tags": []
   },
   "source": [
    "# <span><h1 style = \"font-family: garamond; font-size: 40px; font-style: normal; letter-spcaing: 3px; background-color: #f6f5f5; color :#fe346e; border-radius: 100px 100px; text-align:center\">Training Function</h1></span>"
   ]
  },
  {
   "cell_type": "code",
   "execution_count": 17,
   "id": "d1afb7af",
   "metadata": {
    "execution": {
     "iopub.execute_input": "2024-07-26T00:28:46.882584Z",
     "iopub.status.busy": "2024-07-26T00:28:46.881830Z",
     "iopub.status.idle": "2024-07-26T00:28:46.891461Z",
     "shell.execute_reply": "2024-07-26T00:28:46.890642Z"
    },
    "papermill": {
     "duration": 0.027487,
     "end_time": "2024-07-26T00:28:46.893398",
     "exception": false,
     "start_time": "2024-07-26T00:28:46.865911",
     "status": "completed"
    },
    "tags": []
   },
   "outputs": [],
   "source": [
    "def train_one_epoch(model, optimizer, scheduler, dataloader, device, epoch):\n",
    "    model.train()\n",
    "    \n",
    "    dataset_size = 0\n",
    "    running_loss = 0.0\n",
    "    running_auroc  = 0.0\n",
    "    \n",
    "    bar = tqdm(enumerate(dataloader), total=len(dataloader))\n",
    "    for step, data in bar:\n",
    "        images = data['image'].to(device, dtype=torch.float)\n",
    "        targets = data['target'].to(device, dtype=torch.float)\n",
    "        \n",
    "        batch_size = images.size(0)\n",
    "        \n",
    "        outputs = model(images).squeeze()\n",
    "        loss = criterion(outputs, targets)\n",
    "        loss = loss / CONFIG['n_accumulate']\n",
    "            \n",
    "        loss.backward()\n",
    "    \n",
    "        if (step + 1) % CONFIG['n_accumulate'] == 0:\n",
    "            optimizer.step()\n",
    "\n",
    "            # zero the parameter gradients\n",
    "            optimizer.zero_grad()\n",
    "\n",
    "            if scheduler is not None:\n",
    "                scheduler.step()\n",
    "                \n",
    "        auroc = binary_auroc(input=outputs.squeeze(), target=targets).item()\n",
    "        \n",
    "        running_loss += (loss.item() * batch_size)\n",
    "        running_auroc  += (auroc * batch_size)\n",
    "        dataset_size += batch_size\n",
    "        \n",
    "        epoch_loss = running_loss / dataset_size\n",
    "        epoch_auroc = running_auroc / dataset_size\n",
    "        \n",
    "        bar.set_postfix(Epoch=epoch, Train_Loss=epoch_loss, Train_Auroc=epoch_auroc,\n",
    "                        LR=optimizer.param_groups[0]['lr'])\n",
    "    gc.collect()\n",
    "    \n",
    "    return epoch_loss, epoch_auroc"
   ]
  },
  {
   "cell_type": "markdown",
   "id": "4009c6f9",
   "metadata": {
    "papermill": {
     "duration": 0.014265,
     "end_time": "2024-07-26T00:28:46.922106",
     "exception": false,
     "start_time": "2024-07-26T00:28:46.907841",
     "status": "completed"
    },
    "tags": []
   },
   "source": [
    "# <span><h1 style = \"font-family: garamond; font-size: 40px; font-style: normal; letter-spcaing: 3px; background-color: #f6f5f5; color :#fe346e; border-radius: 100px 100px; text-align:center\">Validation Function</h1></span>"
   ]
  },
  {
   "cell_type": "code",
   "execution_count": 18,
   "id": "61bd5cf7",
   "metadata": {
    "execution": {
     "iopub.execute_input": "2024-07-26T00:28:46.952361Z",
     "iopub.status.busy": "2024-07-26T00:28:46.952104Z",
     "iopub.status.idle": "2024-07-26T00:28:46.960254Z",
     "shell.execute_reply": "2024-07-26T00:28:46.959498Z"
    },
    "papermill": {
     "duration": 0.0256,
     "end_time": "2024-07-26T00:28:46.962152",
     "exception": false,
     "start_time": "2024-07-26T00:28:46.936552",
     "status": "completed"
    },
    "tags": []
   },
   "outputs": [],
   "source": [
    "@torch.inference_mode()\n",
    "def valid_one_epoch(model, dataloader, device, epoch):\n",
    "    model.eval()\n",
    "    \n",
    "    dataset_size = 0\n",
    "    running_loss = 0.0\n",
    "    running_auroc = 0.0\n",
    "    \n",
    "    bar = tqdm(enumerate(dataloader), total=len(dataloader))\n",
    "    for step, data in bar:        \n",
    "        images = data['image'].to(device, dtype=torch.float)\n",
    "        targets = data['target'].to(device, dtype=torch.float)\n",
    "        \n",
    "        batch_size = images.size(0)\n",
    "\n",
    "        outputs = model(images).squeeze()\n",
    "        loss = criterion(outputs, targets)\n",
    "\n",
    "        auroc = binary_auroc(input=outputs.squeeze(), target=targets).item()\n",
    "        running_loss += (loss.item() * batch_size)\n",
    "        running_auroc  += (auroc * batch_size)\n",
    "        dataset_size += batch_size\n",
    "        \n",
    "        epoch_loss = running_loss / dataset_size\n",
    "        epoch_auroc = running_auroc / dataset_size\n",
    "        \n",
    "        bar.set_postfix(Epoch=epoch, Valid_Loss=epoch_loss, Valid_Auroc=epoch_auroc,\n",
    "                        LR=optimizer.param_groups[0]['lr'])   \n",
    "    \n",
    "    gc.collect()\n",
    "    \n",
    "    return epoch_loss, epoch_auroc"
   ]
  },
  {
   "cell_type": "markdown",
   "id": "d1259eb2",
   "metadata": {
    "papermill": {
     "duration": 0.01422,
     "end_time": "2024-07-26T00:28:46.990828",
     "exception": false,
     "start_time": "2024-07-26T00:28:46.976608",
     "status": "completed"
    },
    "tags": []
   },
   "source": [
    "# <span><h1 style = \"font-family: garamond; font-size: 40px; font-style: normal; letter-spcaing: 3px; background-color: #f6f5f5; color :#fe346e; border-radius: 100px 100px; text-align:center\">Run Training</h1></span>"
   ]
  },
  {
   "cell_type": "code",
   "execution_count": 19,
   "id": "d0ea0221",
   "metadata": {
    "execution": {
     "iopub.execute_input": "2024-07-26T00:28:47.022776Z",
     "iopub.status.busy": "2024-07-26T00:28:47.022489Z",
     "iopub.status.idle": "2024-07-26T00:28:47.034917Z",
     "shell.execute_reply": "2024-07-26T00:28:47.033999Z"
    },
    "papermill": {
     "duration": 0.031548,
     "end_time": "2024-07-26T00:28:47.037075",
     "exception": false,
     "start_time": "2024-07-26T00:28:47.005527",
     "status": "completed"
    },
    "tags": []
   },
   "outputs": [],
   "source": [
    "def run_training(model, optimizer, scheduler, device, num_epochs):\n",
    "    if torch.cuda.is_available():\n",
    "        print(\"[INFO] Using GPU: {}\\n\".format(torch.cuda.get_device_name()))\n",
    "    \n",
    "    start = time.time()\n",
    "    best_model_wts = copy.deepcopy(model.state_dict())\n",
    "    best_epoch_auroc = -np.inf\n",
    "    history = defaultdict(list)\n",
    "    \n",
    "    for epoch in range(1, num_epochs + 1): \n",
    "        gc.collect()\n",
    "        train_epoch_loss, train_epoch_auroc = train_one_epoch(model, optimizer, scheduler, \n",
    "                                           dataloader=train_loader, \n",
    "                                           device=CONFIG['device'], epoch=epoch)\n",
    "        \n",
    "        val_epoch_loss, val_epoch_auroc = valid_one_epoch(model, valid_loader, device=CONFIG['device'], \n",
    "                                         epoch=epoch)\n",
    "    \n",
    "        history['Train Loss'].append(train_epoch_loss)\n",
    "        history['Valid Loss'].append(val_epoch_loss)\n",
    "        history['Train AUROC'].append(train_epoch_auroc)\n",
    "        history['Valid AUROC'].append(val_epoch_auroc)\n",
    "        history['lr'].append( scheduler.get_lr()[0] )\n",
    "        \n",
    "        # deep copy the model\n",
    "        if best_epoch_auroc <= val_epoch_auroc:\n",
    "            print(f\"{b_}Validation AUROC Improved ({best_epoch_auroc} ---> {val_epoch_auroc})\")\n",
    "            best_epoch_auroc = val_epoch_auroc\n",
    "            best_model_wts = copy.deepcopy(model.state_dict())\n",
    "            PATH = \"AUROC{:.4f}_Loss{:.4f}_epoch{:.0f}.bin\".format(val_epoch_auroc, val_epoch_loss, epoch)\n",
    "            torch.save(model.state_dict(), PATH)\n",
    "            # Save a model file from the current directory\n",
    "            print(f\"Model Saved{sr_}\")\n",
    "            \n",
    "        print()\n",
    "    \n",
    "    end = time.time()\n",
    "    time_elapsed = end - start\n",
    "    PATH = \"Final_model.bin\"\n",
    "    torch.save(model.state_dict(), PATH)\n",
    "    # Save a model file from the current directory\n",
    "    print(f\"Final Model Saved{sr_}\")\n",
    "    print('Training complete in {:.0f}h {:.0f}m {:.0f}s'.format(\n",
    "        time_elapsed // 3600, (time_elapsed % 3600) // 60, (time_elapsed % 3600) % 60))\n",
    "    print(\"Best AUROC: {:.4f}\".format(best_epoch_auroc))\n",
    "    \n",
    "    # load best model weights\n",
    "    model.load_state_dict(best_model_wts)\n",
    "    \n",
    "    return model, history"
   ]
  },
  {
   "cell_type": "code",
   "execution_count": 20,
   "id": "b3d7cfc2",
   "metadata": {
    "execution": {
     "iopub.execute_input": "2024-07-26T00:28:47.068594Z",
     "iopub.status.busy": "2024-07-26T00:28:47.068299Z",
     "iopub.status.idle": "2024-07-26T00:28:47.074017Z",
     "shell.execute_reply": "2024-07-26T00:28:47.073099Z"
    },
    "papermill": {
     "duration": 0.024096,
     "end_time": "2024-07-26T00:28:47.076134",
     "exception": false,
     "start_time": "2024-07-26T00:28:47.052038",
     "status": "completed"
    },
    "tags": []
   },
   "outputs": [],
   "source": [
    "def fetch_scheduler(optimizer):\n",
    "    if CONFIG['scheduler'] == 'CosineAnnealingLR':\n",
    "        scheduler = lr_scheduler.CosineAnnealingLR(optimizer,T_max=CONFIG['T_max'], \n",
    "                                                   eta_min=CONFIG['min_lr'])\n",
    "    elif CONFIG['scheduler'] == 'CosineAnnealingWarmRestarts':\n",
    "        scheduler = lr_scheduler.CosineAnnealingWarmRestarts(optimizer,T_0=CONFIG['T_0'], \n",
    "                                                             eta_min=CONFIG['min_lr'])\n",
    "    elif CONFIG['scheduler'] == None:\n",
    "        return None\n",
    "        \n",
    "    return scheduler"
   ]
  },
  {
   "cell_type": "code",
   "execution_count": 21,
   "id": "32d2d889",
   "metadata": {
    "execution": {
     "iopub.execute_input": "2024-07-26T00:28:47.107048Z",
     "iopub.status.busy": "2024-07-26T00:28:47.106782Z",
     "iopub.status.idle": "2024-07-26T00:28:47.113188Z",
     "shell.execute_reply": "2024-07-26T00:28:47.112273Z"
    },
    "papermill": {
     "duration": 0.024379,
     "end_time": "2024-07-26T00:28:47.115144",
     "exception": false,
     "start_time": "2024-07-26T00:28:47.090765",
     "status": "completed"
    },
    "tags": []
   },
   "outputs": [],
   "source": [
    "def prepare_loaders(df, fold):\n",
    "    df_train = df[df.kfold != fold].reset_index(drop=True)\n",
    "    df_valid = df[df.kfold == fold].reset_index(drop=True)\n",
    "    \n",
    "    train_dataset = ISICDataset_for_Train(df_train, transforms=data_transforms[\"train\"])\n",
    "    valid_dataset = ISICDataset(df_valid, transforms=data_transforms[\"valid\"])\n",
    "\n",
    "    train_loader = DataLoader(train_dataset, batch_size=CONFIG['train_batch_size'], \n",
    "                              num_workers=2, shuffle=True, pin_memory=True, drop_last=True)\n",
    "    valid_loader = DataLoader(valid_dataset, batch_size=CONFIG['valid_batch_size'], \n",
    "                              num_workers=2, shuffle=False, pin_memory=True)\n",
    "    \n",
    "    return train_loader, valid_loader"
   ]
  },
  {
   "cell_type": "markdown",
   "id": "a43a46aa",
   "metadata": {
    "papermill": {
     "duration": 0.015615,
     "end_time": "2024-07-26T00:28:47.145213",
     "exception": false,
     "start_time": "2024-07-26T00:28:47.129598",
     "status": "completed"
    },
    "tags": []
   },
   "source": [
    "<span style=\"color: #000508; font-family: Segoe UI; font-size: 1.5em; font-weight: 300;\">Prepare Dataloaders</span>"
   ]
  },
  {
   "cell_type": "code",
   "execution_count": 22,
   "id": "6796b3f2",
   "metadata": {
    "execution": {
     "iopub.execute_input": "2024-07-26T00:28:47.178681Z",
     "iopub.status.busy": "2024-07-26T00:28:47.178207Z",
     "iopub.status.idle": "2024-07-26T00:28:47.195973Z",
     "shell.execute_reply": "2024-07-26T00:28:47.195102Z"
    },
    "papermill": {
     "duration": 0.035867,
     "end_time": "2024-07-26T00:28:47.198035",
     "exception": false,
     "start_time": "2024-07-26T00:28:47.162168",
     "status": "completed"
    },
    "tags": []
   },
   "outputs": [],
   "source": [
    "train_loader, valid_loader = prepare_loaders(df, fold=CONFIG[\"fold\"])"
   ]
  },
  {
   "cell_type": "markdown",
   "id": "ed0af945",
   "metadata": {
    "papermill": {
     "duration": 0.014329,
     "end_time": "2024-07-26T00:28:47.227032",
     "exception": false,
     "start_time": "2024-07-26T00:28:47.212703",
     "status": "completed"
    },
    "tags": []
   },
   "source": [
    "<span style=\"color: #000508; font-family: Segoe UI; font-size: 1.5em; font-weight: 300;\">Define Optimizer and Scheduler</span>"
   ]
  },
  {
   "cell_type": "code",
   "execution_count": 23,
   "id": "de6d7813",
   "metadata": {
    "execution": {
     "iopub.execute_input": "2024-07-26T00:28:47.257540Z",
     "iopub.status.busy": "2024-07-26T00:28:47.256762Z",
     "iopub.status.idle": "2024-07-26T00:28:47.264639Z",
     "shell.execute_reply": "2024-07-26T00:28:47.263956Z"
    },
    "papermill": {
     "duration": 0.024959,
     "end_time": "2024-07-26T00:28:47.266521",
     "exception": false,
     "start_time": "2024-07-26T00:28:47.241562",
     "status": "completed"
    },
    "tags": []
   },
   "outputs": [],
   "source": [
    "optimizer = optim.Adam(model.parameters(), lr=CONFIG['learning_rate'], \n",
    "                       weight_decay=CONFIG['weight_decay'])\n",
    "scheduler = fetch_scheduler(optimizer)"
   ]
  },
  {
   "cell_type": "markdown",
   "id": "9e36a1df",
   "metadata": {
    "papermill": {
     "duration": 0.014199,
     "end_time": "2024-07-26T00:28:47.295207",
     "exception": false,
     "start_time": "2024-07-26T00:28:47.281008",
     "status": "completed"
    },
    "tags": []
   },
   "source": [
    "<span style=\"color: #000508; font-family: Segoe UI; font-size: 1.5em; font-weight: 300;\">Start Training</span>"
   ]
  },
  {
   "cell_type": "code",
   "execution_count": 24,
   "id": "8278c73e",
   "metadata": {
    "execution": {
     "iopub.execute_input": "2024-07-26T00:28:47.325121Z",
     "iopub.status.busy": "2024-07-26T00:28:47.324857Z",
     "iopub.status.idle": "2024-07-26T00:51:43.828302Z",
     "shell.execute_reply": "2024-07-26T00:51:43.827255Z"
    },
    "papermill": {
     "duration": 1376.52061,
     "end_time": "2024-07-26T00:51:43.830287",
     "exception": false,
     "start_time": "2024-07-26T00:28:47.309677",
     "status": "completed"
    },
    "tags": []
   },
   "outputs": [
    {
     "name": "stdout",
     "output_type": "stream",
     "text": [
      "[INFO] Using GPU: Tesla P100-PCIE-16GB\n",
      "\n"
     ]
    },
    {
     "name": "stderr",
     "output_type": "stream",
     "text": [
      "100%|██████████| 39/39 [00:28<00:00,  1.35it/s, Epoch=1, LR=0.0001, Train_Auroc=0.794, Train_Loss=0.57]\n",
      "100%|██████████| 26/26 [00:19<00:00,  1.32it/s, Epoch=1, LR=0.0001, Valid_Auroc=0.513, Valid_Loss=0.769]\n"
     ]
    },
    {
     "name": "stdout",
     "output_type": "stream",
     "text": [
      "\u001b[34mValidation AUROC Improved (-inf ---> 0.5130005727306064)\n",
      "Model Saved\u001b[0m\n",
      "\n"
     ]
    },
    {
     "name": "stderr",
     "output_type": "stream",
     "text": [
      "100%|██████████| 39/39 [00:26<00:00,  1.47it/s, Epoch=2, LR=0.0001, Train_Auroc=0.882, Train_Loss=0.463]\n",
      "100%|██████████| 26/26 [00:18<00:00,  1.38it/s, Epoch=2, LR=0.0001, Valid_Auroc=0.513, Valid_Loss=0.465]\n"
     ]
    },
    {
     "name": "stdout",
     "output_type": "stream",
     "text": [
      "\n"
     ]
    },
    {
     "name": "stderr",
     "output_type": "stream",
     "text": [
      "100%|██████████| 39/39 [00:26<00:00,  1.48it/s, Epoch=3, LR=0.0001, Train_Auroc=0.915, Train_Loss=0.407]\n",
      "100%|██████████| 26/26 [00:18<00:00,  1.40it/s, Epoch=3, LR=0.0001, Valid_Auroc=0.513, Valid_Loss=0.344]\n"
     ]
    },
    {
     "name": "stdout",
     "output_type": "stream",
     "text": [
      "\n"
     ]
    },
    {
     "name": "stderr",
     "output_type": "stream",
     "text": [
      "100%|██████████| 39/39 [00:26<00:00,  1.48it/s, Epoch=4, LR=0.0001, Train_Auroc=0.924, Train_Loss=0.386]\n",
      "100%|██████████| 26/26 [00:18<00:00,  1.41it/s, Epoch=4, LR=0.0001, Valid_Auroc=0.517, Valid_Loss=0.67]\n"
     ]
    },
    {
     "name": "stdout",
     "output_type": "stream",
     "text": [
      "\u001b[34mValidation AUROC Improved (0.5130005727306064 ---> 0.5167979002624672)\n",
      "Model Saved\u001b[0m\n",
      "\n"
     ]
    },
    {
     "name": "stderr",
     "output_type": "stream",
     "text": [
      "100%|██████████| 39/39 [00:26<00:00,  1.47it/s, Epoch=5, LR=9.99e-5, Train_Auroc=0.935, Train_Loss=0.349]\n",
      "100%|██████████| 26/26 [00:18<00:00,  1.40it/s, Epoch=5, LR=9.99e-5, Valid_Auroc=0.515, Valid_Loss=0.578]\n"
     ]
    },
    {
     "name": "stdout",
     "output_type": "stream",
     "text": [
      "\n"
     ]
    },
    {
     "name": "stderr",
     "output_type": "stream",
     "text": [
      "100%|██████████| 39/39 [00:26<00:00,  1.48it/s, Epoch=6, LR=9.99e-5, Train_Auroc=0.935, Train_Loss=0.346]\n",
      "100%|██████████| 26/26 [00:18<00:00,  1.39it/s, Epoch=6, LR=9.99e-5, Valid_Auroc=0.517, Valid_Loss=0.374]\n"
     ]
    },
    {
     "name": "stdout",
     "output_type": "stream",
     "text": [
      "\u001b[34mValidation AUROC Improved (0.5167979002624672 ---> 0.5167979002624672)\n",
      "Model Saved\u001b[0m\n",
      "\n"
     ]
    },
    {
     "name": "stderr",
     "output_type": "stream",
     "text": [
      "100%|██████████| 39/39 [00:26<00:00,  1.48it/s, Epoch=7, LR=9.99e-5, Train_Auroc=0.968, Train_Loss=0.294]\n",
      "100%|██████████| 26/26 [00:18<00:00,  1.40it/s, Epoch=7, LR=9.99e-5, Valid_Auroc=0.516, Valid_Loss=0.368]\n"
     ]
    },
    {
     "name": "stdout",
     "output_type": "stream",
     "text": [
      "\n"
     ]
    },
    {
     "name": "stderr",
     "output_type": "stream",
     "text": [
      "100%|██████████| 39/39 [00:26<00:00,  1.48it/s, Epoch=8, LR=9.98e-5, Train_Auroc=0.971, Train_Loss=0.251]\n",
      "100%|██████████| 26/26 [00:18<00:00,  1.41it/s, Epoch=8, LR=9.98e-5, Valid_Auroc=0.517, Valid_Loss=0.309]\n"
     ]
    },
    {
     "name": "stdout",
     "output_type": "stream",
     "text": [
      "\n"
     ]
    },
    {
     "name": "stderr",
     "output_type": "stream",
     "text": [
      "100%|██████████| 39/39 [00:26<00:00,  1.48it/s, Epoch=9, LR=9.98e-5, Train_Auroc=0.964, Train_Loss=0.244]\n",
      "100%|██████████| 26/26 [00:18<00:00,  1.41it/s, Epoch=9, LR=9.98e-5, Valid_Auroc=0.515, Valid_Loss=0.521]\n"
     ]
    },
    {
     "name": "stdout",
     "output_type": "stream",
     "text": [
      "\n"
     ]
    },
    {
     "name": "stderr",
     "output_type": "stream",
     "text": [
      "100%|██████████| 39/39 [00:26<00:00,  1.48it/s, Epoch=10, LR=9.98e-5, Train_Auroc=0.961, Train_Loss=0.301]\n",
      "100%|██████████| 26/26 [00:18<00:00,  1.40it/s, Epoch=10, LR=9.98e-5, Valid_Auroc=0.517, Valid_Loss=0.305]\n"
     ]
    },
    {
     "name": "stdout",
     "output_type": "stream",
     "text": [
      "\u001b[34mValidation AUROC Improved (0.5167979002624672 ---> 0.517219825543785)\n",
      "Model Saved\u001b[0m\n",
      "\n"
     ]
    },
    {
     "name": "stderr",
     "output_type": "stream",
     "text": [
      "100%|██████████| 39/39 [00:26<00:00,  1.48it/s, Epoch=11, LR=9.97e-5, Train_Auroc=0.973, Train_Loss=0.234]\n",
      "100%|██████████| 26/26 [00:18<00:00,  1.40it/s, Epoch=11, LR=9.97e-5, Valid_Auroc=0.516, Valid_Loss=0.314]\n"
     ]
    },
    {
     "name": "stdout",
     "output_type": "stream",
     "text": [
      "\n"
     ]
    },
    {
     "name": "stderr",
     "output_type": "stream",
     "text": [
      "100%|██████████| 39/39 [00:26<00:00,  1.48it/s, Epoch=12, LR=9.97e-5, Train_Auroc=0.974, Train_Loss=0.237]\n",
      "100%|██████████| 26/26 [00:18<00:00,  1.40it/s, Epoch=12, LR=9.97e-5, Valid_Auroc=0.517, Valid_Loss=0.232]\n"
     ]
    },
    {
     "name": "stdout",
     "output_type": "stream",
     "text": [
      "\u001b[34mValidation AUROC Improved (0.517219825543785 ---> 0.5173253068641145)\n",
      "Model Saved\u001b[0m\n",
      "\n"
     ]
    },
    {
     "name": "stderr",
     "output_type": "stream",
     "text": [
      "100%|██████████| 39/39 [00:26<00:00,  1.48it/s, Epoch=13, LR=9.96e-5, Train_Auroc=0.975, Train_Loss=0.214]\n",
      "100%|██████████| 26/26 [00:18<00:00,  1.41it/s, Epoch=13, LR=9.96e-5, Valid_Auroc=0.516, Valid_Loss=0.27]\n"
     ]
    },
    {
     "name": "stdout",
     "output_type": "stream",
     "text": [
      "\n"
     ]
    },
    {
     "name": "stderr",
     "output_type": "stream",
     "text": [
      "100%|██████████| 39/39 [00:26<00:00,  1.48it/s, Epoch=14, LR=9.95e-5, Train_Auroc=0.984, Train_Loss=0.198]\n",
      "100%|██████████| 26/26 [00:18<00:00,  1.40it/s, Epoch=14, LR=9.95e-5, Valid_Auroc=0.517, Valid_Loss=0.408]\n"
     ]
    },
    {
     "name": "stdout",
     "output_type": "stream",
     "text": [
      "\u001b[34mValidation AUROC Improved (0.5173253068641145 ---> 0.5173253068641145)\n",
      "Model Saved\u001b[0m\n",
      "\n"
     ]
    },
    {
     "name": "stderr",
     "output_type": "stream",
     "text": [
      "100%|██████████| 39/39 [00:26<00:00,  1.48it/s, Epoch=15, LR=9.95e-5, Train_Auroc=0.973, Train_Loss=0.228]\n",
      "100%|██████████| 26/26 [00:18<00:00,  1.40it/s, Epoch=15, LR=9.95e-5, Valid_Auroc=0.516, Valid_Loss=0.334]\n"
     ]
    },
    {
     "name": "stdout",
     "output_type": "stream",
     "text": [
      "\n"
     ]
    },
    {
     "name": "stderr",
     "output_type": "stream",
     "text": [
      "100%|██████████| 39/39 [00:26<00:00,  1.47it/s, Epoch=16, LR=9.94e-5, Train_Auroc=0.983, Train_Loss=0.21]\n",
      "100%|██████████| 26/26 [00:18<00:00,  1.40it/s, Epoch=16, LR=9.94e-5, Valid_Auroc=0.517, Valid_Loss=0.361]\n"
     ]
    },
    {
     "name": "stdout",
     "output_type": "stream",
     "text": [
      "\n"
     ]
    },
    {
     "name": "stderr",
     "output_type": "stream",
     "text": [
      "100%|██████████| 39/39 [00:26<00:00,  1.48it/s, Epoch=17, LR=9.93e-5, Train_Auroc=0.99, Train_Loss=0.15]\n",
      "100%|██████████| 26/26 [00:18<00:00,  1.41it/s, Epoch=17, LR=9.93e-5, Valid_Auroc=0.516, Valid_Loss=0.273]\n"
     ]
    },
    {
     "name": "stdout",
     "output_type": "stream",
     "text": [
      "\n"
     ]
    },
    {
     "name": "stderr",
     "output_type": "stream",
     "text": [
      "100%|██████████| 39/39 [00:26<00:00,  1.48it/s, Epoch=18, LR=9.92e-5, Train_Auroc=0.991, Train_Loss=0.144]\n",
      "100%|██████████| 26/26 [00:18<00:00,  1.41it/s, Epoch=18, LR=9.92e-5, Valid_Auroc=0.516, Valid_Loss=0.269]\n"
     ]
    },
    {
     "name": "stdout",
     "output_type": "stream",
     "text": [
      "\n"
     ]
    },
    {
     "name": "stderr",
     "output_type": "stream",
     "text": [
      "100%|██████████| 39/39 [00:26<00:00,  1.48it/s, Epoch=19, LR=9.91e-5, Train_Auroc=0.989, Train_Loss=0.159]\n",
      "100%|██████████| 26/26 [00:18<00:00,  1.39it/s, Epoch=19, LR=9.91e-5, Valid_Auroc=0.516, Valid_Loss=0.305]\n"
     ]
    },
    {
     "name": "stdout",
     "output_type": "stream",
     "text": [
      "\n"
     ]
    },
    {
     "name": "stderr",
     "output_type": "stream",
     "text": [
      "100%|██████████| 39/39 [00:26<00:00,  1.48it/s, Epoch=20, LR=9.9e-5, Train_Auroc=0.978, Train_Loss=0.214]\n",
      "100%|██████████| 26/26 [00:18<00:00,  1.40it/s, Epoch=20, LR=9.9e-5, Valid_Auroc=0.518, Valid_Loss=0.321]\n"
     ]
    },
    {
     "name": "stdout",
     "output_type": "stream",
     "text": [
      "\u001b[34mValidation AUROC Improved (0.5173253068641145 ---> 0.5175362695047735)\n",
      "Model Saved\u001b[0m\n",
      "\n"
     ]
    },
    {
     "name": "stderr",
     "output_type": "stream",
     "text": [
      "100%|██████████| 39/39 [00:26<00:00,  1.48it/s, Epoch=21, LR=9.89e-5, Train_Auroc=0.986, Train_Loss=0.176]\n",
      "100%|██████████| 26/26 [00:18<00:00,  1.40it/s, Epoch=21, LR=9.89e-5, Valid_Auroc=0.517, Valid_Loss=0.447]\n"
     ]
    },
    {
     "name": "stdout",
     "output_type": "stream",
     "text": [
      "\n"
     ]
    },
    {
     "name": "stderr",
     "output_type": "stream",
     "text": [
      "100%|██████████| 39/39 [00:26<00:00,  1.48it/s, Epoch=22, LR=9.88e-5, Train_Auroc=0.984, Train_Loss=0.177]\n",
      "100%|██████████| 26/26 [00:18<00:00,  1.41it/s, Epoch=22, LR=9.88e-5, Valid_Auroc=0.518, Valid_Loss=0.338]\n"
     ]
    },
    {
     "name": "stdout",
     "output_type": "stream",
     "text": [
      "\u001b[34mValidation AUROC Improved (0.5175362695047735 ---> 0.5176417508251029)\n",
      "Model Saved\u001b[0m\n",
      "\n"
     ]
    },
    {
     "name": "stderr",
     "output_type": "stream",
     "text": [
      "100%|██████████| 39/39 [00:26<00:00,  1.48it/s, Epoch=23, LR=9.87e-5, Train_Auroc=0.99, Train_Loss=0.189]\n",
      "100%|██████████| 26/26 [00:18<00:00,  1.41it/s, Epoch=23, LR=9.87e-5, Valid_Auroc=0.517, Valid_Loss=0.396]\n"
     ]
    },
    {
     "name": "stdout",
     "output_type": "stream",
     "text": [
      "\n"
     ]
    },
    {
     "name": "stderr",
     "output_type": "stream",
     "text": [
      "100%|██████████| 39/39 [00:26<00:00,  1.48it/s, Epoch=24, LR=9.86e-5, Train_Auroc=0.994, Train_Loss=0.142]\n",
      "100%|██████████| 26/26 [00:18<00:00,  1.40it/s, Epoch=24, LR=9.86e-5, Valid_Auroc=0.517, Valid_Loss=0.306]\n"
     ]
    },
    {
     "name": "stdout",
     "output_type": "stream",
     "text": [
      "\n"
     ]
    },
    {
     "name": "stderr",
     "output_type": "stream",
     "text": [
      "100%|██████████| 39/39 [00:26<00:00,  1.47it/s, Epoch=25, LR=9.85e-5, Train_Auroc=0.996, Train_Loss=0.145]\n",
      "100%|██████████| 26/26 [00:18<00:00,  1.40it/s, Epoch=25, LR=9.85e-5, Valid_Auroc=0.517, Valid_Loss=0.442]\n"
     ]
    },
    {
     "name": "stdout",
     "output_type": "stream",
     "text": [
      "\n"
     ]
    },
    {
     "name": "stderr",
     "output_type": "stream",
     "text": [
      "100%|██████████| 39/39 [00:26<00:00,  1.47it/s, Epoch=26, LR=9.84e-5, Train_Auroc=0.984, Train_Loss=0.19]\n",
      "100%|██████████| 26/26 [00:18<00:00,  1.40it/s, Epoch=26, LR=9.84e-5, Valid_Auroc=0.518, Valid_Loss=0.334]\n"
     ]
    },
    {
     "name": "stdout",
     "output_type": "stream",
     "text": [
      "\u001b[34mValidation AUROC Improved (0.5176417508251029 ---> 0.5177472321454324)\n",
      "Model Saved\u001b[0m\n",
      "\n"
     ]
    },
    {
     "name": "stderr",
     "output_type": "stream",
     "text": [
      "100%|██████████| 39/39 [00:26<00:00,  1.47it/s, Epoch=27, LR=9.82e-5, Train_Auroc=0.991, Train_Loss=0.147]\n",
      "100%|██████████| 26/26 [00:18<00:00,  1.40it/s, Epoch=27, LR=9.82e-5, Valid_Auroc=0.517, Valid_Loss=0.319]\n"
     ]
    },
    {
     "name": "stdout",
     "output_type": "stream",
     "text": [
      "\n"
     ]
    },
    {
     "name": "stderr",
     "output_type": "stream",
     "text": [
      "100%|██████████| 39/39 [00:26<00:00,  1.48it/s, Epoch=28, LR=9.81e-5, Train_Auroc=0.994, Train_Loss=0.127]\n",
      "100%|██████████| 26/26 [00:18<00:00,  1.41it/s, Epoch=28, LR=9.81e-5, Valid_Auroc=0.515, Valid_Loss=0.239]\n"
     ]
    },
    {
     "name": "stdout",
     "output_type": "stream",
     "text": [
      "\n"
     ]
    },
    {
     "name": "stderr",
     "output_type": "stream",
     "text": [
      "100%|██████████| 39/39 [00:26<00:00,  1.48it/s, Epoch=29, LR=9.8e-5, Train_Auroc=0.989, Train_Loss=0.138]\n",
      "100%|██████████| 26/26 [00:18<00:00,  1.40it/s, Epoch=29, LR=9.8e-5, Valid_Auroc=0.516, Valid_Loss=0.414]\n"
     ]
    },
    {
     "name": "stdout",
     "output_type": "stream",
     "text": [
      "\n"
     ]
    },
    {
     "name": "stderr",
     "output_type": "stream",
     "text": [
      "100%|██████████| 39/39 [00:26<00:00,  1.48it/s, Epoch=30, LR=9.78e-5, Train_Auroc=0.98, Train_Loss=0.197]\n",
      "100%|██████████| 26/26 [00:18<00:00,  1.41it/s, Epoch=30, LR=9.78e-5, Valid_Auroc=0.515, Valid_Loss=0.554]\n"
     ]
    },
    {
     "name": "stdout",
     "output_type": "stream",
     "text": [
      "\n",
      "Final Model Saved\u001b[0m\n",
      "Training complete in 0h 22m 56s\n",
      "Best AUROC: 0.5177\n"
     ]
    }
   ],
   "source": [
    "model, history = run_training(model, optimizer, scheduler,\n",
    "                              device=CONFIG['device'],\n",
    "                              num_epochs=CONFIG['epochs'])"
   ]
  },
  {
   "cell_type": "code",
   "execution_count": 25,
   "id": "06683c5f",
   "metadata": {
    "execution": {
     "iopub.execute_input": "2024-07-26T00:51:44.542841Z",
     "iopub.status.busy": "2024-07-26T00:51:44.542443Z",
     "iopub.status.idle": "2024-07-26T00:51:44.551546Z",
     "shell.execute_reply": "2024-07-26T00:51:44.550661Z"
    },
    "papermill": {
     "duration": 0.344164,
     "end_time": "2024-07-26T00:51:44.553427",
     "exception": false,
     "start_time": "2024-07-26T00:51:44.209263",
     "status": "completed"
    },
    "tags": []
   },
   "outputs": [],
   "source": [
    "history = pd.DataFrame.from_dict(history)\n",
    "history.to_csv(\"history.csv\", index=False)"
   ]
  },
  {
   "cell_type": "markdown",
   "id": "9a294247",
   "metadata": {
    "papermill": {
     "duration": 0.337536,
     "end_time": "2024-07-26T00:51:45.232622",
     "exception": false,
     "start_time": "2024-07-26T00:51:44.895086",
     "status": "completed"
    },
    "tags": []
   },
   "source": [
    "# <span><h1 style = \"font-family: garamond; font-size: 40px; font-style: normal; letter-spcaing: 3px; background-color: #f6f5f5; color :#fe346e; border-radius: 100px 100px; text-align:center\">Logs</h1></span>"
   ]
  },
  {
   "cell_type": "code",
   "execution_count": 26,
   "id": "098f482e",
   "metadata": {
    "execution": {
     "iopub.execute_input": "2024-07-26T00:51:45.899271Z",
     "iopub.status.busy": "2024-07-26T00:51:45.898633Z",
     "iopub.status.idle": "2024-07-26T00:51:46.186769Z",
     "shell.execute_reply": "2024-07-26T00:51:46.185896Z"
    },
    "papermill": {
     "duration": 0.624473,
     "end_time": "2024-07-26T00:51:46.188644",
     "exception": false,
     "start_time": "2024-07-26T00:51:45.564171",
     "status": "completed"
    },
    "tags": []
   },
   "outputs": [
    {
     "data": {
      "image/png": "[encoded data removed]",
      "text/plain": [
       "<Figure size 640x480 with 1 Axes>"
      ]
     },
     "metadata": {},
     "output_type": "display_data"
    }
   ],
   "source": [
    "plt.plot( range(history.shape[0]), history[\"Train Loss\"].values, label=\"Train Loss\")\n",
    "plt.plot( range(history.shape[0]), history[\"Valid Loss\"].values, label=\"Valid Loss\")\n",
    "plt.xlabel(\"epochs\")\n",
    "plt.ylabel(\"Loss\")\n",
    "plt.grid()\n",
    "plt.legend()\n",
    "plt.show()"
   ]
  },
  {
   "cell_type": "code",
   "execution_count": 27,
   "id": "f3b1c45a",
   "metadata": {
    "execution": {
     "iopub.execute_input": "2024-07-26T00:51:46.864270Z",
     "iopub.status.busy": "2024-07-26T00:51:46.863379Z",
     "iopub.status.idle": "2024-07-26T00:51:47.056689Z",
     "shell.execute_reply": "2024-07-26T00:51:47.055789Z"
    },
    "papermill": {
     "duration": 0.536568,
     "end_time": "2024-07-26T00:51:47.058771",
     "exception": false,
     "start_time": "2024-07-26T00:51:46.522203",
     "status": "completed"
    },
    "tags": []
   },
   "outputs": [
    {
     "data": {
      "image/png": "[encoded data removed]",
      "text/plain": [
       "<Figure size 640x480 with 1 Axes>"
      ]
     },
     "metadata": {},
     "output_type": "display_data"
    }
   ],
   "source": [
    "plt.plot( range(history.shape[0]), history[\"Train AUROC\"].values, label=\"Train AUROC\")\n",
    "plt.plot( range(history.shape[0]), history[\"Valid AUROC\"].values, label=\"Valid AUROC\")\n",
    "plt.xlabel(\"epochs\")\n",
    "plt.ylabel(\"AUROC\")\n",
    "plt.grid()\n",
    "plt.legend()\n",
    "plt.show()"
   ]
  },
  {
   "cell_type": "code",
   "execution_count": 28,
   "id": "979ceb82",
   "metadata": {
    "execution": {
     "iopub.execute_input": "2024-07-26T00:51:47.729318Z",
     "iopub.status.busy": "2024-07-26T00:51:47.728470Z",
     "iopub.status.idle": "2024-07-26T00:51:47.905313Z",
     "shell.execute_reply": "2024-07-26T00:51:47.904349Z"
    },
    "papermill": {
     "duration": 0.514579,
     "end_time": "2024-07-26T00:51:47.907325",
     "exception": false,
     "start_time": "2024-07-26T00:51:47.392746",
     "status": "completed"
    },
    "tags": []
   },
   "outputs": [
    {
     "data": {
      "image/png": "[encoded data removed]",
      "text/plain": [
       "<Figure size 640x480 with 1 Axes>"
      ]
     },
     "metadata": {},
     "output_type": "display_data"
    }
   ],
   "source": [
    "plt.plot( range(history.shape[0]), history[\"lr\"].values, label=\"lr\")\n",
    "plt.xlabel(\"epochs\")\n",
    "plt.ylabel(\"lr\")\n",
    "plt.grid()\n",
    "plt.legend()\n",
    "plt.show()"
   ]
  }
 ],
 "metadata": {
  "kaggle": {
   "accelerator": "gpu",
   "dataSources": [
    {
     "databundleVersionId": 9094797,
     "sourceId": 63056,
     "sourceType": "competition"
    },
    {
     "modelId": 312,
     "modelInstanceId": 2656,
     "sourceId": 3729,
     "sourceType": "modelInstanceVersion"
    }
   ],
   "isGpuEnabled": true,
   "isInternetEnabled": true,
   "language": "python",
   "sourceType": "notebook"
  },
  "kernelspec": {
   "display_name": "Python 3",
   "language": "python",
   "name": "python3"
  },
  "language_info": {
   "codemirror_mode": {
    "name": "ipython",
    "version": 3
   },
   "file_extension": ".py",
   "mimetype": "text/x-python",
   "name": "python",
   "nbconvert_exporter": "python",
   "pygments_lexer": "ipython3",
   "version": "3.10.13"
  },
  "papermill": {
   "default_parameters": {},
   "duration": 1424.998483,
   "end_time": "2024-07-26T00:51:50.667381",
   "environment_variables": {},
   "exception": null,
   "input_path": "__notebook__.ipynb",
   "output_path": "__notebook__.ipynb",
   "parameters": {},
   "start_time": "2024-07-26T00:28:05.668898",
   "version": "2.5.0"
  },
  "widgets": {
   "application/vnd.jupyter.widget-state+json": {
    "state": {
     "139401d975c040edbad0a2568c432b27": {
      "model_module": "@jupyter-widgets/base",
      "model_module_version": "1.2.0",
      "model_name": "LayoutModel",
      "state": {
       "_model_module": "@jupyter-widgets/base",
       "_model_module_version": "1.2.0",
       "_model_name": "LayoutModel",
       "_view_count": null,
       "_view_module": "@jupyter-widgets/base",
       "_view_module_version": "1.2.0",
       "_view_name": "LayoutView",
       "align_content": null,
       "align_items": null,
       "align_self": null,
       "border": null,
       "bottom": null,
       "display": null,
       "flex": null,
       "flex_flow": null,
       "grid_area": null,
       "grid_auto_columns": null,
       "grid_auto_flow": null,
       "grid_auto_rows": null,
       "grid_column": null,
       "grid_gap": null,
       "grid_row": null,
       "grid_template_areas": null,
       "grid_template_columns": null,
       "grid_template_rows": null,
       "height": null,
       "justify_content": null,
       "justify_items": null,
       "left": null,
       "margin": null,
       "max_height": null,
       "max_width": null,
       "min_height": null,
       "min_width": null,
       "object_fit": null,
       "object_position": null,
       "order": null,
       "overflow": null,
       "overflow_x": null,
       "overflow_y": null,
       "padding": null,
       "right": null,
       "top": null,
       "visibility": null,
       "width": null
      }
     },
     "23317df5a676439fbd9c43d8f4a0fda2": {
      "model_module": "@jupyter-widgets/base",
      "model_module_version": "1.2.0",
      "model_name": "LayoutModel",
      "state": {
       "_model_module": "@jupyter-widgets/base",
       "_model_module_version": "1.2.0",
       "_model_name": "LayoutModel",
       "_view_count": null,
       "_view_module": "@jupyter-widgets/base",
       "_view_module_version": "1.2.0",
       "_view_name": "LayoutView",
       "align_content": null,
       "align_items": null,
       "align_self": null,
       "border": null,
       "bottom": null,
       "display": null,
       "flex": null,
       "flex_flow": null,
       "grid_area": null,
       "grid_auto_columns": null,
       "grid_auto_flow": null,
       "grid_auto_rows": null,
       "grid_column": null,
       "grid_gap": null,
       "grid_row": null,
       "grid_template_areas": null,
       "grid_template_columns": null,
       "grid_template_rows": null,
       "height": null,
       "justify_content": null,
       "justify_items": null,
       "left": null,
       "margin": null,
       "max_height": null,
       "max_width": null,
       "min_height": null,
       "min_width": null,
       "object_fit": null,
       "object_position": null,
       "order": null,
       "overflow": null,
       "overflow_x": null,
       "overflow_y": null,
       "padding": null,
       "right": null,
       "top": null,
       "visibility": null,
       "width": null
      }
     },
     "3091f25c5eb24cd9b37618ce720e5525": {
      "model_module": "@jupyter-widgets/base",
      "model_module_version": "1.2.0",
      "model_name": "LayoutModel",
      "state": {
       "_model_module": "@jupyter-widgets/base",
       "_model_module_version": "1.2.0",
       "_model_name": "LayoutModel",
       "_view_count": null,
       "_view_module": "@jupyter-widgets/base",
       "_view_module_version": "1.2.0",
       "_view_name": "LayoutView",
       "align_content": null,
       "align_items": null,
       "align_self": null,
       "border": null,
       "bottom": null,
       "display": null,
       "flex": null,
       "flex_flow": null,
       "grid_area": null,
       "grid_auto_columns": null,
       "grid_auto_flow": null,
       "grid_auto_rows": null,
       "grid_column": null,
       "grid_gap": null,
       "grid_row": null,
       "grid_template_areas": null,
       "grid_template_columns": null,
       "grid_template_rows": null,
       "height": null,
       "justify_content": null,
       "justify_items": null,
       "left": null,
       "margin": null,
       "max_height": null,
       "max_width": null,
       "min_height": null,
       "min_width": null,
       "object_fit": null,
       "object_position": null,
       "order": null,
       "overflow": null,
       "overflow_x": null,
       "overflow_y": null,
       "padding": null,
       "right": null,
       "top": null,
       "visibility": null,
       "width": null
      }
     },
     "6ac44e0e871b4909b8c9dd0ecd220e04": {
      "model_module": "@jupyter-widgets/controls",
      "model_module_version": "1.5.0",
      "model_name": "HBoxModel",
      "state": {
       "_dom_classes": [],
       "_model_module": "@jupyter-widgets/controls",
       "_model_module_version": "1.5.0",
       "_model_name": "HBoxModel",
       "_view_count": null,
       "_view_module": "@jupyter-widgets/controls",
       "_view_module_version": "1.5.0",
       "_view_name": "HBoxView",
       "box_style": "",
       "children": [
        "IPY_MODEL_72b0b813db4b4a7889527a8dfeec5493",
        "IPY_MODEL_de55c2f6c16948168315c79eb28e1d3c",
        "IPY_MODEL_bcf345eacf6540a99fa781fe605a626a"
       ],
       "layout": "IPY_MODEL_3091f25c5eb24cd9b37618ce720e5525"
      }
     },
     "72b0b813db4b4a7889527a8dfeec5493": {
      "model_module": "@jupyter-widgets/controls",
      "model_module_version": "1.5.0",
      "model_name": "HTMLModel",
      "state": {
       "_dom_classes": [],
       "_model_module": "@jupyter-widgets/controls",
       "_model_module_version": "1.5.0",
       "_model_name": "HTMLModel",
       "_view_count": null,
       "_view_module": "@jupyter-widgets/controls",
       "_view_module_version": "1.5.0",
       "_view_name": "HTMLView",
       "description": "",
       "description_tooltip": null,
       "layout": "IPY_MODEL_96d184eac7054f9aace75abfb76632a1",
       "placeholder": "​",
       "style": "IPY_MODEL_b535df8c54b947ae8df9987a5671b725",
       "value": "model.safetensors: 100%"
      }
     },
     "96d184eac7054f9aace75abfb76632a1": {
      "model_module": "@jupyter-widgets/base",
      "model_module_version": "1.2.0",
      "model_name": "LayoutModel",
      "state": {
       "_model_module": "@jupyter-widgets/base",
       "_model_module_version": "1.2.0",
       "_model_name": "LayoutModel",
       "_view_count": null,
       "_view_module": "@jupyter-widgets/base",
       "_view_module_version": "1.2.0",
       "_view_name": "LayoutView",
       "align_content": null,
       "align_items": null,
       "align_self": null,
       "border": null,
       "bottom": null,
       "display": null,
       "flex": null,
       "flex_flow": null,
       "grid_area": null,
       "grid_auto_columns": null,
       "grid_auto_flow": null,
       "grid_auto_rows": null,
       "grid_column": null,
       "grid_gap": null,
       "grid_row": null,
       "grid_template_areas": null,
       "grid_template_columns": null,
       "grid_template_rows": null,
       "height": null,
       "justify_content": null,
       "justify_items": null,
       "left": null,
       "margin": null,
       "max_height": null,
       "max_width": null,
       "min_height": null,
       "min_width": null,
       "object_fit": null,
       "object_position": null,
       "order": null,
       "overflow": null,
       "overflow_x": null,
       "overflow_y": null,
       "padding": null,
       "right": null,
       "top": null,
       "visibility": null,
       "width": null
      }
     },
     "b535df8c54b947ae8df9987a5671b725": {
      "model_module": "@jupyter-widgets/controls",
      "model_module_version": "1.5.0",
      "model_name": "DescriptionStyleModel",
      "state": {
       "_model_module": "@jupyter-widgets/controls",
       "_model_module_version": "1.5.0",
       "_model_name": "DescriptionStyleModel",
       "_view_count": null,
       "_view_module": "@jupyter-widgets/base",
       "_view_module_version": "1.2.0",
       "_view_name": "StyleView",
       "description_width": ""
      }
     },
     "bcf345eacf6540a99fa781fe605a626a": {
      "model_module": "@jupyter-widgets/controls",
      "model_module_version": "1.5.0",
      "model_name": "HTMLModel",
      "state": {
       "_dom_classes": [],
       "_model_module": "@jupyter-widgets/controls",
       "_model_module_version": "1.5.0",
       "_model_name": "HTMLModel",
       "_view_count": null,
       "_view_module": "@jupyter-widgets/controls",
       "_view_module_version": "1.5.0",
       "_view_name": "HTMLView",
       "description": "",
       "description_tooltip": null,
       "layout": "IPY_MODEL_139401d975c040edbad0a2568c432b27",
       "placeholder": "​",
       "style": "IPY_MODEL_e529fe14e0c146c7a0b9615610b89913",
       "value": " 116M/116M [00:00&lt;00:00, 201MB/s]"
      }
     },
     "de55c2f6c16948168315c79eb28e1d3c": {
      "model_module": "@jupyter-widgets/controls",
      "model_module_version": "1.5.0",
      "model_name": "FloatProgressModel",
      "state": {
       "_dom_classes": [],
       "_model_module": "@jupyter-widgets/controls",
       "_model_module_version": "1.5.0",
       "_model_name": "FloatProgressModel",
       "_view_count": null,
       "_view_module": "@jupyter-widgets/controls",
       "_view_module_version": "1.5.0",
       "_view_name": "ProgressView",
       "bar_style": "success",
       "description": "",
       "description_tooltip": null,
       "layout": "IPY_MODEL_23317df5a676439fbd9c43d8f4a0fda2",
       "max": 115717302.0,
       "min": 0.0,
       "orientation": "horizontal",
       "style": "IPY_MODEL_e775a8caf2874cc6bfbf12b439286edf",
       "value": 115717302.0
      }
     },
     "e529fe14e0c146c7a0b9615610b89913": {
      "model_module": "@jupyter-widgets/controls",
      "model_module_version": "1.5.0",
      "model_name": "DescriptionStyleModel",
      "state": {
       "_model_module": "@jupyter-widgets/controls",
       "_model_module_version": "1.5.0",
       "_model_name": "DescriptionStyleModel",
       "_view_count": null,
       "_view_module": "@jupyter-widgets/base",
       "_view_module_version": "1.2.0",
       "_view_name": "StyleView",
       "description_width": ""
      }
     },
     "e775a8caf2874cc6bfbf12b439286edf": {
      "model_module": "@jupyter-widgets/controls",
      "model_module_version": "1.5.0",
      "model_name": "ProgressStyleModel",
      "state": {
       "_model_module": "@jupyter-widgets/controls",
       "_model_module_version": "1.5.0",
       "_model_name": "ProgressStyleModel",
       "_view_count": null,
       "_view_module": "@jupyter-widgets/base",
       "_view_module_version": "1.2.0",
       "_view_name": "StyleView",
       "bar_color": null,
       "description_width": ""
      }
     }
    },
    "version_major": 2,
    "version_minor": 0
   }
  }
 },
 "nbformat": 4,
 "nbformat_minor": 5
}

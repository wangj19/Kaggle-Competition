{
 "cells": [
  {
   "cell_type": "markdown",
   "id": "0ff57f5b",
   "metadata": {
    "papermill": {
     "duration": 0.003557,
     "end_time": "2024-06-13T00:43:29.251407",
     "exception": false,
     "start_time": "2024-06-13T00:43:29.247850",
     "status": "completed"
    },
    "tags": []
   },
   "source": [
    "# Ensemble of Public submission files\n",
    "\n",
    "Credits:\n",
    "\n",
    "* submission_0.585 and my_submission 1: https://www.kaggle.com/code/ahmedelfazouan/belka-1dcnn-starter-with-all-data\n",
    "* submission_0.553 and sub_auto: https://www.kaggle.com/code/mehrankazeminia/5-belka-submission-autogluon-frag1-2-3\n",
    "    * sub_auto is the AutoGluon predictions instead of ensembled prediction of original notebook\n",
    "    * The autoML frags are originated from: https://www.kaggle.com/code/motono0223/leash-bio-automl-baseline\n",
    "* submission_0.546: https://www.kaggle.com/code/ricopue/leashbio-xgb-ecfp-10m-sample-rows"
   ]
  },
  {
   "cell_type": "code",
   "execution_count": 1,
   "id": "98d230d7",
   "metadata": {
    "execution": {
     "iopub.execute_input": "2024-06-13T00:43:29.259305Z",
     "iopub.status.busy": "2024-06-13T00:43:29.258841Z",
     "iopub.status.idle": "2024-06-13T00:43:30.218025Z",
     "shell.execute_reply": "2024-06-13T00:43:30.216823Z"
    },
    "papermill": {
     "duration": 0.966153,
     "end_time": "2024-06-13T00:43:30.220615",
     "exception": false,
     "start_time": "2024-06-13T00:43:29.254462",
     "status": "completed"
    },
    "tags": []
   },
   "outputs": [
    {
     "name": "stdout",
     "output_type": "stream",
     "text": [
      "/kaggle/input/leash-BELKA/sample_submission.csv\n",
      "/kaggle/input/leash-BELKA/train.parquet\n",
      "/kaggle/input/leash-BELKA/test.parquet\n",
      "/kaggle/input/leash-BELKA/train.csv\n",
      "/kaggle/input/leash-BELKA/test.csv\n",
      "/kaggle/input/my-submission1/sub_auto.csv\n",
      "/kaggle/input/my-submission1/submission.csv\n",
      "/kaggle/input/belka-blend/submission_0553.csv\n",
      "/kaggle/input/belka-blend/submission_0585.csv\n",
      "/kaggle/input/belka-blend/submission_0549.csv\n",
      "/kaggle/input/belka-blend/submission_0527.csv\n",
      "/kaggle/input/belka-blend/submission_0546.csv\n",
      "/kaggle/input/semi-blending-2023/serie5.csv\n",
      "/kaggle/input/semi-blending-2023/serie2.csv\n",
      "/kaggle/input/semi-blending-2023/serie3.csv\n",
      "/kaggle/input/semi-blending-2023/serie4.csv\n"
     ]
    }
   ],
   "source": [
    "# This Python 3 environment comes with many helpful analytics libraries installed\n",
    "# It is defined by the kaggle/python Docker image: https://github.com/kaggle/docker-python\n",
    "# For example, here's several helpful packages to load\n",
    "\n",
    "import numpy as np # linear algebra\n",
    "import pandas as pd # data processing, CSV file I/O (e.g. pd.read_csv)\n",
    "\n",
    "# Input data files are available in the read-only \"../input/\" directory\n",
    "# For example, running this (by clicking run or pressing Shift+Enter) will list all files under the input directory\n",
    "\n",
    "import os\n",
    "for dirname, _, filenames in os.walk('/kaggle/input'):\n",
    "    for filename in filenames:\n",
    "        print(os.path.join(dirname, filename))\n",
    "\n",
    "# You can write up to 20GB to the current directory (/kaggle/working/) that gets preserved as output when you create a version using \"Save & Run All\" \n",
    "# You can also write temporary files to /kaggle/temp/, but they won't be saved outside of the current session"
   ]
  },
  {
   "cell_type": "code",
   "execution_count": 2,
   "id": "42fad670",
   "metadata": {
    "execution": {
     "iopub.execute_input": "2024-06-13T00:43:30.228990Z",
     "iopub.status.busy": "2024-06-13T00:43:30.228421Z",
     "iopub.status.idle": "2024-06-13T00:43:34.531115Z",
     "shell.execute_reply": "2024-06-13T00:43:34.529954Z"
    },
    "papermill": {
     "duration": 4.310176,
     "end_time": "2024-06-13T00:43:34.534217",
     "exception": false,
     "start_time": "2024-06-13T00:43:30.224041",
     "status": "completed"
    },
    "tags": []
   },
   "outputs": [],
   "source": [
    "import pandas as pd\n",
    "\n",
    "# sub_1dcnn = pd.read_csv('/kaggle/input/my-submission1/submission.csv')\n",
    "sub_1dcnn = pd.read_csv('/kaggle/input/belka-blend/submission_0585.csv')\n",
    "sub_auto = pd.read_csv('/kaggle/input/my-submission1/sub_auto.csv')\n",
    "sub_xgb = pd.read_csv('/kaggle/input/belka-blend/submission_0546.csv')\n",
    "sample_sub = pd.read_csv('/kaggle/input/leash-BELKA/sample_submission.csv')"
   ]
  },
  {
   "cell_type": "code",
   "execution_count": 3,
   "id": "af5d6264",
   "metadata": {
    "execution": {
     "iopub.execute_input": "2024-06-13T00:43:34.543264Z",
     "iopub.status.busy": "2024-06-13T00:43:34.542211Z",
     "iopub.status.idle": "2024-06-13T00:43:40.573138Z",
     "shell.execute_reply": "2024-06-13T00:43:40.571841Z"
    },
    "papermill": {
     "duration": 6.038104,
     "end_time": "2024-06-13T00:43:40.575709",
     "exception": false,
     "start_time": "2024-06-13T00:43:34.537605",
     "status": "completed"
    },
    "tags": []
   },
   "outputs": [
    {
     "data": {
      "text/html": [
       "<div>\n",
       "<style scoped>\n",
       "    .dataframe tbody tr th:only-of-type {\n",
       "        vertical-align: middle;\n",
       "    }\n",
       "\n",
       "    .dataframe tbody tr th {\n",
       "        vertical-align: top;\n",
       "    }\n",
       "\n",
       "    .dataframe thead th {\n",
       "        text-align: right;\n",
       "    }\n",
       "</style>\n",
       "<table border=\"1\" class=\"dataframe\">\n",
       "  <thead>\n",
       "    <tr style=\"text-align: right;\">\n",
       "      <th></th>\n",
       "      <th>id</th>\n",
       "      <th>binds</th>\n",
       "    </tr>\n",
       "  </thead>\n",
       "  <tbody>\n",
       "    <tr>\n",
       "      <th>0</th>\n",
       "      <td>295246830</td>\n",
       "      <td>0.107393</td>\n",
       "    </tr>\n",
       "    <tr>\n",
       "      <th>1</th>\n",
       "      <td>295246831</td>\n",
       "      <td>0.082444</td>\n",
       "    </tr>\n",
       "    <tr>\n",
       "      <th>2</th>\n",
       "      <td>295246832</td>\n",
       "      <td>0.056985</td>\n",
       "    </tr>\n",
       "    <tr>\n",
       "      <th>3</th>\n",
       "      <td>295246833</td>\n",
       "      <td>0.111163</td>\n",
       "    </tr>\n",
       "    <tr>\n",
       "      <th>4</th>\n",
       "      <td>295246834</td>\n",
       "      <td>0.088119</td>\n",
       "    </tr>\n",
       "    <tr>\n",
       "      <th>...</th>\n",
       "      <td>...</td>\n",
       "      <td>...</td>\n",
       "    </tr>\n",
       "    <tr>\n",
       "      <th>1674891</th>\n",
       "      <td>296921721</td>\n",
       "      <td>0.004340</td>\n",
       "    </tr>\n",
       "    <tr>\n",
       "      <th>1674892</th>\n",
       "      <td>296921722</td>\n",
       "      <td>0.000858</td>\n",
       "    </tr>\n",
       "    <tr>\n",
       "      <th>1674893</th>\n",
       "      <td>296921723</td>\n",
       "      <td>0.000993</td>\n",
       "    </tr>\n",
       "    <tr>\n",
       "      <th>1674894</th>\n",
       "      <td>296921724</td>\n",
       "      <td>0.006125</td>\n",
       "    </tr>\n",
       "    <tr>\n",
       "      <th>1674895</th>\n",
       "      <td>296921725</td>\n",
       "      <td>0.001020</td>\n",
       "    </tr>\n",
       "  </tbody>\n",
       "</table>\n",
       "<p>1674896 rows × 2 columns</p>\n",
       "</div>"
      ],
      "text/plain": [
       "                id     binds\n",
       "0        295246830  0.107393\n",
       "1        295246831  0.082444\n",
       "2        295246832  0.056985\n",
       "3        295246833  0.111163\n",
       "4        295246834  0.088119\n",
       "...            ...       ...\n",
       "1674891  296921721  0.004340\n",
       "1674892  296921722  0.000858\n",
       "1674893  296921723  0.000993\n",
       "1674894  296921724  0.006125\n",
       "1674895  296921725  0.001020\n",
       "\n",
       "[1674896 rows x 2 columns]"
      ]
     },
     "execution_count": 3,
     "metadata": {},
     "output_type": "execute_result"
    }
   ],
   "source": [
    "weights = {\n",
    "    'sub_1dcnn': 0.72,\n",
    "    'sub_auto': 0.10,\n",
    "    'sub_xgb': 0.18\n",
    "}\n",
    "\n",
    "# Merge the submissions using weighted average\n",
    "submission_blend = (\n",
    "    sub_1dcnn['binds'] * weights['sub_1dcnn'] +\n",
    "    sub_auto['binds'] * weights['sub_auto'] +\n",
    "    sub_xgb['binds']  * weights['sub_xgb']\n",
    ")\n",
    "\n",
    "sample_sub['binds']=submission_blend\n",
    "sample_sub.to_csv('submission.csv', index=False)\n",
    "sample_sub"
   ]
  },
  {
   "cell_type": "code",
   "execution_count": null,
   "id": "32f8ff75",
   "metadata": {
    "papermill": {
     "duration": 0.003169,
     "end_time": "2024-06-13T00:43:40.582467",
     "exception": false,
     "start_time": "2024-06-13T00:43:40.579298",
     "status": "completed"
    },
    "tags": []
   },
   "outputs": [],
   "source": []
  }
 ],
 "metadata": {
  "kaggle": {
   "accelerator": "none",
   "dataSources": [
    {
     "databundleVersionId": 8006601,
     "sourceId": 67356,
     "sourceType": "competition"
    },
    {
     "datasetId": 4924994,
     "sourceId": 8290744,
     "sourceType": "datasetVersion"
    },
    {
     "datasetId": 4970796,
     "sourceId": 8366473,
     "sourceType": "datasetVersion"
    },
    {
     "datasetId": 5201739,
     "sourceId": 8677880,
     "sourceType": "datasetVersion"
    }
   ],
   "dockerImageVersionId": 30698,
   "isGpuEnabled": false,
   "isInternetEnabled": true,
   "language": "python",
   "sourceType": "notebook"
  },
  "kernelspec": {
   "display_name": "Python 3",
   "language": "python",
   "name": "python3"
  },
  "language_info": {
   "codemirror_mode": {
    "name": "ipython",
    "version": 3
   },
   "file_extension": ".py",
   "mimetype": "text/x-python",
   "name": "python",
   "nbconvert_exporter": "python",
   "pygments_lexer": "ipython3",
   "version": "3.10.13"
  },
  "papermill": {
   "default_parameters": {},
   "duration": 14.992287,
   "end_time": "2024-06-13T00:43:41.107922",
   "environment_variables": {},
   "exception": null,
   "input_path": "__notebook__.ipynb",
   "output_path": "__notebook__.ipynb",
   "parameters": {},
   "start_time": "2024-06-13T00:43:26.115635",
   "version": "2.5.0"
  }
 },
 "nbformat": 4,
 "nbformat_minor": 5
}

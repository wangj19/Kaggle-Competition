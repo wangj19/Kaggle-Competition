{
 "cells": [
  {
   "cell_type": "markdown",
   "id": "653c3cf5",
   "metadata": {
    "papermill": {
     "duration": 0.002768,
     "end_time": "2024-06-17T00:41:23.271860",
     "exception": false,
     "start_time": "2024-06-17T00:41:23.269092",
     "status": "completed"
    },
    "tags": []
   },
   "source": [
    "# Ensemble of Public submission files\n",
    "\n",
    "Credits:\n",
    "\n",
    "* sub_1dcnn_15: https://www.kaggle.com/code/hugowjd/belka-1dcnn-with-all-data-15-folds-15-epoch\n",
    "    * Inspired from: https://www.kaggle.com/code/ahmedelfazouan/belka-1dcnn-starter-with-all-data\n",
    "* sub_auto: https://www.kaggle.com/code/mehrankazeminia/5-belka-submission-autogluon-frag1-2-3\n",
    "    * sub_auto is the AutoGluon predictions instead of ensembled prediction of original notebook\n",
    "    * The autoML frags are originated from: https://www.kaggle.com/code/motono0223/leash-bio-automl-baseline\n",
    "* sub_xgb: https://www.kaggle.com/code/ricopue/leashbio-xgb-ecfp-10m-sample-rows\n",
    "    * Some inspiration: https://www.kaggle.com/code/saurav9786/predictions-with-belka-xgboost-cv/notebook\n",
    "* submission_knn: https://www.kaggle.com/code/mehrankazeminia/p-6-6-belka-competition-submission-knn"
   ]
  },
  {
   "cell_type": "code",
   "execution_count": 1,
   "id": "fe8f7c99",
   "metadata": {
    "execution": {
     "iopub.execute_input": "2024-06-17T00:41:23.277958Z",
     "iopub.status.busy": "2024-06-17T00:41:23.277611Z",
     "iopub.status.idle": "2024-06-17T00:41:24.201289Z",
     "shell.execute_reply": "2024-06-17T00:41:24.199366Z"
    },
    "papermill": {
     "duration": 0.929416,
     "end_time": "2024-06-17T00:41:24.203592",
     "exception": false,
     "start_time": "2024-06-17T00:41:23.274176",
     "status": "completed"
    },
    "tags": []
   },
   "outputs": [
    {
     "name": "stdout",
     "output_type": "stream",
     "text": [
      "/kaggle/input/leash-BELKA/sample_submission.csv\n",
      "/kaggle/input/leash-BELKA/train.parquet\n",
      "/kaggle/input/leash-BELKA/test.parquet\n",
      "/kaggle/input/leash-BELKA/train.csv\n",
      "/kaggle/input/leash-BELKA/test.csv\n",
      "/kaggle/input/my-submission1/sub_knn.csv\n",
      "/kaggle/input/my-submission1/sub_auto.csv\n",
      "/kaggle/input/my-submission1/sub_xgb.csv\n",
      "/kaggle/input/my-submission1/sub_1dcnn_15.csv\n"
     ]
    }
   ],
   "source": [
    "# This Python 3 environment comes with many helpful analytics libraries installed\n",
    "# It is defined by the kaggle/python Docker image: https://github.com/kaggle/docker-python\n",
    "# For example, here's several helpful packages to load\n",
    "\n",
    "import numpy as np # linear algebra\n",
    "import pandas as pd # data processing, CSV file I/O (e.g. pd.read_csv)\n",
    "\n",
    "# Input data files are available in the read-only \"../input/\" directory\n",
    "# For example, running this (by clicking run or pressing Shift+Enter) will list all files under the input directory\n",
    "\n",
    "import os\n",
    "for dirname, _, filenames in os.walk('/kaggle/input'):\n",
    "    for filename in filenames:\n",
    "        print(os.path.join(dirname, filename))\n",
    "\n",
    "# You can write up to 20GB to the current directory (/kaggle/working/) that gets preserved as output when you create a version using \"Save & Run All\" \n",
    "# You can also write temporary files to /kaggle/temp/, but they won't be saved outside of the current session"
   ]
  },
  {
   "cell_type": "code",
   "execution_count": 2,
   "id": "d5726df9",
   "metadata": {
    "execution": {
     "iopub.execute_input": "2024-06-17T00:41:24.209667Z",
     "iopub.status.busy": "2024-06-17T00:41:24.209260Z",
     "iopub.status.idle": "2024-06-17T00:41:27.245899Z",
     "shell.execute_reply": "2024-06-17T00:41:27.244563Z"
    },
    "papermill": {
     "duration": 3.042346,
     "end_time": "2024-06-17T00:41:27.248295",
     "exception": false,
     "start_time": "2024-06-17T00:41:24.205949",
     "status": "completed"
    },
    "tags": []
   },
   "outputs": [],
   "source": [
    "import pandas as pd\n",
    "\n",
    "# sub_1dcnn = pd.read_csv('/kaggle/input/my-submission1/submission.csv')\n",
    "sub_1dcnn = pd.read_csv('/kaggle/input/my-submission1/sub_1dcnn_15.csv')\n",
    "sub_auto = pd.read_csv('/kaggle/input/my-submission1/sub_auto.csv')\n",
    "sub_xgb = pd.read_csv(\"/kaggle/input/my-submission1/sub_xgb.csv\")\n",
    "sub_knn = pd.read_csv('/kaggle/input/my-submission1/sub_knn.csv')\n",
    "sample_sub = pd.read_csv('/kaggle/input/leash-BELKA/sample_submission.csv')"
   ]
  },
  {
   "cell_type": "code",
   "execution_count": 3,
   "id": "75e85e23",
   "metadata": {
    "execution": {
     "iopub.execute_input": "2024-06-17T00:41:27.254666Z",
     "iopub.status.busy": "2024-06-17T00:41:27.254342Z",
     "iopub.status.idle": "2024-06-17T00:41:29.909969Z",
     "shell.execute_reply": "2024-06-17T00:41:29.908713Z"
    },
    "papermill": {
     "duration": 2.66128,
     "end_time": "2024-06-17T00:41:29.912126",
     "exception": false,
     "start_time": "2024-06-17T00:41:27.250846",
     "status": "completed"
    },
    "tags": []
   },
   "outputs": [
    {
     "data": {
      "text/html": [
       "<div>\n",
       "<style scoped>\n",
       "    .dataframe tbody tr th:only-of-type {\n",
       "        vertical-align: middle;\n",
       "    }\n",
       "\n",
       "    .dataframe tbody tr th {\n",
       "        vertical-align: top;\n",
       "    }\n",
       "\n",
       "    .dataframe thead th {\n",
       "        text-align: right;\n",
       "    }\n",
       "</style>\n",
       "<table border=\"1\" class=\"dataframe\">\n",
       "  <thead>\n",
       "    <tr style=\"text-align: right;\">\n",
       "      <th></th>\n",
       "      <th>id</th>\n",
       "      <th>binds</th>\n",
       "    </tr>\n",
       "  </thead>\n",
       "  <tbody>\n",
       "    <tr>\n",
       "      <th>0</th>\n",
       "      <td>295246830</td>\n",
       "      <td>0.047467</td>\n",
       "    </tr>\n",
       "    <tr>\n",
       "      <th>1</th>\n",
       "      <td>295246831</td>\n",
       "      <td>0.030683</td>\n",
       "    </tr>\n",
       "    <tr>\n",
       "      <th>2</th>\n",
       "      <td>295246832</td>\n",
       "      <td>0.019518</td>\n",
       "    </tr>\n",
       "    <tr>\n",
       "      <th>3</th>\n",
       "      <td>295246833</td>\n",
       "      <td>0.054094</td>\n",
       "    </tr>\n",
       "    <tr>\n",
       "      <th>4</th>\n",
       "      <td>295246834</td>\n",
       "      <td>0.036234</td>\n",
       "    </tr>\n",
       "    <tr>\n",
       "      <th>...</th>\n",
       "      <td>...</td>\n",
       "      <td>...</td>\n",
       "    </tr>\n",
       "    <tr>\n",
       "      <th>1674891</th>\n",
       "      <td>296921721</td>\n",
       "      <td>0.004544</td>\n",
       "    </tr>\n",
       "    <tr>\n",
       "      <th>1674892</th>\n",
       "      <td>296921722</td>\n",
       "      <td>0.004411</td>\n",
       "    </tr>\n",
       "    <tr>\n",
       "      <th>1674893</th>\n",
       "      <td>296921723</td>\n",
       "      <td>0.003535</td>\n",
       "    </tr>\n",
       "    <tr>\n",
       "      <th>1674894</th>\n",
       "      <td>296921724</td>\n",
       "      <td>0.008190</td>\n",
       "    </tr>\n",
       "    <tr>\n",
       "      <th>1674895</th>\n",
       "      <td>296921725</td>\n",
       "      <td>0.002567</td>\n",
       "    </tr>\n",
       "  </tbody>\n",
       "</table>\n",
       "<p>1674896 rows × 2 columns</p>\n",
       "</div>"
      ],
      "text/plain": [
       "                id     binds\n",
       "0        295246830  0.047467\n",
       "1        295246831  0.030683\n",
       "2        295246832  0.019518\n",
       "3        295246833  0.054094\n",
       "4        295246834  0.036234\n",
       "...            ...       ...\n",
       "1674891  296921721  0.004544\n",
       "1674892  296921722  0.004411\n",
       "1674893  296921723  0.003535\n",
       "1674894  296921724  0.008190\n",
       "1674895  296921725  0.002567\n",
       "\n",
       "[1674896 rows x 2 columns]"
      ]
     },
     "execution_count": 3,
     "metadata": {},
     "output_type": "execute_result"
    }
   ],
   "source": [
    "weights = {\n",
    "    'sub_1dcnn': 0.81,\n",
    "    'sub_auto': 0.1,\n",
    "    'sub_xgb': 0.06,\n",
    "    'sub_knn': 0.03\n",
    "}\n",
    "\n",
    "# Merge the submissions using weighted average\n",
    "submission_blend = (\n",
    "    sub_1dcnn['binds'] * weights['sub_1dcnn'] +\n",
    "    sub_auto['binds'] * weights['sub_auto'] +\n",
    "    sub_xgb['binds']  * weights['sub_xgb'] +\n",
    "    sub_knn['binds']  * weights['sub_knn']\n",
    ")\n",
    "\n",
    "sample_sub['binds']=submission_blend\n",
    "sample_sub.to_csv('submission.csv', index=False)\n",
    "sample_sub"
   ]
  },
  {
   "cell_type": "code",
   "execution_count": 4,
   "id": "2d5ed4b1",
   "metadata": {
    "execution": {
     "iopub.execute_input": "2024-06-17T00:41:29.919065Z",
     "iopub.status.busy": "2024-06-17T00:41:29.918457Z",
     "iopub.status.idle": "2024-06-17T00:41:32.917193Z",
     "shell.execute_reply": "2024-06-17T00:41:32.915670Z"
    },
    "papermill": {
     "duration": 3.004751,
     "end_time": "2024-06-17T00:41:32.919525",
     "exception": false,
     "start_time": "2024-06-17T00:41:29.914774",
     "status": "completed"
    },
    "tags": []
   },
   "outputs": [
    {
     "data": {
      "text/plain": [
       "(0.0, 1.0)"
      ]
     },
     "execution_count": 4,
     "metadata": {},
     "output_type": "execute_result"
    },
    {
     "data": {
      "image/png": "[encoded data removed]",
      "text/plain": [
       "<Figure size 1000x400 with 1 Axes>"
      ]
     },
     "metadata": {},
     "output_type": "display_data"
    }
   ],
   "source": [
    "import matplotlib.pyplot as plt\n",
    "import plotly.figure_factory as ff\n",
    "import plotly.express as px\n",
    "import seaborn as sns\n",
    "%matplotlib inline\n",
    "\n",
    "sns.set()\n",
    "plt.figure(figsize=(10, 4))\n",
    "plt.hist(sample_sub['binds'], bins=50, range=[0, 1])\n",
    "\n",
    "plt.gca().set_facecolor('lightyellow')\n",
    "plt.suptitle('Prediction Histogram', y=0.96, fontsize=16, c='darkred')\n",
    "\n",
    "round(sample_sub['binds'].min(), 3), round(sample_sub['binds'].max(), 3)"
   ]
  },
  {
   "cell_type": "code",
   "execution_count": null,
   "id": "414b8b09",
   "metadata": {
    "papermill": {
     "duration": 0.002574,
     "end_time": "2024-06-17T00:41:32.925138",
     "exception": false,
     "start_time": "2024-06-17T00:41:32.922564",
     "status": "completed"
    },
    "tags": []
   },
   "outputs": [],
   "source": []
  },
  {
   "cell_type": "code",
   "execution_count": null,
   "id": "fc571e59",
   "metadata": {
    "papermill": {
     "duration": 0.002512,
     "end_time": "2024-06-17T00:41:32.930400",
     "exception": false,
     "start_time": "2024-06-17T00:41:32.927888",
     "status": "completed"
    },
    "tags": []
   },
   "outputs": [],
   "source": []
  }
 ],
 "metadata": {
  "kaggle": {
   "accelerator": "none",
   "dataSources": [
    {
     "databundleVersionId": 8006601,
     "sourceId": 67356,
     "sourceType": "competition"
    },
    {
     "datasetId": 5201739,
     "sourceId": 8707889,
     "sourceType": "datasetVersion"
    }
   ],
   "dockerImageVersionId": 30698,
   "isGpuEnabled": false,
   "isInternetEnabled": true,
   "language": "python",
   "sourceType": "notebook"
  },
  "kernelspec": {
   "display_name": "Python 3",
   "language": "python",
   "name": "python3"
  },
  "language_info": {
   "codemirror_mode": {
    "name": "ipython",
    "version": 3
   },
   "file_extension": ".py",
   "mimetype": "text/x-python",
   "name": "python",
   "nbconvert_exporter": "python",
   "pygments_lexer": "ipython3",
   "version": "3.10.13"
  },
  "papermill": {
   "default_parameters": {},
   "duration": 12.87187,
   "end_time": "2024-06-17T00:41:33.555311",
   "environment_variables": {},
   "exception": null,
   "input_path": "__notebook__.ipynb",
   "output_path": "__notebook__.ipynb",
   "parameters": {},
   "start_time": "2024-06-17T00:41:20.683441",
   "version": "2.5.0"
  }
 },
 "nbformat": 4,
 "nbformat_minor": 5
}

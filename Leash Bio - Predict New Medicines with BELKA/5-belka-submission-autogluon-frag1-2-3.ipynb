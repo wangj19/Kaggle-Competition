{
 "cells": [
  {
   "cell_type": "markdown",
   "id": "5ea6e9a5",
   "metadata": {
    "papermill": {
     "duration": 0.005499,
     "end_time": "2024-05-01T18:15:27.644537",
     "exception": false,
     "start_time": "2024-05-01T18:15:27.639038",
     "status": "completed"
    },
    "tags": []
   },
   "source": [
    "![](https://cdn-images-1.medium.com/max/1000/1*VZNekSiJoJCcYACvIseF9Q.png)\n"
   ]
  },
  {
   "cell_type": "code",
   "execution_count": 1,
   "id": "c8ea8e03",
   "metadata": {
    "_kg_hide-input": true,
    "execution": {
     "iopub.execute_input": "2024-05-01T18:15:27.656723Z",
     "iopub.status.busy": "2024-05-01T18:15:27.655971Z",
     "iopub.status.idle": "2024-05-01T18:15:29.674325Z",
     "shell.execute_reply": "2024-05-01T18:15:29.673271Z"
    },
    "papermill": {
     "duration": 2.026939,
     "end_time": "2024-05-01T18:15:29.676688",
     "exception": false,
     "start_time": "2024-05-01T18:15:27.649749",
     "status": "completed"
    },
    "tags": []
   },
   "outputs": [
    {
     "data": {
      "text/html": [
       "<marquee>Note: Due to memory limitations, data separation and regression calculations were done in five notebooks.</marquee>"
      ],
      "text/plain": [
       "<IPython.core.display.HTML object>"
      ]
     },
     "metadata": {},
     "output_type": "display_data"
    }
   ],
   "source": [
    "from IPython.display import HTML\n",
    "import time\n",
    "\n",
    "handle = display(HTML(\"\"\"<marquee>👌</marquee>\"\"\"), display_id='html_marquee1')\n",
    "time.sleep(2)\n",
    "handle = display(HTML(\"\"\"<marquee>Note: Due to memory limitations, data separation and regression calculations were done in five notebooks.</marquee>\"\"\"), display_id='html_marquee1', update=True)"
   ]
  },
  {
   "cell_type": "markdown",
   "id": "f9da3182",
   "metadata": {
    "papermill": {
     "duration": 0.004718,
     "end_time": "2024-05-01T18:15:29.686578",
     "exception": false,
     "start_time": "2024-05-01T18:15:29.681860",
     "status": "completed"
    },
    "tags": []
   },
   "source": [
    "## <div style=\"color:lightgray;background-color:navy;padding:1.2%;border-radius:12px 12px;font-size:1em;text-align:center\">[5]⚕️Competition Submission⚕️AutoGluon</div>\n",
    "\n",
    "## <div style=\"color:yellow;display:inline-block;border-radius:5px;background-color:lightgray;font-block:Nexa;overflow:hidden\"><p style=\"padding:15px;color:navy;overflow:hidden;font-size:70%;letter-spacing:0.5px;margin:0\"><b> </b>Description</p></div>\n",
    "\n",
    "- The examples in the competition dataset are represented by a binary classification of whether a given small molecule is a binder or not to one of three protein targets.\n",
    "\n",
    "- Three protein targets were screened for this competition :\n",
    "\n",
    ">\n",
    "> **EPHX2 (sEH)**\n",
    ">\n",
    "> The first target, epoxide hydrolase 2, is encoded by the EPHX2 genetic locus, and its protein product is commonly named “soluble epoxide hydrolase”, or abbreviated to sEH.\n",
    ">\n",
    "> **BRD4**\n",
    ">\n",
    "> The second target, bromodomain 4, is encoded by the BRD4 locus and its protein product is also named BRD4. \n",
    ">\n",
    "> **ALB (HSA)**\n",
    ">\n",
    "> The third target, serum albumin, is encoded by the ALB locus and its protein product is also named ALB. \n",
    ">\n",
    "\n",
    "- The specifications of the columns of the train file and the test file are as follows :\n",
    "\n",
    "| Number | Features | Description |\n",
    "| ----------- | ----------- | ----------- |\n",
    "| 1 | **<span style=\"color: green;\">'id'** | A unique example_id that we use to identify the molecule-binding target pair. |  \n",
    "| 2 | **<span style=\"color: green;\">'buildingblock1_smiles'** | The structure, in SMILES, of the first building block | \n",
    "| 3 | **<span style=\"color: green;\">'buildingblock2_smiles'** | The structure, in SMILES, of the second building block |  \n",
    "| 4 | **<span style=\"color: green;\">'buildingblock3_smiles'** | The structure, in SMILES, of the third building block |  \n",
    "| 5 | **<span style=\"color: green;\">'molecule_smiles'** | The structure of the fully assembled molecule, in SMILES. This includes the three building blocks and the triazine core. - Note we use a [Dy] as the stand-in for the DNA linker. |  \n",
    "| 6 | **<span style=\"color: green;\">'protein_name'** | The protein target name | \n",
    "| 7 | **<span style=\"color: green;\">'binds'** | The target column. A binary class label of whether the molecule binds to the protein. Not available for the test set. |  \n",
    " "
   ]
  },
  {
   "cell_type": "markdown",
   "id": "c5479058",
   "metadata": {
    "papermill": {
     "duration": 0.004758,
     "end_time": "2024-05-01T18:15:29.696426",
     "exception": false,
     "start_time": "2024-05-01T18:15:29.691668",
     "status": "completed"
    },
    "tags": []
   },
   "source": [
    "## <div style=\"color:yellow;display:inline-block;border-radius:5px;background-color:lightgray;font-block:Nexa;overflow:hidden\"><p style=\"padding:15px;color:navy;overflow:hidden;font-size:70%;letter-spacing:0.5px;margin:0\"><b> </b>Details about the experiments</p></div>\n",
    "\n",
    "- DELs are libraries of small molecules with unique DNA barcodes covalently attached\n",
    "\n",
    "- DELs are manufactured by combining different building blocks\n",
    "\n",
    "![](https://cdn-images-1.medium.com/max/1000/1*4Fu8NvfopCK-1XN6p7FeUw.png)\n",
    "\n",
    "## <div style=\"color:yellow;display:inline-block;border-radius:5px;background-color:lightgray;font-block:Nexa;overflow:hidden\"><p style=\"padding:15px;color:navy;overflow:hidden;font-size:70%;letter-spacing:0.5px;margin:0\"><b> </b>Insight :</p></div>\n",
    "\n",
    ">\n",
    "> The **testing data** has 1674896 rows. A large number of rows slows down the work and practically limits the use of a variety of solutions. Perhaps it would have been better if the evaluation in this competition was done with fewer samples.\n",
    ">\n",
    "> In the first notebook, we randomly separated 2,000,000 rows of **training data** by protein type. Of course, in the second, third and fourth notebooks, we used only a part of the rows to model and predict each protein. Finally, the fifth notebook is for posting challenge results.\n",
    ">\n",
    "> So if the first notebook is run several times and each time the regression calculations are done in subsequent notebooks, all these results can be used as **cross-validation**.\n",
    ">\n",
    "> In addition to the output of first notebook, you can also use the public dataset **\"BELKA_frag_1\"** at the following address :\n",
    ">\n",
    "> https://www.kaggle.com/datasets/mehrankazeminia/belka-frag-1\n",
    ">\n",
    "## <div style=\"color:yellow;display:inline-block;border-radius:5px;background-color:lightgray;font-block:Nexa;overflow:hidden\"><p style=\"padding:15px;color:navy;overflow:hidden;font-size:70%;letter-spacing:0.5px;margin:0\"><b> </b>Notebooks :</p></div>\n",
    "\n",
    "| Number | Notebooks |\n",
    "| ----------- | ----------- |\n",
    "| 1 | **<span style=\"color: red;\"> ⚕️EDA & Data separation based on protein type** |\n",
    "| 2 | **<span style=\"color: navy;\">⚕️Create Models & Prediction for protein_name= sEH** |\n",
    "| 3 | **<span style=\"color: red;\"> ⚕️Create Models & Prediction for protein_name= BRD4** |\n",
    "| 4 | **<span style=\"color: navy;\">⚕️Create Models & Prediction for protein_name= HSA** |\n",
    "| 5 | **<span style=\"color: navy;\">⚕️Competition Submission** |\n"
   ]
  },
  {
   "cell_type": "markdown",
   "id": "0e5cc4d1",
   "metadata": {
    "papermill": {
     "duration": 0.005048,
     "end_time": "2024-05-01T18:15:29.706576",
     "exception": false,
     "start_time": "2024-05-01T18:15:29.701528",
     "status": "completed"
    },
    "tags": []
   },
   "source": [
    "<p style=\"border-bottom: 10px solid navy\"></p>\n",
    "\n",
    "<p style=\"border-bottom: 10px solid navy\"></p>"
   ]
  },
  {
   "cell_type": "code",
   "execution_count": 2,
   "id": "f31d7447",
   "metadata": {
    "_kg_hide-input": true,
    "execution": {
     "iopub.execute_input": "2024-05-01T18:15:29.719023Z",
     "iopub.status.busy": "2024-05-01T18:15:29.718073Z",
     "iopub.status.idle": "2024-05-01T18:15:33.412921Z",
     "shell.execute_reply": "2024-05-01T18:15:33.411701Z"
    },
    "papermill": {
     "duration": 3.70381,
     "end_time": "2024-05-01T18:15:33.415388",
     "exception": false,
     "start_time": "2024-05-01T18:15:29.711578",
     "status": "completed"
    },
    "tags": []
   },
   "outputs": [],
   "source": [
    "import os\n",
    "import gc\n",
    "import glob\n",
    "import random\n",
    "import numpy as np \n",
    "import pandas as pd\n",
    "import seaborn as sns\n",
    "from tqdm import tqdm\n",
    "from scipy import stats\n",
    "from pathlib import Path\n",
    "from itertools import groupby\n",
    "# ..................................\n",
    "import matplotlib.pyplot as plt\n",
    "import plotly.figure_factory as ff\n",
    "import plotly.express as px\n",
    "%matplotlib inline"
   ]
  },
  {
   "cell_type": "code",
   "execution_count": 3,
   "id": "a99773e8",
   "metadata": {
    "execution": {
     "iopub.execute_input": "2024-05-01T18:15:33.427825Z",
     "iopub.status.busy": "2024-05-01T18:15:33.427258Z",
     "iopub.status.idle": "2024-05-01T18:15:34.493247Z",
     "shell.execute_reply": "2024-05-01T18:15:34.492078Z"
    },
    "papermill": {
     "duration": 1.07489,
     "end_time": "2024-05-01T18:15:34.495715",
     "exception": false,
     "start_time": "2024-05-01T18:15:33.420825",
     "status": "completed"
    },
    "tags": []
   },
   "outputs": [
    {
     "name": "stdout",
     "output_type": "stream",
     "text": [
      "../input/2-belka-seh-autogluon-frag1:\r\n",
      "__notebook__.ipynb  __results__.html  pred1.csv\r\n",
      "__output__.json     custom.css\t      predictor\r\n",
      "\r\n",
      "../input/3-belka-brd4-autogluon-frag1:\r\n",
      "__notebook__.ipynb  __results__.html  pred2.csv\r\n",
      "__output__.json     custom.css\t      predictor\r\n",
      "\r\n",
      "../input/4-belka-hsa-autogluon-frag1:\r\n",
      "__notebook__.ipynb  __results__.html  pred3.csv\r\n",
      "__output__.json     custom.css\t      predictor\r\n",
      "\r\n",
      "../input/5-belka-submission-autogluon-frag2:\r\n",
      "__notebook__.ipynb  __results__.html   custom.css      submission.csv\r\n",
      "__output__.json     __results___files  sub_auto_1.csv\r\n",
      "\r\n",
      "../input/5-belka-submission-autogluon-frag3:\r\n",
      "__notebook__.ipynb  __results__.html   custom.css      submission.csv\r\n",
      "__output__.json     __results___files  sub_auto_1.csv\r\n",
      "\r\n",
      "../input/leash-BELKA:\r\n",
      "sample_submission.csv  test.csv  test.parquet  train.csv  train.parquet\r\n",
      "\r\n",
      "../input/leashbio-xgb-ecfp-10m-sample-rows:\r\n",
      "__notebook__.ipynb  __results__.html  submission.csv\r\n",
      "__output__.json     custom.css\r\n",
      "\r\n",
      "../input/p-6-6-belka-competition-submission-lgbm:\r\n",
      "__notebook__.ipynb  __results__.html   custom.css    sub_lgbm_1.csv\r\n",
      "__output__.json     __results___files  sub_lgbm.csv  submission.csv\r\n"
     ]
    }
   ],
   "source": [
    "!ls ../input/*"
   ]
  },
  {
   "cell_type": "markdown",
   "id": "54b50419",
   "metadata": {
    "papermill": {
     "duration": 0.006331,
     "end_time": "2024-05-01T18:15:34.507256",
     "exception": false,
     "start_time": "2024-05-01T18:15:34.500925",
     "status": "completed"
    },
    "tags": []
   },
   "source": [
    "# <span style=\"color:darkcyan;\">Competition Submission</span>\n",
    "\n",
    "<p style=\"border-bottom: 10px solid darkcyan\"></p>"
   ]
  },
  {
   "cell_type": "code",
   "execution_count": 4,
   "id": "97d39a54",
   "metadata": {
    "execution": {
     "iopub.execute_input": "2024-05-01T18:15:34.524629Z",
     "iopub.status.busy": "2024-05-01T18:15:34.523818Z",
     "iopub.status.idle": "2024-05-01T18:15:34.885098Z",
     "shell.execute_reply": "2024-05-01T18:15:34.883931Z"
    },
    "papermill": {
     "duration": 0.37288,
     "end_time": "2024-05-01T18:15:34.887382",
     "exception": false,
     "start_time": "2024-05-01T18:15:34.514502",
     "status": "completed"
    },
    "tags": []
   },
   "outputs": [
    {
     "data": {
      "text/plain": [
       "(558142, 2)"
      ]
     },
     "execution_count": 4,
     "metadata": {},
     "output_type": "execute_result"
    }
   ],
   "source": [
    "# protein_name ='sEH'\n",
    "pred1 = pd.read_csv('/kaggle/input/2-belka-seh-autogluon-frag1/pred1.csv')\n",
    "\n",
    "pred1.shape"
   ]
  },
  {
   "cell_type": "code",
   "execution_count": 5,
   "id": "192771e8",
   "metadata": {
    "execution": {
     "iopub.execute_input": "2024-05-01T18:15:34.900761Z",
     "iopub.status.busy": "2024-05-01T18:15:34.900335Z",
     "iopub.status.idle": "2024-05-01T18:15:35.233650Z",
     "shell.execute_reply": "2024-05-01T18:15:35.232477Z"
    },
    "papermill": {
     "duration": 0.343032,
     "end_time": "2024-05-01T18:15:35.235968",
     "exception": false,
     "start_time": "2024-05-01T18:15:34.892936",
     "status": "completed"
    },
    "tags": []
   },
   "outputs": [
    {
     "data": {
      "text/plain": [
       "(558859, 2)"
      ]
     },
     "execution_count": 5,
     "metadata": {},
     "output_type": "execute_result"
    }
   ],
   "source": [
    "# protein_name ='BRD4'\n",
    "pred2 = pd.read_csv('/kaggle/input/3-belka-brd4-autogluon-frag1/pred2.csv')\n",
    "\n",
    "pred2.shape"
   ]
  },
  {
   "cell_type": "code",
   "execution_count": 6,
   "id": "80649aaa",
   "metadata": {
    "execution": {
     "iopub.execute_input": "2024-05-01T18:15:35.249343Z",
     "iopub.status.busy": "2024-05-01T18:15:35.248964Z",
     "iopub.status.idle": "2024-05-01T18:15:35.547856Z",
     "shell.execute_reply": "2024-05-01T18:15:35.546812Z"
    },
    "papermill": {
     "duration": 0.308115,
     "end_time": "2024-05-01T18:15:35.550244",
     "exception": false,
     "start_time": "2024-05-01T18:15:35.242129",
     "status": "completed"
    },
    "tags": []
   },
   "outputs": [
    {
     "data": {
      "text/plain": [
       "(557895, 2)"
      ]
     },
     "execution_count": 6,
     "metadata": {},
     "output_type": "execute_result"
    }
   ],
   "source": [
    "# protein_name ='HSA'\n",
    "pred3 = pd.read_csv('/kaggle/input/4-belka-hsa-autogluon-frag1/pred3.csv')\n",
    "\n",
    "pred3.shape                              "
   ]
  },
  {
   "cell_type": "code",
   "execution_count": 7,
   "id": "795e764c",
   "metadata": {
    "execution": {
     "iopub.execute_input": "2024-05-01T18:15:35.564053Z",
     "iopub.status.busy": "2024-05-01T18:15:35.563682Z",
     "iopub.status.idle": "2024-05-01T18:15:35.657601Z",
     "shell.execute_reply": "2024-05-01T18:15:35.656476Z"
    },
    "papermill": {
     "duration": 0.103152,
     "end_time": "2024-05-01T18:15:35.660042",
     "exception": false,
     "start_time": "2024-05-01T18:15:35.556890",
     "status": "completed"
    },
    "tags": []
   },
   "outputs": [
    {
     "data": {
      "text/html": [
       "<div>\n",
       "<style scoped>\n",
       "    .dataframe tbody tr th:only-of-type {\n",
       "        vertical-align: middle;\n",
       "    }\n",
       "\n",
       "    .dataframe tbody tr th {\n",
       "        vertical-align: top;\n",
       "    }\n",
       "\n",
       "    .dataframe thead th {\n",
       "        text-align: right;\n",
       "    }\n",
       "</style>\n",
       "<table border=\"1\" class=\"dataframe\">\n",
       "  <thead>\n",
       "    <tr style=\"text-align: right;\">\n",
       "      <th></th>\n",
       "      <th>id</th>\n",
       "      <th>binds</th>\n",
       "    </tr>\n",
       "  </thead>\n",
       "  <tbody>\n",
       "    <tr>\n",
       "      <th>0</th>\n",
       "      <td>295246832</td>\n",
       "      <td>0.001097</td>\n",
       "    </tr>\n",
       "    <tr>\n",
       "      <th>1</th>\n",
       "      <td>295246835</td>\n",
       "      <td>0.000829</td>\n",
       "    </tr>\n",
       "    <tr>\n",
       "      <th>2</th>\n",
       "      <td>295246838</td>\n",
       "      <td>0.001355</td>\n",
       "    </tr>\n",
       "    <tr>\n",
       "      <th>3</th>\n",
       "      <td>295246841</td>\n",
       "      <td>0.000383</td>\n",
       "    </tr>\n",
       "    <tr>\n",
       "      <th>4</th>\n",
       "      <td>295246844</td>\n",
       "      <td>0.031202</td>\n",
       "    </tr>\n",
       "    <tr>\n",
       "      <th>...</th>\n",
       "      <td>...</td>\n",
       "      <td>...</td>\n",
       "    </tr>\n",
       "    <tr>\n",
       "      <th>557890</th>\n",
       "      <td>296921712</td>\n",
       "      <td>0.176676</td>\n",
       "    </tr>\n",
       "    <tr>\n",
       "      <th>557891</th>\n",
       "      <td>296921715</td>\n",
       "      <td>0.470288</td>\n",
       "    </tr>\n",
       "    <tr>\n",
       "      <th>557892</th>\n",
       "      <td>296921718</td>\n",
       "      <td>0.049599</td>\n",
       "    </tr>\n",
       "    <tr>\n",
       "      <th>557893</th>\n",
       "      <td>296921721</td>\n",
       "      <td>0.023657</td>\n",
       "    </tr>\n",
       "    <tr>\n",
       "      <th>557894</th>\n",
       "      <td>296921724</td>\n",
       "      <td>0.028026</td>\n",
       "    </tr>\n",
       "  </tbody>\n",
       "</table>\n",
       "<p>1674896 rows × 2 columns</p>\n",
       "</div>"
      ],
      "text/plain": [
       "               id     binds\n",
       "0       295246832  0.001097\n",
       "1       295246835  0.000829\n",
       "2       295246838  0.001355\n",
       "3       295246841  0.000383\n",
       "4       295246844  0.031202\n",
       "...           ...       ...\n",
       "557890  296921712  0.176676\n",
       "557891  296921715  0.470288\n",
       "557892  296921718  0.049599\n",
       "557893  296921721  0.023657\n",
       "557894  296921724  0.028026\n",
       "\n",
       "[1674896 rows x 2 columns]"
      ]
     },
     "execution_count": 7,
     "metadata": {},
     "output_type": "execute_result"
    }
   ],
   "source": [
    "pred = pd.concat([pred1, pred2, pred3])\n",
    "pred['binds'] = np.clip(pred['binds'], 0., 1.)\n",
    "pred"
   ]
  },
  {
   "cell_type": "code",
   "execution_count": 8,
   "id": "3978229a",
   "metadata": {
    "execution": {
     "iopub.execute_input": "2024-05-01T18:15:35.673834Z",
     "iopub.status.busy": "2024-05-01T18:15:35.672807Z",
     "iopub.status.idle": "2024-05-01T18:15:36.160288Z",
     "shell.execute_reply": "2024-05-01T18:15:36.159483Z"
    },
    "papermill": {
     "duration": 0.496815,
     "end_time": "2024-05-01T18:15:36.162615",
     "exception": false,
     "start_time": "2024-05-01T18:15:35.665800",
     "status": "completed"
    },
    "tags": []
   },
   "outputs": [
    {
     "data": {
      "text/plain": [
       "(0.0, 1.0)"
      ]
     },
     "execution_count": 8,
     "metadata": {},
     "output_type": "execute_result"
    },
    {
     "data": {
      "image/png": "[encoded data removed]",
      "text/plain": [
       "<Figure size 1000x400 with 1 Axes>"
      ]
     },
     "metadata": {},
     "output_type": "display_data"
    }
   ],
   "source": [
    "sns.set()\n",
    "plt.figure(figsize=(10, 4))\n",
    "plt.hist(pred['binds'], bins=50)\n",
    "\n",
    "plt.gca().set_facecolor('lightyellow')\n",
    "plt.suptitle('Prediction Histogram', y=0.96, fontsize=16, c='darkred')\n",
    "\n",
    "round(pred['binds'].min(), 3), round(pred['binds'].max(), 3)"
   ]
  },
  {
   "cell_type": "code",
   "execution_count": 9,
   "id": "a3dbc13c",
   "metadata": {
    "execution": {
     "iopub.execute_input": "2024-05-01T18:15:36.176951Z",
     "iopub.status.busy": "2024-05-01T18:15:36.176549Z",
     "iopub.status.idle": "2024-05-01T18:15:41.022378Z",
     "shell.execute_reply": "2024-05-01T18:15:41.020933Z"
    },
    "papermill": {
     "duration": 4.856162,
     "end_time": "2024-05-01T18:15:41.025170",
     "exception": false,
     "start_time": "2024-05-01T18:15:36.169008",
     "status": "completed"
    },
    "tags": []
   },
   "outputs": [
    {
     "name": "stdout",
     "output_type": "stream",
     "text": [
      "__notebook__.ipynb  sub_auto_1.csv\r\n"
     ]
    }
   ],
   "source": [
    "sub_auto_1 = pred.sort_values(by=['id'])\n",
    "sub_auto_1.to_csv('sub_auto_1.csv', index=False)\n",
    "\n",
    "# Public Score: 0.499\n",
    "!ls"
   ]
  },
  {
   "cell_type": "code",
   "execution_count": 10,
   "id": "06592f85",
   "metadata": {
    "execution": {
     "iopub.execute_input": "2024-05-01T18:15:41.040486Z",
     "iopub.status.busy": "2024-05-01T18:15:41.040011Z",
     "iopub.status.idle": "2024-05-01T18:15:48.003993Z",
     "shell.execute_reply": "2024-05-01T18:15:48.002718Z"
    },
    "papermill": {
     "duration": 6.974996,
     "end_time": "2024-05-01T18:15:48.006985",
     "exception": false,
     "start_time": "2024-05-01T18:15:41.031989",
     "status": "completed"
    },
    "tags": []
   },
   "outputs": [
    {
     "name": "stdout",
     "output_type": "stream",
     "text": [
      "__notebook__.ipynb  sub_auto.csv  sub_auto_1.csv\r\n"
     ]
    }
   ],
   "source": [
    "# Training is done with different rows of training data.\n",
    "\n",
    "sub_auto_2 = pd.read_csv('../input/5-belka-submission-autogluon-frag2/sub_auto_1.csv')\n",
    "sub_auto_3 = pd.read_csv('../input/5-belka-submission-autogluon-frag3/sub_auto_1.csv')\n",
    "\n",
    "# Similar to cross validation\n",
    "\n",
    "sub_auto = pd.read_csv('../input/leash-BELKA/sample_submission.csv')\n",
    "sub_auto['binds'] = (sub_auto_1['binds'].values + sub_auto_2['binds'].values + sub_auto_3['binds'].values) / 3\n",
    "sub_auto.to_csv('sub_auto.csv', index=False)\n",
    "# Public Score: 0.524\n",
    "!ls"
   ]
  },
  {
   "cell_type": "markdown",
   "id": "d3440957",
   "metadata": {
    "papermill": {
     "duration": 0.006346,
     "end_time": "2024-05-01T18:15:48.020424",
     "exception": false,
     "start_time": "2024-05-01T18:15:48.014078",
     "status": "completed"
    },
    "tags": []
   },
   "source": [
    "# <span style=\"color:darkcyan;\">Ensembling</span>\n",
    "\n",
    "<p style=\"border-bottom: 10px solid darkcyan\"></p>"
   ]
  },
  {
   "cell_type": "code",
   "execution_count": 11,
   "id": "853285ea",
   "metadata": {
    "execution": {
     "iopub.execute_input": "2024-05-01T18:15:48.036089Z",
     "iopub.status.busy": "2024-05-01T18:15:48.035668Z",
     "iopub.status.idle": "2024-05-01T18:15:54.785072Z",
     "shell.execute_reply": "2024-05-01T18:15:54.783675Z"
    },
    "papermill": {
     "duration": 6.761014,
     "end_time": "2024-05-01T18:15:54.788185",
     "exception": false,
     "start_time": "2024-05-01T18:15:48.027171",
     "status": "completed"
    },
    "tags": []
   },
   "outputs": [
    {
     "name": "stdout",
     "output_type": "stream",
     "text": [
      "__notebook__.ipynb  sub_auto.csv  sub_auto_1.csv  submission.csv\r\n"
     ]
    }
   ],
   "source": [
    "#Thanks to: @ricopue - Public Score: 0.546\n",
    "sub_xgb = pd.read_csv('../input/leashbio-xgb-ecfp-10m-sample-rows/submission.csv')\n",
    "\n",
    "sub_lgbm = pd.read_csv('../input/p-6-6-belka-competition-submission-lgbm/submission.csv')\n",
    "\n",
    "submission = pd.read_csv('../input/leash-BELKA/sample_submission.csv')\n",
    "submission['binds'] = (sub_auto['binds'].values* 0.35) + (sub_lgbm['binds'].values* 0.15) + (sub_xgb['binds'].values* 0.50)\n",
    "submission.to_csv('submission.csv', index=False)\n",
    "#Public Score: 0.553\n",
    "!ls"
   ]
  },
  {
   "cell_type": "code",
   "execution_count": 12,
   "id": "0827cf9f",
   "metadata": {
    "execution": {
     "iopub.execute_input": "2024-05-01T18:15:54.810329Z",
     "iopub.status.busy": "2024-05-01T18:15:54.809820Z",
     "iopub.status.idle": "2024-05-01T18:15:55.307598Z",
     "shell.execute_reply": "2024-05-01T18:15:55.306439Z"
    },
    "papermill": {
     "duration": 0.512465,
     "end_time": "2024-05-01T18:15:55.310509",
     "exception": false,
     "start_time": "2024-05-01T18:15:54.798044",
     "status": "completed"
    },
    "tags": []
   },
   "outputs": [
    {
     "data": {
      "text/plain": [
       "(0.0, 1.0)"
      ]
     },
     "execution_count": 12,
     "metadata": {},
     "output_type": "execute_result"
    },
    {
     "data": {
      "image/png": "[encoded data removed]",
      "text/plain": [
       "<Figure size 1000x400 with 1 Axes>"
      ]
     },
     "metadata": {},
     "output_type": "display_data"
    }
   ],
   "source": [
    "sns.set()\n",
    "plt.figure(figsize=(10, 4))\n",
    "plt.hist(submission['binds'], bins=50)\n",
    "\n",
    "plt.gca().set_facecolor('lightyellow')\n",
    "plt.suptitle('Ensembling Histogram', y=0.96, fontsize=16, c='darkred')\n",
    "\n",
    "round(submission['binds'].min(), 3), round(submission['binds'].max(), 3)"
   ]
  },
  {
   "cell_type": "markdown",
   "id": "735e5ee7",
   "metadata": {
    "papermill": {
     "duration": 0.006906,
     "end_time": "2024-05-01T18:15:55.325310",
     "exception": false,
     "start_time": "2024-05-01T18:15:55.318404",
     "status": "completed"
    },
    "tags": []
   },
   "source": [
    "<p style=\"border-bottom: 10px solid darkcyan\"></p>\n",
    "<p style=\"border-bottom: 10px solid darkcyan\"></p>"
   ]
  }
 ],
 "metadata": {
  "kaggle": {
   "accelerator": "none",
   "dataSources": [
    {
     "databundleVersionId": 8006601,
     "sourceId": 67356,
     "sourceType": "competition"
    },
    {
     "sourceId": 173728233,
     "sourceType": "kernelVersion"
    },
    {
     "sourceId": 173754715,
     "sourceType": "kernelVersion"
    },
    {
     "sourceId": 173757700,
     "sourceType": "kernelVersion"
    },
    {
     "sourceId": 173764673,
     "sourceType": "kernelVersion"
    },
    {
     "sourceId": 174671603,
     "sourceType": "kernelVersion"
    },
    {
     "sourceId": 175088375,
     "sourceType": "kernelVersion"
    },
    {
     "sourceId": 175115917,
     "sourceType": "kernelVersion"
    }
   ],
   "dockerImageVersionId": 30684,
   "isGpuEnabled": false,
   "isInternetEnabled": true,
   "language": "python",
   "sourceType": "notebook"
  },
  "kernelspec": {
   "display_name": "Python 3",
   "language": "python",
   "name": "python3"
  },
  "language_info": {
   "codemirror_mode": {
    "name": "ipython",
    "version": 3
   },
   "file_extension": ".py",
   "mimetype": "text/x-python",
   "name": "python",
   "nbconvert_exporter": "python",
   "pygments_lexer": "ipython3",
   "version": "3.10.13"
  },
  "papermill": {
   "default_parameters": {},
   "duration": 31.197258,
   "end_time": "2024-05-01T18:15:56.056794",
   "environment_variables": {},
   "exception": null,
   "input_path": "__notebook__.ipynb",
   "output_path": "__notebook__.ipynb",
   "parameters": {},
   "start_time": "2024-05-01T18:15:24.859536",
   "version": "2.5.0"
  }
 },
 "nbformat": 4,
 "nbformat_minor": 5
}

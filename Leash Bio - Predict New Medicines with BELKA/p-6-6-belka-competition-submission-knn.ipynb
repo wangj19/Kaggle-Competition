{
 "cells": [
  {
   "cell_type": "markdown",
   "id": "1b963089",
   "metadata": {
    "papermill": {
     "duration": 0.008971,
     "end_time": "2024-04-24T16:24:40.427652",
     "exception": false,
     "start_time": "2024-04-24T16:24:40.418681",
     "status": "completed"
    },
    "tags": []
   },
   "source": [
    "![](https://cdn-images-1.medium.com/max/1000/1*VZNekSiJoJCcYACvIseF9Q.png)\n"
   ]
  },
  {
   "cell_type": "code",
   "execution_count": 1,
   "id": "88236f1c",
   "metadata": {
    "_kg_hide-input": true,
    "execution": {
     "iopub.execute_input": "2024-04-24T16:24:40.445171Z",
     "iopub.status.busy": "2024-04-24T16:24:40.444383Z",
     "iopub.status.idle": "2024-04-24T16:24:42.466562Z",
     "shell.execute_reply": "2024-04-24T16:24:42.465307Z"
    },
    "papermill": {
     "duration": 2.033542,
     "end_time": "2024-04-24T16:24:42.469121",
     "exception": false,
     "start_time": "2024-04-24T16:24:40.435579",
     "status": "completed"
    },
    "tags": []
   },
   "outputs": [
    {
     "data": {
      "text/html": [
       "<marquee>Note: Due to memory limitations, data separation and regression calculations were done in six notebooks.</marquee>"
      ],
      "text/plain": [
       "<IPython.core.display.HTML object>"
      ]
     },
     "metadata": {},
     "output_type": "display_data"
    }
   ],
   "source": [
    "from IPython.display import HTML\n",
    "import time\n",
    "\n",
    "handle = display(HTML(\"\"\"<marquee>👌</marquee>\"\"\"), display_id='html_marquee1')\n",
    "time.sleep(2)\n",
    "handle = display(HTML(\"\"\"<marquee>Note: Due to memory limitations, data separation and regression calculations were done in six notebooks.</marquee>\"\"\"), display_id='html_marquee1', update=True)"
   ]
  },
  {
   "cell_type": "markdown",
   "id": "2c39c39b",
   "metadata": {
    "papermill": {
     "duration": 0.007218,
     "end_time": "2024-04-24T16:24:42.483903",
     "exception": false,
     "start_time": "2024-04-24T16:24:42.476685",
     "status": "completed"
    },
    "tags": []
   },
   "source": [
    "## <div style=\"color:lightgray;background-color:navy;padding:1.2%;border-radius:12px 12px;font-size:1em;text-align:center\">[6/6]⚕️Competition Submission - KNN</div>\n",
    "\n",
    "## <div style=\"color:yellow;display:inline-block;border-radius:5px;background-color:lightgray;font-block:Nexa;overflow:hidden\"><p style=\"padding:15px;color:navy;overflow:hidden;font-size:70%;letter-spacing:0.5px;margin:0\"><b> </b>Description</p></div>\n",
    "\n",
    "- The examples in the competition dataset are represented by a binary classification of whether a given small molecule is a binder or not to one of three protein targets.\n",
    "\n",
    "- Three protein targets were screened for this competition :\n",
    "\n",
    ">\n",
    "> **EPHX2 (sEH)**\n",
    ">\n",
    "> The first target, epoxide hydrolase 2, is encoded by the EPHX2 genetic locus, and its protein product is commonly named “soluble epoxide hydrolase”, or abbreviated to sEH.\n",
    ">\n",
    "> **BRD4**\n",
    ">\n",
    "> The second target, bromodomain 4, is encoded by the BRD4 locus and its protein product is also named BRD4. \n",
    ">\n",
    "> **ALB (HSA)**\n",
    ">\n",
    "> The third target, serum albumin, is encoded by the ALB locus and its protein product is also named ALB. \n",
    ">\n",
    "\n",
    "- The specifications of the columns of the train file and the test file are as follows :\n",
    "\n",
    "| Number | Features | Description |\n",
    "| ----------- | ----------- | ----------- |\n",
    "| 1 | **<span style=\"color: green;\">'id'** | A unique example_id that we use to identify the molecule-binding target pair. |  \n",
    "| 2 | **<span style=\"color: green;\">'buildingblock1_smiles'** | The structure, in SMILES, of the first building block | \n",
    "| 3 | **<span style=\"color: green;\">'buildingblock2_smiles'** | The structure, in SMILES, of the second building block |  \n",
    "| 4 | **<span style=\"color: green;\">'buildingblock3_smiles'** | The structure, in SMILES, of the third building block |  \n",
    "| 5 | **<span style=\"color: green;\">'molecule_smiles'** | The structure of the fully assembled molecule, in SMILES. This includes the three building blocks and the triazine core. - Note we use a [Dy] as the stand-in for the DNA linker. |  \n",
    "| 6 | **<span style=\"color: green;\">'protein_name'** | The protein target name | \n",
    "| 7 | **<span style=\"color: green;\">'binds'** | The target column. A binary class label of whether the molecule binds to the protein. Not available for the test set. |  \n",
    " "
   ]
  },
  {
   "cell_type": "markdown",
   "id": "faa912f9",
   "metadata": {
    "papermill": {
     "duration": 0.006991,
     "end_time": "2024-04-24T16:24:42.498284",
     "exception": false,
     "start_time": "2024-04-24T16:24:42.491293",
     "status": "completed"
    },
    "tags": []
   },
   "source": [
    "## <div style=\"color:yellow;display:inline-block;border-radius:5px;background-color:lightgray;font-block:Nexa;overflow:hidden\"><p style=\"padding:15px;color:navy;overflow:hidden;font-size:70%;letter-spacing:0.5px;margin:0\"><b> </b>Details about the experiments</p></div>\n",
    "\n",
    "- DELs are libraries of small molecules with unique DNA barcodes covalently attached\n",
    "\n",
    "- DELs are manufactured by combining different building blocks\n",
    "\n",
    "![](https://cdn-images-1.medium.com/max/1000/1*4Fu8NvfopCK-1XN6p7FeUw.png)\n",
    "\n",
    "## <div style=\"color:yellow;display:inline-block;border-radius:5px;background-color:lightgray;font-block:Nexa;overflow:hidden\"><p style=\"padding:15px;color:navy;overflow:hidden;font-size:70%;letter-spacing:0.5px;margin:0\"><b> </b>Insight :</p></div>\n",
    "\n",
    ">\n",
    "> The **testing data** has 1674896 rows. A large number of rows slows down the work and practically limits the use of a variety of solutions. Perhaps it would have been better if the evaluation in this competition was done with fewer samples.\n",
    ">\n",
    "> In the first notebook, we randomly separated 2,000,000 rows of **training data** by protein type. Of course, in the second notebook, we used only part of the rows for modeling. The third, fourth, and fifth notebooks are for the prediction of each protein. In the sixth notebook, only the submission of results for the challenge is done.\n",
    ">\n",
    "> So if the first notebook is run several times and each time the regression calculations are done in subsequent notebooks, all these results can be used as **cross-validation**.\n",
    ">\n",
    "> In addition to the output of first notebook, you can also use the public dataset **\"BELKA_frag_1\"** at the following address :\n",
    ">\n",
    "> https://www.kaggle.com/datasets/mehrankazeminia/belka-frag-1\n",
    ">\n",
    "## <div style=\"color:yellow;display:inline-block;border-radius:5px;background-color:lightgray;font-block:Nexa;overflow:hidden\"><p style=\"padding:15px;color:navy;overflow:hidden;font-size:70%;letter-spacing:0.5px;margin:0\"><b> </b>Notebooks :</p></div>\n",
    "\n",
    "| Number | Notebooks |\n",
    "| ----------- | ----------- |\n",
    "| 1 | **<span style=\"color: red;\"> ⚕️EDA & Data separation based on protein type** |\n",
    "| 2 | **<span style=\"color: navy;\">⚕️Create Models [LinearSVR], [KNN], [LGBM], ...** |\n",
    "| 3 | **<span style=\"color: red;\"> ⚕️Prediction for protein_name= sEH** |\n",
    "| 4 | **<span style=\"color: navy;\">⚕️Prediction for protein_name= BRD4** |\n",
    "| 5 | **<span style=\"color: red;\"> ⚕️Prediction for protein_name= HSA** |\n",
    "| 6 | **<span style=\"color: navy;\">⚕️Competition Submission** |\n"
   ]
  },
  {
   "cell_type": "markdown",
   "id": "14412f5f",
   "metadata": {
    "papermill": {
     "duration": 0.007013,
     "end_time": "2024-04-24T16:24:42.512620",
     "exception": false,
     "start_time": "2024-04-24T16:24:42.505607",
     "status": "completed"
    },
    "tags": []
   },
   "source": [
    "<p style=\"border-bottom: 10px solid navy\"></p>\n",
    "\n",
    "<p style=\"border-bottom: 10px solid navy\"></p>"
   ]
  },
  {
   "cell_type": "code",
   "execution_count": 2,
   "id": "f94894f6",
   "metadata": {
    "_kg_hide-input": true,
    "execution": {
     "iopub.execute_input": "2024-04-24T16:24:42.529122Z",
     "iopub.status.busy": "2024-04-24T16:24:42.528692Z",
     "iopub.status.idle": "2024-04-24T16:24:47.047909Z",
     "shell.execute_reply": "2024-04-24T16:24:47.046340Z"
    },
    "papermill": {
     "duration": 4.530775,
     "end_time": "2024-04-24T16:24:47.050792",
     "exception": false,
     "start_time": "2024-04-24T16:24:42.520017",
     "status": "completed"
    },
    "tags": []
   },
   "outputs": [],
   "source": [
    "import os\n",
    "import gc\n",
    "import glob\n",
    "import random\n",
    "import numpy as np \n",
    "import pandas as pd\n",
    "import seaborn as sns\n",
    "from tqdm import tqdm\n",
    "from scipy import stats\n",
    "from pathlib import Path\n",
    "from itertools import groupby\n",
    "# ..................................\n",
    "import matplotlib.pyplot as plt\n",
    "import plotly.figure_factory as ff\n",
    "import plotly.express as px\n",
    "%matplotlib inline"
   ]
  },
  {
   "cell_type": "code",
   "execution_count": 3,
   "id": "4ac3fd29",
   "metadata": {
    "execution": {
     "iopub.execute_input": "2024-04-24T16:24:47.068544Z",
     "iopub.status.busy": "2024-04-24T16:24:47.067910Z",
     "iopub.status.idle": "2024-04-24T16:24:48.208154Z",
     "shell.execute_reply": "2024-04-24T16:24:48.206561Z"
    },
    "papermill": {
     "duration": 1.152884,
     "end_time": "2024-04-24T16:24:48.211653",
     "exception": false,
     "start_time": "2024-04-24T16:24:47.058769",
     "status": "completed"
    },
    "tags": []
   },
   "outputs": [
    {
     "name": "stdout",
     "output_type": "stream",
     "text": [
      "../input/belka-knn-410:\r\n",
      "submission.csv\r\n",
      "\r\n",
      "../input/belka-knn-411:\r\n",
      "submission.csv\r\n",
      "\r\n",
      "../input/k:\r\n",
      "mehrankazeminia\r\n",
      "\r\n",
      "../input/leash-BELKA:\r\n",
      "sample_submission.csv  test.csv  test.parquet  train.csv  train.parquet\r\n",
      "\r\n",
      "../input/leash-bio-automl-baseline:\r\n",
      "__notebook__.ipynb  __results__.html  custom.css\r\n",
      "__output__.json     __resultx__.html  submission.csv\r\n",
      "\r\n",
      "../input/leash-bio-automl-baseline-2:\r\n",
      "__notebook__.ipynb  __results__.html  predictor\r\n",
      "__output__.json     custom.css\t      submission.csv\r\n",
      "\r\n",
      "../input/p-3-6-belka-prediction-for-seh-knn:\r\n",
      "__notebook__.ipynb  __output__.json  __results__.html  custom.css  pred1.csv\r\n",
      "\r\n",
      "../input/p-4-6-belka-prediction-for-brd4-knn:\r\n",
      "__notebook__.ipynb  __output__.json  __results__.html  custom.css  pred2.csv\r\n",
      "\r\n",
      "../input/p-5-6-belka-prediction-for-hsa-knn:\r\n",
      "__notebook__.ipynb  __output__.json  __results__.html  custom.css  pred3.csv\r\n"
     ]
    }
   ],
   "source": [
    "!ls ../input/*"
   ]
  },
  {
   "cell_type": "markdown",
   "id": "2e4550ae",
   "metadata": {
    "papermill": {
     "duration": 0.007289,
     "end_time": "2024-04-24T16:24:48.226489",
     "exception": false,
     "start_time": "2024-04-24T16:24:48.219200",
     "status": "completed"
    },
    "tags": []
   },
   "source": [
    "# <span style=\"color:darkcyan;\">Competition Submission</span>\n",
    "\n",
    "<p style=\"border-bottom: 10px solid darkcyan\"></p>"
   ]
  },
  {
   "cell_type": "code",
   "execution_count": 4,
   "id": "2033b4f5",
   "metadata": {
    "execution": {
     "iopub.execute_input": "2024-04-24T16:24:48.244597Z",
     "iopub.status.busy": "2024-04-24T16:24:48.243708Z",
     "iopub.status.idle": "2024-04-24T16:24:48.556692Z",
     "shell.execute_reply": "2024-04-24T16:24:48.555510Z"
    },
    "papermill": {
     "duration": 0.32541,
     "end_time": "2024-04-24T16:24:48.559472",
     "exception": false,
     "start_time": "2024-04-24T16:24:48.234062",
     "status": "completed"
    },
    "tags": []
   },
   "outputs": [
    {
     "data": {
      "text/plain": [
       "(558142, 2)"
      ]
     },
     "execution_count": 4,
     "metadata": {},
     "output_type": "execute_result"
    }
   ],
   "source": [
    "# protein_name ='sEH'\n",
    "pred1 = pd.read_csv('../input/p-3-6-belka-prediction-for-seh-knn/pred1.csv')\n",
    "\n",
    "pred1.shape"
   ]
  },
  {
   "cell_type": "code",
   "execution_count": 5,
   "id": "ad391694",
   "metadata": {
    "execution": {
     "iopub.execute_input": "2024-04-24T16:24:48.577871Z",
     "iopub.status.busy": "2024-04-24T16:24:48.577444Z",
     "iopub.status.idle": "2024-04-24T16:24:48.870021Z",
     "shell.execute_reply": "2024-04-24T16:24:48.868652Z"
    },
    "papermill": {
     "duration": 0.306134,
     "end_time": "2024-04-24T16:24:48.873261",
     "exception": false,
     "start_time": "2024-04-24T16:24:48.567127",
     "status": "completed"
    },
    "tags": []
   },
   "outputs": [
    {
     "data": {
      "text/plain": [
       "(558859, 2)"
      ]
     },
     "execution_count": 5,
     "metadata": {},
     "output_type": "execute_result"
    }
   ],
   "source": [
    "# protein_name ='BRD4'\n",
    "pred2 = pd.read_csv('../input/p-4-6-belka-prediction-for-brd4-knn/pred2.csv')\n",
    "\n",
    "pred2.shape"
   ]
  },
  {
   "cell_type": "code",
   "execution_count": 6,
   "id": "cd806582",
   "metadata": {
    "execution": {
     "iopub.execute_input": "2024-04-24T16:24:48.891687Z",
     "iopub.status.busy": "2024-04-24T16:24:48.890515Z",
     "iopub.status.idle": "2024-04-24T16:24:49.179069Z",
     "shell.execute_reply": "2024-04-24T16:24:49.177755Z"
    },
    "papermill": {
     "duration": 0.300308,
     "end_time": "2024-04-24T16:24:49.181528",
     "exception": false,
     "start_time": "2024-04-24T16:24:48.881220",
     "status": "completed"
    },
    "tags": []
   },
   "outputs": [
    {
     "data": {
      "text/plain": [
       "(557895, 2)"
      ]
     },
     "execution_count": 6,
     "metadata": {},
     "output_type": "execute_result"
    }
   ],
   "source": [
    "# protein_name ='HSA'\n",
    "pred3 = pd.read_csv('../input/p-5-6-belka-prediction-for-hsa-knn/pred3.csv')\n",
    "\n",
    "pred3.shape"
   ]
  },
  {
   "cell_type": "code",
   "execution_count": 7,
   "id": "e32410ab",
   "metadata": {
    "execution": {
     "iopub.execute_input": "2024-04-24T16:24:49.199443Z",
     "iopub.status.busy": "2024-04-24T16:24:49.199027Z",
     "iopub.status.idle": "2024-04-24T16:24:49.247422Z",
     "shell.execute_reply": "2024-04-24T16:24:49.246206Z"
    },
    "papermill": {
     "duration": 0.06018,
     "end_time": "2024-04-24T16:24:49.249939",
     "exception": false,
     "start_time": "2024-04-24T16:24:49.189759",
     "status": "completed"
    },
    "tags": []
   },
   "outputs": [
    {
     "data": {
      "text/html": [
       "<div>\n",
       "<style scoped>\n",
       "    .dataframe tbody tr th:only-of-type {\n",
       "        vertical-align: middle;\n",
       "    }\n",
       "\n",
       "    .dataframe tbody tr th {\n",
       "        vertical-align: top;\n",
       "    }\n",
       "\n",
       "    .dataframe thead th {\n",
       "        text-align: right;\n",
       "    }\n",
       "</style>\n",
       "<table border=\"1\" class=\"dataframe\">\n",
       "  <thead>\n",
       "    <tr style=\"text-align: right;\">\n",
       "      <th></th>\n",
       "      <th>id</th>\n",
       "      <th>binds</th>\n",
       "    </tr>\n",
       "  </thead>\n",
       "  <tbody>\n",
       "    <tr>\n",
       "      <th>0</th>\n",
       "      <td>295246832</td>\n",
       "      <td>0.02</td>\n",
       "    </tr>\n",
       "    <tr>\n",
       "      <th>1</th>\n",
       "      <td>295246835</td>\n",
       "      <td>0.00</td>\n",
       "    </tr>\n",
       "    <tr>\n",
       "      <th>2</th>\n",
       "      <td>295246838</td>\n",
       "      <td>0.06</td>\n",
       "    </tr>\n",
       "    <tr>\n",
       "      <th>3</th>\n",
       "      <td>295246841</td>\n",
       "      <td>0.00</td>\n",
       "    </tr>\n",
       "    <tr>\n",
       "      <th>4</th>\n",
       "      <td>295246844</td>\n",
       "      <td>0.14</td>\n",
       "    </tr>\n",
       "    <tr>\n",
       "      <th>...</th>\n",
       "      <td>...</td>\n",
       "      <td>...</td>\n",
       "    </tr>\n",
       "    <tr>\n",
       "      <th>557890</th>\n",
       "      <td>296921712</td>\n",
       "      <td>0.10</td>\n",
       "    </tr>\n",
       "    <tr>\n",
       "      <th>557891</th>\n",
       "      <td>296921715</td>\n",
       "      <td>0.08</td>\n",
       "    </tr>\n",
       "    <tr>\n",
       "      <th>557892</th>\n",
       "      <td>296921718</td>\n",
       "      <td>0.08</td>\n",
       "    </tr>\n",
       "    <tr>\n",
       "      <th>557893</th>\n",
       "      <td>296921721</td>\n",
       "      <td>0.04</td>\n",
       "    </tr>\n",
       "    <tr>\n",
       "      <th>557894</th>\n",
       "      <td>296921724</td>\n",
       "      <td>0.12</td>\n",
       "    </tr>\n",
       "  </tbody>\n",
       "</table>\n",
       "<p>1674896 rows × 2 columns</p>\n",
       "</div>"
      ],
      "text/plain": [
       "               id  binds\n",
       "0       295246832   0.02\n",
       "1       295246835   0.00\n",
       "2       295246838   0.06\n",
       "3       295246841   0.00\n",
       "4       295246844   0.14\n",
       "...           ...    ...\n",
       "557890  296921712   0.10\n",
       "557891  296921715   0.08\n",
       "557892  296921718   0.08\n",
       "557893  296921721   0.04\n",
       "557894  296921724   0.12\n",
       "\n",
       "[1674896 rows x 2 columns]"
      ]
     },
     "execution_count": 7,
     "metadata": {},
     "output_type": "execute_result"
    }
   ],
   "source": [
    "pred = pd.concat([pred1, pred2, pred3])\n",
    "pred"
   ]
  },
  {
   "cell_type": "code",
   "execution_count": 8,
   "id": "9b689b37",
   "metadata": {
    "execution": {
     "iopub.execute_input": "2024-04-24T16:24:49.268408Z",
     "iopub.status.busy": "2024-04-24T16:24:49.267971Z",
     "iopub.status.idle": "2024-04-24T16:24:49.834454Z",
     "shell.execute_reply": "2024-04-24T16:24:49.833386Z"
    },
    "papermill": {
     "duration": 0.578714,
     "end_time": "2024-04-24T16:24:49.836930",
     "exception": false,
     "start_time": "2024-04-24T16:24:49.258216",
     "status": "completed"
    },
    "tags": []
   },
   "outputs": [
    {
     "data": {
      "text/plain": [
       "(0.0, 1.0)"
      ]
     },
     "execution_count": 8,
     "metadata": {},
     "output_type": "execute_result"
    },
    {
     "data": {
      "image/png": "[encoded data removed]",
      "text/plain": [
       "<Figure size 1000x400 with 1 Axes>"
      ]
     },
     "metadata": {},
     "output_type": "display_data"
    }
   ],
   "source": [
    "sns.set()\n",
    "plt.figure(figsize=(10, 4))\n",
    "plt.hist(pred['binds'], bins=50)\n",
    "\n",
    "plt.gca().set_facecolor('lightyellow')\n",
    "plt.suptitle('Prediction Histogram', y=0.96, fontsize=16, c='darkred')\n",
    "\n",
    "round(pred['binds'].min(), 3), round(pred['binds'].max(), 3)"
   ]
  },
  {
   "cell_type": "code",
   "execution_count": 9,
   "id": "333579ee",
   "metadata": {
    "execution": {
     "iopub.execute_input": "2024-04-24T16:24:49.857403Z",
     "iopub.status.busy": "2024-04-24T16:24:49.856661Z",
     "iopub.status.idle": "2024-04-24T16:24:54.644140Z",
     "shell.execute_reply": "2024-04-24T16:24:54.642795Z"
    },
    "papermill": {
     "duration": 4.801428,
     "end_time": "2024-04-24T16:24:54.647418",
     "exception": false,
     "start_time": "2024-04-24T16:24:49.845990",
     "status": "completed"
    },
    "tags": []
   },
   "outputs": [
    {
     "name": "stdout",
     "output_type": "stream",
     "text": [
      "__notebook__.ipynb  sub_knn_1.csv\r\n"
     ]
    }
   ],
   "source": [
    "sub_knn_1 = pred.sort_values(by=['id'])\n",
    "sub_knn_1.to_csv('sub_knn_1.csv', index=False)\n",
    "# Public Score: 0.416\n",
    "!ls"
   ]
  },
  {
   "cell_type": "code",
   "execution_count": 10,
   "id": "058463b2",
   "metadata": {
    "execution": {
     "iopub.execute_input": "2024-04-24T16:24:54.668462Z",
     "iopub.status.busy": "2024-04-24T16:24:54.668020Z",
     "iopub.status.idle": "2024-04-24T16:25:02.942150Z",
     "shell.execute_reply": "2024-04-24T16:25:02.940918Z"
    },
    "papermill": {
     "duration": 8.288486,
     "end_time": "2024-04-24T16:25:02.945122",
     "exception": false,
     "start_time": "2024-04-24T16:24:54.656636",
     "status": "completed"
    },
    "tags": []
   },
   "outputs": [
    {
     "name": "stdout",
     "output_type": "stream",
     "text": [
      "__notebook__.ipynb  sub_knn.csv  sub_knn_1.csv\r\n"
     ]
    }
   ],
   "source": [
    "# Training is done with different rows of training data.\n",
    "\n",
    "sub_knn_2 = pd.read_csv('../input/belka-knn-410/submission.csv')\n",
    "sub_knn_3 = pd.read_csv('../input/belka-knn-411/submission.csv')\n",
    "\n",
    "# Similar to cross validation\n",
    "\n",
    "sub_knn = pd.read_csv('../input/leash-BELKA/sample_submission.csv')\n",
    "sub_knn['binds'] = (sub_knn_1['binds'].values + sub_knn_2['binds'].values + sub_knn_3['binds'].values) / 3\n",
    "sub_knn.to_csv('sub_knn.csv', index=False)\n",
    "!ls"
   ]
  },
  {
   "cell_type": "markdown",
   "id": "25bc1a60",
   "metadata": {
    "papermill": {
     "duration": 0.008857,
     "end_time": "2024-04-24T16:25:02.963085",
     "exception": false,
     "start_time": "2024-04-24T16:25:02.954228",
     "status": "completed"
    },
    "tags": []
   },
   "source": [
    "# <span style=\"color:darkcyan;\">Ensembling</span>\n",
    "\n",
    "<p style=\"border-bottom: 10px solid darkcyan\"></p>"
   ]
  },
  {
   "cell_type": "code",
   "execution_count": 11,
   "id": "2bb133db",
   "metadata": {
    "execution": {
     "iopub.execute_input": "2024-04-24T16:25:02.984255Z",
     "iopub.status.busy": "2024-04-24T16:25:02.982911Z",
     "iopub.status.idle": "2024-04-24T16:25:13.586282Z",
     "shell.execute_reply": "2024-04-24T16:25:13.584872Z"
    },
    "papermill": {
     "duration": 10.616933,
     "end_time": "2024-04-24T16:25:13.589078",
     "exception": false,
     "start_time": "2024-04-24T16:25:02.972145",
     "status": "completed"
    },
    "tags": []
   },
   "outputs": [
    {
     "name": "stdout",
     "output_type": "stream",
     "text": [
      "__notebook__.ipynb  sub_auto.csv  sub_knn.csv  sub_knn_1.csv\r\n"
     ]
    }
   ],
   "source": [
    "# Training is done with different rows of training data.\n",
    "# Thanks to: @motono0223\n",
    "\n",
    "sub_auto_1 = pd.read_csv('../input/leash-bio-automl-baseline/submission.csv')\n",
    "sub_auto_2 = pd.read_csv('../input/leash-bio-automl-baseline-2/submission.csv')\n",
    "sub_auto_3 = pd.read_csv('../input/k/mehrankazeminia/leash-bio-automl-baseline/submission.csv')\n",
    "\n",
    "# Similar to cross validation\n",
    "\n",
    "sub_auto = pd.read_csv('../input/leash-BELKA/sample_submission.csv')\n",
    "sub_auto['binds'] = (sub_auto_1['binds'].values + sub_auto_2['binds'].values + sub_auto_3['binds'].values) / 3\n",
    "sub_auto.to_csv('sub_auto.csv', index=False)\n",
    "# Public Score: 0.502\n",
    "!ls"
   ]
  },
  {
   "cell_type": "code",
   "execution_count": 12,
   "id": "2aad01b2",
   "metadata": {
    "execution": {
     "iopub.execute_input": "2024-04-24T16:25:13.611472Z",
     "iopub.status.busy": "2024-04-24T16:25:13.610479Z",
     "iopub.status.idle": "2024-04-24T16:25:20.964977Z",
     "shell.execute_reply": "2024-04-24T16:25:20.963440Z"
    },
    "papermill": {
     "duration": 7.368935,
     "end_time": "2024-04-24T16:25:20.967716",
     "exception": false,
     "start_time": "2024-04-24T16:25:13.598781",
     "status": "completed"
    },
    "tags": []
   },
   "outputs": [
    {
     "name": "stdout",
     "output_type": "stream",
     "text": [
      "__notebook__.ipynb  sub_auto.csv  sub_knn.csv  sub_knn_1.csv  submission.csv\r\n"
     ]
    }
   ],
   "source": [
    "submission = pd.read_csv('../input/leash-BELKA/sample_submission.csv')\n",
    "submission['binds'] = (sub_knn['binds'].values * 0.20) + (sub_auto['binds'].values * 0.80)\n",
    "submission.to_csv('submission.csv', index=False)\n",
    "!ls"
   ]
  },
  {
   "cell_type": "code",
   "execution_count": 13,
   "id": "ae877523",
   "metadata": {
    "execution": {
     "iopub.execute_input": "2024-04-24T16:25:20.989356Z",
     "iopub.status.busy": "2024-04-24T16:25:20.988895Z",
     "iopub.status.idle": "2024-04-24T16:25:21.522720Z",
     "shell.execute_reply": "2024-04-24T16:25:21.521088Z"
    },
    "papermill": {
     "duration": 0.547805,
     "end_time": "2024-04-24T16:25:21.525405",
     "exception": false,
     "start_time": "2024-04-24T16:25:20.977600",
     "status": "completed"
    },
    "tags": []
   },
   "outputs": [
    {
     "data": {
      "text/plain": [
       "(0.0, 1.0)"
      ]
     },
     "execution_count": 13,
     "metadata": {},
     "output_type": "execute_result"
    },
    {
     "data": {
      "image/png": "[encoded data removed]",
      "text/plain": [
       "<Figure size 1000x400 with 1 Axes>"
      ]
     },
     "metadata": {},
     "output_type": "display_data"
    }
   ],
   "source": [
    "sns.set()\n",
    "plt.figure(figsize=(10, 4))\n",
    "plt.hist(submission['binds'], bins=50)\n",
    "\n",
    "plt.gca().set_facecolor('lightyellow')\n",
    "plt.suptitle('Ensembling Histogram', y=0.96, fontsize=16, c='darkred')\n",
    "\n",
    "round(submission['binds'].min(), 3), round(submission['binds'].max(), 3)"
   ]
  },
  {
   "cell_type": "markdown",
   "id": "a7270959",
   "metadata": {
    "papermill": {
     "duration": 0.009903,
     "end_time": "2024-04-24T16:25:21.545475",
     "exception": false,
     "start_time": "2024-04-24T16:25:21.535572",
     "status": "completed"
    },
    "tags": []
   },
   "source": [
    "<p style=\"border-bottom: 10px solid darkcyan\"></p>\n",
    "<p style=\"border-bottom: 10px solid darkcyan\"></p>"
   ]
  }
 ],
 "metadata": {
  "kaggle": {
   "accelerator": "none",
   "dataSources": [
    {
     "databundleVersionId": 8006601,
     "sourceId": 67356,
     "sourceType": "competition"
    },
    {
     "datasetId": 4808715,
     "sourceId": 8134894,
     "sourceType": "datasetVersion"
    },
    {
     "datasetId": 4810555,
     "sourceId": 8137337,
     "sourceType": "datasetVersion"
    },
    {
     "sourceId": 172552710,
     "sourceType": "kernelVersion"
    },
    {
     "sourceId": 172553682,
     "sourceType": "kernelVersion"
    },
    {
     "sourceId": 172554050,
     "sourceType": "kernelVersion"
    },
    {
     "sourceId": 173330471,
     "sourceType": "kernelVersion"
    },
    {
     "sourceId": 173358569,
     "sourceType": "kernelVersion"
    },
    {
     "sourceId": 173358791,
     "sourceType": "kernelVersion"
    }
   ],
   "dockerImageVersionId": 30684,
   "isGpuEnabled": false,
   "isInternetEnabled": true,
   "language": "python",
   "sourceType": "notebook"
  },
  "kernelspec": {
   "display_name": "Python 3",
   "language": "python",
   "name": "python3"
  },
  "language_info": {
   "codemirror_mode": {
    "name": "ipython",
    "version": 3
   },
   "file_extension": ".py",
   "mimetype": "text/x-python",
   "name": "python",
   "nbconvert_exporter": "python",
   "pygments_lexer": "ipython3",
   "version": "3.10.13"
  },
  "papermill": {
   "default_parameters": {},
   "duration": 45.050348,
   "end_time": "2024-04-24T16:25:22.277749",
   "environment_variables": {},
   "exception": null,
   "input_path": "__notebook__.ipynb",
   "output_path": "__notebook__.ipynb",
   "parameters": {},
   "start_time": "2024-04-24T16:24:37.227401",
   "version": "2.5.0"
  }
 },
 "nbformat": 4,
 "nbformat_minor": 5
}

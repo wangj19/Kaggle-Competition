{
 "cells": [
  {
   "cell_type": "code",
   "execution_count": 1,
   "id": "0f9d1013",
   "metadata": {
    "_cell_guid": "b1076dfc-b9ad-4769-8c92-a6c4dae69d19",
    "_uuid": "8f2839f25d086af736a60e9eeb907d3b93b6e0e5",
    "execution": {
     "iopub.execute_input": "2024-07-05T02:24:40.703825Z",
     "iopub.status.busy": "2024-07-05T02:24:40.703479Z",
     "iopub.status.idle": "2024-07-05T02:24:54.737104Z",
     "shell.execute_reply": "2024-07-05T02:24:54.735859Z"
    },
    "papermill": {
     "duration": 14.045265,
     "end_time": "2024-07-05T02:24:54.739214",
     "exception": false,
     "start_time": "2024-07-05T02:24:40.693949",
     "status": "completed"
    },
    "tags": []
   },
   "outputs": [
    {
     "name": "stderr",
     "output_type": "stream",
     "text": [
      "2024-07-05 02:24:43.418618: E external/local_xla/xla/stream_executor/cuda/cuda_dnn.cc:9261] Unable to register cuDNN factory: Attempting to register factory for plugin cuDNN when one has already been registered\n",
      "2024-07-05 02:24:43.418727: E external/local_xla/xla/stream_executor/cuda/cuda_fft.cc:607] Unable to register cuFFT factory: Attempting to register factory for plugin cuFFT when one has already been registered\n",
      "2024-07-05 02:24:43.548726: E external/local_xla/xla/stream_executor/cuda/cuda_blas.cc:1515] Unable to register cuBLAS factory: Attempting to register factory for plugin cuBLAS when one has already been registered\n"
     ]
    },
    {
     "name": "stdout",
     "output_type": "stream",
     "text": [
      "2.15.0\n",
      "0.4.23\n"
     ]
    }
   ],
   "source": [
    "import os\n",
    "os.environ[\"KERAS_BACKEND\"] = \"jax\"\n",
    "\n",
    "import gc\n",
    "import numpy as np\n",
    "import pandas as pd\n",
    "import polars as pl\n",
    "import matplotlib.pyplot as plt\n",
    "\n",
    "import tensorflow as tf\n",
    "import jax\n",
    "import keras\n",
    "\n",
    "from sklearn import metrics\n",
    "\n",
    "from tqdm.notebook import tqdm\n",
    "\n",
    "print(tf.__version__)\n",
    "print(jax.__version__)"
   ]
  },
  {
   "cell_type": "code",
   "execution_count": 2,
   "id": "cd060814",
   "metadata": {
    "execution": {
     "iopub.execute_input": "2024-07-05T02:24:54.766160Z",
     "iopub.status.busy": "2024-07-05T02:24:54.765563Z",
     "iopub.status.idle": "2024-07-05T02:24:54.770705Z",
     "shell.execute_reply": "2024-07-05T02:24:54.769869Z"
    },
    "papermill": {
     "duration": 0.016601,
     "end_time": "2024-07-05T02:24:54.773076",
     "exception": false,
     "start_time": "2024-07-05T02:24:54.756475",
     "status": "completed"
    },
    "tags": []
   },
   "outputs": [
    {
     "name": "stdout",
     "output_type": "stream",
     "text": [
      "Interactive? False\n"
     ]
    }
   ],
   "source": [
    "def is_interactive():\n",
    "    return 'runtime' in get_ipython().config.IPKernelApp.connection_file\n",
    "\n",
    "print('Interactive?', is_interactive())"
   ]
  },
  {
   "cell_type": "code",
   "execution_count": 3,
   "id": "d92be193",
   "metadata": {
    "execution": {
     "iopub.execute_input": "2024-07-05T02:24:54.790443Z",
     "iopub.status.busy": "2024-07-05T02:24:54.790146Z",
     "iopub.status.idle": "2024-07-05T02:24:54.795191Z",
     "shell.execute_reply": "2024-07-05T02:24:54.794397Z"
    },
    "papermill": {
     "duration": 0.015692,
     "end_time": "2024-07-05T02:24:54.796971",
     "exception": false,
     "start_time": "2024-07-05T02:24:54.781279",
     "status": "completed"
    },
    "tags": []
   },
   "outputs": [],
   "source": [
    "SEED = 42\n",
    "keras.utils.set_random_seed(SEED)\n",
    "tf.random.set_seed(SEED)\n",
    "tf.config.experimental.enable_op_determinism()"
   ]
  },
  {
   "cell_type": "code",
   "execution_count": 4,
   "id": "ae433077",
   "metadata": {
    "execution": {
     "iopub.execute_input": "2024-07-05T02:24:54.813933Z",
     "iopub.status.busy": "2024-07-05T02:24:54.813616Z",
     "iopub.status.idle": "2024-07-05T02:24:54.817462Z",
     "shell.execute_reply": "2024-07-05T02:24:54.816702Z"
    },
    "papermill": {
     "duration": 0.01435,
     "end_time": "2024-07-05T02:24:54.819350",
     "exception": false,
     "start_time": "2024-07-05T02:24:54.805000",
     "status": "completed"
    },
    "tags": []
   },
   "outputs": [],
   "source": [
    "DATA = \"/kaggle/input/leap-atmospheric-physics-ai-climsim\"\n",
    "DATA_TFREC = \"/kaggle/input/leap-train-tfrecords\""
   ]
  },
  {
   "cell_type": "code",
   "execution_count": 5,
   "id": "48e88f77",
   "metadata": {
    "execution": {
     "iopub.execute_input": "2024-07-05T02:24:54.836709Z",
     "iopub.status.busy": "2024-07-05T02:24:54.836162Z",
     "iopub.status.idle": "2024-07-05T02:24:54.948582Z",
     "shell.execute_reply": "2024-07-05T02:24:54.947573Z"
    },
    "papermill": {
     "duration": 0.123408,
     "end_time": "2024-07-05T02:24:54.950727",
     "exception": false,
     "start_time": "2024-07-05T02:24:54.827319",
     "status": "completed"
    },
    "tags": []
   },
   "outputs": [
    {
     "name": "stdout",
     "output_type": "stream",
     "text": [
      "368\n"
     ]
    }
   ],
   "source": [
    "sample = pl.read_csv(os.path.join(DATA, \"sample_submission.csv\"), n_rows=1)\n",
    "TARGETS = sample.select(pl.exclude('sample_id')).columns\n",
    "print(len(TARGETS))"
   ]
  },
  {
   "cell_type": "code",
   "execution_count": 6,
   "id": "9d261fd5",
   "metadata": {
    "execution": {
     "iopub.execute_input": "2024-07-05T02:24:54.968327Z",
     "iopub.status.busy": "2024-07-05T02:24:54.967800Z",
     "iopub.status.idle": "2024-07-05T02:24:54.973038Z",
     "shell.execute_reply": "2024-07-05T02:24:54.972202Z"
    },
    "papermill": {
     "duration": 0.016074,
     "end_time": "2024-07-05T02:24:54.974939",
     "exception": false,
     "start_time": "2024-07-05T02:24:54.958865",
     "status": "completed"
    },
    "tags": []
   },
   "outputs": [],
   "source": [
    "def _parse_function(example_proto):\n",
    "    feature_description = {\n",
    "        'x': tf.io.FixedLenFeature([556], tf.float32),\n",
    "        'targets': tf.io.FixedLenFeature([368], tf.float32)\n",
    "    }\n",
    "    e = tf.io.parse_single_example(example_proto, feature_description)\n",
    "    return e['x'], e['targets']"
   ]
  },
  {
   "cell_type": "code",
   "execution_count": 7,
   "id": "7a884a4f",
   "metadata": {
    "execution": {
     "iopub.execute_input": "2024-07-05T02:24:54.992788Z",
     "iopub.status.busy": "2024-07-05T02:24:54.992539Z",
     "iopub.status.idle": "2024-07-05T02:24:54.997370Z",
     "shell.execute_reply": "2024-07-05T02:24:54.996591Z"
    },
    "papermill": {
     "duration": 0.015236,
     "end_time": "2024-07-05T02:24:54.999154",
     "exception": false,
     "start_time": "2024-07-05T02:24:54.983918",
     "status": "completed"
    },
    "tags": []
   },
   "outputs": [],
   "source": [
    "train_files = [os.path.join(DATA_TFREC, \"train_%.3d.tfrec\" % i) for i in range(100)]\n",
    "valid_files = [os.path.join(DATA_TFREC, \"train_%.3d.tfrec\" % i) for i in range(100, 101)]"
   ]
  },
  {
   "cell_type": "code",
   "execution_count": 8,
   "id": "c5af52e6",
   "metadata": {
    "execution": {
     "iopub.execute_input": "2024-07-05T02:24:55.016612Z",
     "iopub.status.busy": "2024-07-05T02:24:55.016354Z",
     "iopub.status.idle": "2024-07-05T02:24:57.189428Z",
     "shell.execute_reply": "2024-07-05T02:24:57.188650Z"
    },
    "papermill": {
     "duration": 2.184392,
     "end_time": "2024-07-05T02:24:57.191664",
     "exception": false,
     "start_time": "2024-07-05T02:24:55.007272",
     "status": "completed"
    },
    "tags": []
   },
   "outputs": [],
   "source": [
    "BATCH_SIZE = 4096\n",
    "\n",
    "train_options = tf.data.Options()\n",
    "train_options.deterministic = True\n",
    "\n",
    "ds_train = (\n",
    "    tf.data.Dataset.from_tensor_slices(train_files)\n",
    "    .with_options(train_options)\n",
    "    .shuffle(100)\n",
    "    .interleave(\n",
    "        lambda file: tf.data.TFRecordDataset(file).map(_parse_function, num_parallel_calls=tf.data.AUTOTUNE),\n",
    "        num_parallel_calls=tf.data.AUTOTUNE,\n",
    "        cycle_length=10,\n",
    "        block_length=1000,\n",
    "        deterministic=True\n",
    "    )\n",
    "    .shuffle(4 * BATCH_SIZE)\n",
    "    .batch(BATCH_SIZE)\n",
    "    .prefetch(tf.data.AUTOTUNE)\n",
    ")\n",
    "\n",
    "ds_valid = (\n",
    "    tf.data.TFRecordDataset(valid_files)\n",
    "    .map(_parse_function)\n",
    "    .batch(BATCH_SIZE)\n",
    "    .prefetch(tf.data.AUTOTUNE)\n",
    ")"
   ]
  },
  {
   "cell_type": "code",
   "execution_count": 9,
   "id": "76a2359d",
   "metadata": {
    "execution": {
     "iopub.execute_input": "2024-07-05T02:24:57.209469Z",
     "iopub.status.busy": "2024-07-05T02:24:57.209134Z",
     "iopub.status.idle": "2024-07-05T02:26:16.462977Z",
     "shell.execute_reply": "2024-07-05T02:26:16.461976Z"
    },
    "papermill": {
     "duration": 79.272948,
     "end_time": "2024-07-05T02:26:16.473065",
     "exception": false,
     "start_time": "2024-07-05T02:24:57.200117",
     "status": "completed"
    },
    "tags": []
   },
   "outputs": [
    {
     "data": {
      "image/png": "[encoded data removed]",
      "text/plain": [
       "<Figure size 640x480 with 1 Axes>"
      ]
     },
     "metadata": {},
     "output_type": "display_data"
    }
   ],
   "source": [
    "norm_x = keras.layers.Normalization()\n",
    "norm_x.adapt(ds_train.map(lambda x, y: x).take(20 if is_interactive() else 1000))\n",
    "\n",
    "plt.scatter(\n",
    "    norm_x.mean.squeeze(),\n",
    "    norm_x.variance.squeeze() ** 0.5,\n",
    "    marker=\".\",\n",
    "    alpha=0.5\n",
    ")\n",
    "plt.xscale('log')\n",
    "plt.yscale('log')"
   ]
  },
  {
   "cell_type": "code",
   "execution_count": 10,
   "id": "4b3e18b2",
   "metadata": {
    "execution": {
     "iopub.execute_input": "2024-07-05T02:26:16.490836Z",
     "iopub.status.busy": "2024-07-05T02:26:16.490506Z",
     "iopub.status.idle": "2024-07-05T02:27:29.651794Z",
     "shell.execute_reply": "2024-07-05T02:27:29.650860Z"
    },
    "papermill": {
     "duration": 73.181633,
     "end_time": "2024-07-05T02:27:29.662837",
     "exception": false,
     "start_time": "2024-07-05T02:26:16.481204",
     "status": "completed"
    },
    "tags": []
   },
   "outputs": [
    {
     "data": {
      "image/png": "[encoded data removed]",
      "text/plain": [
       "<Figure size 640x480 with 1 Axes>"
      ]
     },
     "metadata": {},
     "output_type": "display_data"
    }
   ],
   "source": [
    "norm_y = keras.layers.Normalization()\n",
    "norm_y.adapt(ds_train.map(lambda x, y: y).take(20 if is_interactive() else 1000))\n",
    "\n",
    "mean_y = norm_y.mean\n",
    "stdd_y = keras.ops.maximum(1e-10, norm_y.variance ** 0.5)\n",
    "\n",
    "plt.scatter(\n",
    "    mean_y.squeeze(),\n",
    "    stdd_y.squeeze(),\n",
    "    marker=\".\",\n",
    "    alpha=0.5\n",
    ")\n",
    "plt.xscale('log')\n",
    "plt.yscale('log')\n"
   ]
  },
  {
   "cell_type": "code",
   "execution_count": 11,
   "id": "7c3749b6",
   "metadata": {
    "execution": {
     "iopub.execute_input": "2024-07-05T02:27:29.681294Z",
     "iopub.status.busy": "2024-07-05T02:27:29.681005Z",
     "iopub.status.idle": "2024-07-05T02:29:54.355437Z",
     "shell.execute_reply": "2024-07-05T02:29:54.354428Z"
    },
    "papermill": {
     "duration": 144.686656,
     "end_time": "2024-07-05T02:29:54.358041",
     "exception": false,
     "start_time": "2024-07-05T02:27:29.671385",
     "status": "completed"
    },
    "tags": []
   },
   "outputs": [],
   "source": [
    "min_y = np.min(np.stack([np.min(yb, 0) for _, yb in ds_train.take(20 if is_interactive() else 1000)], 0), 0, keepdims=True)\n",
    "max_y = np.max(np.stack([np.max(yb, 0) for _, yb in ds_train.take(20 if is_interactive() else 1000)], 0), 0, keepdims=True)"
   ]
  },
  {
   "cell_type": "markdown",
   "id": "746e43f4",
   "metadata": {
    "papermill": {
     "duration": 0.008789,
     "end_time": "2024-07-05T02:29:54.376056",
     "exception": false,
     "start_time": "2024-07-05T02:29:54.367267",
     "status": "completed"
    },
    "tags": []
   },
   "source": [
    "### Model definition & Training"
   ]
  },
  {
   "cell_type": "code",
   "execution_count": 12,
   "id": "bad0077b",
   "metadata": {
    "execution": {
     "iopub.execute_input": "2024-07-05T02:29:54.395653Z",
     "iopub.status.busy": "2024-07-05T02:29:54.394766Z",
     "iopub.status.idle": "2024-07-05T02:29:54.404159Z",
     "shell.execute_reply": "2024-07-05T02:29:54.403262Z"
    },
    "papermill": {
     "duration": 0.021445,
     "end_time": "2024-07-05T02:29:54.406233",
     "exception": false,
     "start_time": "2024-07-05T02:29:54.384788",
     "status": "completed"
    },
    "tags": []
   },
   "outputs": [],
   "source": [
    "@keras.saving.register_keras_serializable(package=\"MyMetrics\", name=\"ClippedR2Score\")\n",
    "class ClippedR2Score(keras.metrics.Metric):\n",
    "    def __init__(self, name='r2_score', **kwargs):\n",
    "        super().__init__(name=name, **kwargs)\n",
    "        self.base_metric = keras.metrics.R2Score(class_aggregation=None)\n",
    "        \n",
    "    def update_state(self, y_true, y_pred, sample_weight=None):\n",
    "        self.base_metric.update_state(y_true, y_pred, sample_weight=None)\n",
    "        \n",
    "    def result(self):\n",
    "        return keras.ops.mean(keras.ops.clip(self.base_metric.result(), 0.0, 1.0))\n",
    "        \n",
    "    def reset_states(self):\n",
    "        self.base_metric.reset_states()"
   ]
  },
  {
   "cell_type": "code",
   "execution_count": 13,
   "id": "4e3fc3f7",
   "metadata": {
    "execution": {
     "iopub.execute_input": "2024-07-05T02:29:54.425215Z",
     "iopub.status.busy": "2024-07-05T02:29:54.424670Z",
     "iopub.status.idle": "2024-07-05T02:29:56.963183Z",
     "shell.execute_reply": "2024-07-05T02:29:56.962239Z"
    },
    "papermill": {
     "duration": 2.550093,
     "end_time": "2024-07-05T02:29:56.965154",
     "exception": false,
     "start_time": "2024-07-05T02:29:54.415061",
     "status": "completed"
    },
    "tags": []
   },
   "outputs": [
    {
     "data": {
      "image/png": "[encoded data removed]",
      "text/plain": [
       "<Figure size 640x480 with 1 Axes>"
      ]
     },
     "metadata": {},
     "output_type": "display_data"
    }
   ],
   "source": [
    "epochs = 25  # 15  # 12\n",
    "learning_rate = 1e-3\n",
    "\n",
    "epochs_warmup = 1\n",
    "epochs_ending = 2\n",
    "steps_per_epoch = int(np.ceil(len(train_files) * 100_000 / BATCH_SIZE))\n",
    "\n",
    "lr_scheduler = keras.optimizers.schedules.CosineDecay(\n",
    "    1e-4, \n",
    "    (epochs - epochs_warmup - epochs_ending) * steps_per_epoch, \n",
    "    warmup_target=learning_rate,\n",
    "    warmup_steps=steps_per_epoch * epochs_warmup,\n",
    "    alpha=0.1\n",
    ")\n",
    "\n",
    "plt.plot([lr_scheduler(it) for it in range(0, epochs * steps_per_epoch, steps_per_epoch)]);"
   ]
  },
  {
   "cell_type": "code",
   "execution_count": 14,
   "id": "f9c65c22",
   "metadata": {
    "execution": {
     "iopub.execute_input": "2024-07-05T02:29:56.986146Z",
     "iopub.status.busy": "2024-07-05T02:29:56.985591Z",
     "iopub.status.idle": "2024-07-05T02:29:59.910882Z",
     "shell.execute_reply": "2024-07-05T02:29:59.910008Z"
    },
    "papermill": {
     "duration": 2.937696,
     "end_time": "2024-07-05T02:29:59.912959",
     "exception": false,
     "start_time": "2024-07-05T02:29:56.975263",
     "status": "completed"
    },
    "tags": []
   },
   "outputs": [
    {
     "data": {
      "text/html": [
       "<pre style=\"white-space:pre;overflow-x:auto;line-height:normal;font-family:Menlo,'DejaVu Sans Mono',consolas,'Courier New',monospace\"><span style=\"font-weight: bold\">Model: \"functional_3\"</span>\n",
       "</pre>\n"
      ],
      "text/plain": [
       "\u001b[1mModel: \"functional_3\"\u001b[0m\n"
      ]
     },
     "metadata": {},
     "output_type": "display_data"
    },
    {
     "data": {
      "text/html": [
       "<pre style=\"white-space:pre;overflow-x:auto;line-height:normal;font-family:Menlo,'DejaVu Sans Mono',consolas,'Courier New',monospace\">┏━━━━━━━━━━━━━━━━━━━━━┳━━━━━━━━━━━━━━━━━━━┳━━━━━━━━━━━━┳━━━━━━━━━━━━━━━━━━━┓\n",
       "┃<span style=\"font-weight: bold\"> Layer (type)        </span>┃<span style=\"font-weight: bold\"> Output Shape      </span>┃<span style=\"font-weight: bold\">    Param # </span>┃<span style=\"font-weight: bold\"> Connected to      </span>┃\n",
       "┡━━━━━━━━━━━━━━━━━━━━━╇━━━━━━━━━━━━━━━━━━━╇━━━━━━━━━━━━╇━━━━━━━━━━━━━━━━━━━┩\n",
       "│ input_layer         │ (<span style=\"color: #00d7ff; text-decoration-color: #00d7ff\">None</span>, <span style=\"color: #00af00; text-decoration-color: #00af00\">556</span>)       │          <span style=\"color: #00af00; text-decoration-color: #00af00\">0</span> │ -                 │\n",
       "│ (<span style=\"color: #0087ff; text-decoration-color: #0087ff\">InputLayer</span>)        │                   │            │                   │\n",
       "├─────────────────────┼───────────────────┼────────────┼───────────────────┤\n",
       "│ normalization       │ (<span style=\"color: #00d7ff; text-decoration-color: #00d7ff\">None</span>, <span style=\"color: #00af00; text-decoration-color: #00af00\">556</span>)       │          <span style=\"color: #00af00; text-decoration-color: #00af00\">0</span> │ input_layer[<span style=\"color: #00af00; text-decoration-color: #00af00\">0</span>][<span style=\"color: #00af00; text-decoration-color: #00af00\">0</span>] │\n",
       "│ (<span style=\"color: #0087ff; text-decoration-color: #0087ff\">Normalization</span>)     │                   │            │                   │\n",
       "├─────────────────────┼───────────────────┼────────────┼───────────────────┤\n",
       "│ get_item (<span style=\"color: #0087ff; text-decoration-color: #0087ff\">GetItem</span>)  │ (<span style=\"color: #00d7ff; text-decoration-color: #00d7ff\">None</span>, <span style=\"color: #00af00; text-decoration-color: #00af00\">360</span>)       │          <span style=\"color: #00af00; text-decoration-color: #00af00\">0</span> │ normalization[<span style=\"color: #00af00; text-decoration-color: #00af00\">0</span>]… │\n",
       "├─────────────────────┼───────────────────┼────────────┼───────────────────┤\n",
       "│ get_item_1          │ (<span style=\"color: #00d7ff; text-decoration-color: #00d7ff\">None</span>, <span style=\"color: #00af00; text-decoration-color: #00af00\">180</span>)       │          <span style=\"color: #00af00; text-decoration-color: #00af00\">0</span> │ normalization[<span style=\"color: #00af00; text-decoration-color: #00af00\">0</span>]… │\n",
       "│ (<span style=\"color: #0087ff; text-decoration-color: #0087ff\">GetItem</span>)           │                   │            │                   │\n",
       "├─────────────────────┼───────────────────┼────────────┼───────────────────┤\n",
       "│ get_item_2          │ (<span style=\"color: #00d7ff; text-decoration-color: #00d7ff\">None</span>, <span style=\"color: #00af00; text-decoration-color: #00af00\">16</span>)        │          <span style=\"color: #00af00; text-decoration-color: #00af00\">0</span> │ normalization[<span style=\"color: #00af00; text-decoration-color: #00af00\">0</span>]… │\n",
       "│ (<span style=\"color: #0087ff; text-decoration-color: #0087ff\">GetItem</span>)           │                   │            │                   │\n",
       "├─────────────────────┼───────────────────┼────────────┼───────────────────┤\n",
       "│ reshape (<span style=\"color: #0087ff; text-decoration-color: #0087ff\">Reshape</span>)   │ (<span style=\"color: #00d7ff; text-decoration-color: #00d7ff\">None</span>, <span style=\"color: #00af00; text-decoration-color: #00af00\">6</span>, <span style=\"color: #00af00; text-decoration-color: #00af00\">60</span>)     │          <span style=\"color: #00af00; text-decoration-color: #00af00\">0</span> │ get_item[<span style=\"color: #00af00; text-decoration-color: #00af00\">0</span>][<span style=\"color: #00af00; text-decoration-color: #00af00\">0</span>]    │\n",
       "├─────────────────────┼───────────────────┼────────────┼───────────────────┤\n",
       "│ reshape_1 (<span style=\"color: #0087ff; text-decoration-color: #0087ff\">Reshape</span>) │ (<span style=\"color: #00d7ff; text-decoration-color: #00d7ff\">None</span>, <span style=\"color: #00af00; text-decoration-color: #00af00\">3</span>, <span style=\"color: #00af00; text-decoration-color: #00af00\">60</span>)     │          <span style=\"color: #00af00; text-decoration-color: #00af00\">0</span> │ get_item_1[<span style=\"color: #00af00; text-decoration-color: #00af00\">0</span>][<span style=\"color: #00af00; text-decoration-color: #00af00\">0</span>]  │\n",
       "├─────────────────────┼───────────────────┼────────────┼───────────────────┤\n",
       "│ reshape_2 (<span style=\"color: #0087ff; text-decoration-color: #0087ff\">Reshape</span>) │ (<span style=\"color: #00d7ff; text-decoration-color: #00d7ff\">None</span>, <span style=\"color: #00af00; text-decoration-color: #00af00\">1</span>, <span style=\"color: #00af00; text-decoration-color: #00af00\">16</span>)     │          <span style=\"color: #00af00; text-decoration-color: #00af00\">0</span> │ get_item_2[<span style=\"color: #00af00; text-decoration-color: #00af00\">0</span>][<span style=\"color: #00af00; text-decoration-color: #00af00\">0</span>]  │\n",
       "├─────────────────────┼───────────────────┼────────────┼───────────────────┤\n",
       "│ transpose           │ (<span style=\"color: #00d7ff; text-decoration-color: #00d7ff\">None</span>, <span style=\"color: #00af00; text-decoration-color: #00af00\">60</span>, <span style=\"color: #00af00; text-decoration-color: #00af00\">6</span>)     │          <span style=\"color: #00af00; text-decoration-color: #00af00\">0</span> │ reshape[<span style=\"color: #00af00; text-decoration-color: #00af00\">0</span>][<span style=\"color: #00af00; text-decoration-color: #00af00\">0</span>]     │\n",
       "│ (<span style=\"color: #0087ff; text-decoration-color: #0087ff\">Transpose</span>)         │                   │            │                   │\n",
       "├─────────────────────┼───────────────────┼────────────┼───────────────────┤\n",
       "│ transpose_1         │ (<span style=\"color: #00d7ff; text-decoration-color: #00d7ff\">None</span>, <span style=\"color: #00af00; text-decoration-color: #00af00\">60</span>, <span style=\"color: #00af00; text-decoration-color: #00af00\">3</span>)     │          <span style=\"color: #00af00; text-decoration-color: #00af00\">0</span> │ reshape_1[<span style=\"color: #00af00; text-decoration-color: #00af00\">0</span>][<span style=\"color: #00af00; text-decoration-color: #00af00\">0</span>]   │\n",
       "│ (<span style=\"color: #0087ff; text-decoration-color: #0087ff\">Transpose</span>)         │                   │            │                   │\n",
       "├─────────────────────┼───────────────────┼────────────┼───────────────────┤\n",
       "│ repeat (<span style=\"color: #0087ff; text-decoration-color: #0087ff\">Repeat</span>)     │ (<span style=\"color: #00d7ff; text-decoration-color: #00d7ff\">None</span>, <span style=\"color: #00af00; text-decoration-color: #00af00\">60</span>, <span style=\"color: #00af00; text-decoration-color: #00af00\">16</span>)    │          <span style=\"color: #00af00; text-decoration-color: #00af00\">0</span> │ reshape_2[<span style=\"color: #00af00; text-decoration-color: #00af00\">0</span>][<span style=\"color: #00af00; text-decoration-color: #00af00\">0</span>]   │\n",
       "├─────────────────────┼───────────────────┼────────────┼───────────────────┤\n",
       "│ concatenate         │ (<span style=\"color: #00d7ff; text-decoration-color: #00d7ff\">None</span>, <span style=\"color: #00af00; text-decoration-color: #00af00\">60</span>, <span style=\"color: #00af00; text-decoration-color: #00af00\">25</span>)    │          <span style=\"color: #00af00; text-decoration-color: #00af00\">0</span> │ transpose[<span style=\"color: #00af00; text-decoration-color: #00af00\">0</span>][<span style=\"color: #00af00; text-decoration-color: #00af00\">0</span>],  │\n",
       "│ (<span style=\"color: #0087ff; text-decoration-color: #0087ff\">Concatenate</span>)       │                   │            │ transpose_1[<span style=\"color: #00af00; text-decoration-color: #00af00\">0</span>][<span style=\"color: #00af00; text-decoration-color: #00af00\">0</span>… │\n",
       "│                     │                   │            │ repeat[<span style=\"color: #00af00; text-decoration-color: #00af00\">0</span>][<span style=\"color: #00af00; text-decoration-color: #00af00\">0</span>]      │\n",
       "├─────────────────────┼───────────────────┼────────────┼───────────────────┤\n",
       "│ conv1d (<span style=\"color: #0087ff; text-decoration-color: #0087ff\">Conv1D</span>)     │ (<span style=\"color: #00d7ff; text-decoration-color: #00d7ff\">None</span>, <span style=\"color: #00af00; text-decoration-color: #00af00\">60</span>, <span style=\"color: #00af00; text-decoration-color: #00af00\">64</span>)    │      <span style=\"color: #00af00; text-decoration-color: #00af00\">1,664</span> │ concatenate[<span style=\"color: #00af00; text-decoration-color: #00af00\">0</span>][<span style=\"color: #00af00; text-decoration-color: #00af00\">0</span>] │\n",
       "├─────────────────────┼───────────────────┼────────────┼───────────────────┤\n",
       "│ sequential          │ (<span style=\"color: #00d7ff; text-decoration-color: #00d7ff\">None</span>, <span style=\"color: #00af00; text-decoration-color: #00af00\">60</span>, <span style=\"color: #00af00; text-decoration-color: #00af00\">64</span>)    │    <span style=\"color: #00af00; text-decoration-color: #00af00\">615,232</span> │ conv1d[<span style=\"color: #00af00; text-decoration-color: #00af00\">0</span>][<span style=\"color: #00af00; text-decoration-color: #00af00\">0</span>]      │\n",
       "│ (<span style=\"color: #0087ff; text-decoration-color: #0087ff\">Sequential</span>)        │                   │            │                   │\n",
       "├─────────────────────┼───────────────────┼────────────┼───────────────────┤\n",
       "│ add (<span style=\"color: #0087ff; text-decoration-color: #0087ff\">Add</span>)           │ (<span style=\"color: #00d7ff; text-decoration-color: #00d7ff\">None</span>, <span style=\"color: #00af00; text-decoration-color: #00af00\">60</span>, <span style=\"color: #00af00; text-decoration-color: #00af00\">64</span>)    │          <span style=\"color: #00af00; text-decoration-color: #00af00\">0</span> │ conv1d[<span style=\"color: #00af00; text-decoration-color: #00af00\">0</span>][<span style=\"color: #00af00; text-decoration-color: #00af00\">0</span>],     │\n",
       "│                     │                   │            │ sequential[<span style=\"color: #00af00; text-decoration-color: #00af00\">0</span>][<span style=\"color: #00af00; text-decoration-color: #00af00\">0</span>]  │\n",
       "├─────────────────────┼───────────────────┼────────────┼───────────────────┤\n",
       "│ global_average_poo… │ (<span style=\"color: #00d7ff; text-decoration-color: #00d7ff\">None</span>, <span style=\"color: #00af00; text-decoration-color: #00af00\">1</span>, <span style=\"color: #00af00; text-decoration-color: #00af00\">64</span>)     │          <span style=\"color: #00af00; text-decoration-color: #00af00\">0</span> │ sequential[<span style=\"color: #00af00; text-decoration-color: #00af00\">0</span>][<span style=\"color: #00af00; text-decoration-color: #00af00\">0</span>]  │\n",
       "│ (<span style=\"color: #0087ff; text-decoration-color: #0087ff\">GlobalAveragePool…</span> │                   │            │                   │\n",
       "├─────────────────────┼───────────────────┼────────────┼───────────────────┤\n",
       "│ add_1 (<span style=\"color: #0087ff; text-decoration-color: #0087ff\">Add</span>)         │ (<span style=\"color: #00d7ff; text-decoration-color: #00d7ff\">None</span>, <span style=\"color: #00af00; text-decoration-color: #00af00\">60</span>, <span style=\"color: #00af00; text-decoration-color: #00af00\">64</span>)    │          <span style=\"color: #00af00; text-decoration-color: #00af00\">0</span> │ add[<span style=\"color: #00af00; text-decoration-color: #00af00\">0</span>][<span style=\"color: #00af00; text-decoration-color: #00af00\">0</span>],        │\n",
       "│                     │                   │            │ global_average_p… │\n",
       "├─────────────────────┼───────────────────┼────────────┼───────────────────┤\n",
       "│ batch_normalizatio… │ (<span style=\"color: #00d7ff; text-decoration-color: #00d7ff\">None</span>, <span style=\"color: #00af00; text-decoration-color: #00af00\">60</span>, <span style=\"color: #00af00; text-decoration-color: #00af00\">64</span>)    │        <span style=\"color: #00af00; text-decoration-color: #00af00\">256</span> │ add_1[<span style=\"color: #00af00; text-decoration-color: #00af00\">0</span>][<span style=\"color: #00af00; text-decoration-color: #00af00\">0</span>]       │\n",
       "│ (<span style=\"color: #0087ff; text-decoration-color: #0087ff\">BatchNormalizatio…</span> │                   │            │                   │\n",
       "├─────────────────────┼───────────────────┼────────────┼───────────────────┤\n",
       "│ sequential_1        │ (<span style=\"color: #00d7ff; text-decoration-color: #00d7ff\">None</span>, <span style=\"color: #00af00; text-decoration-color: #00af00\">60</span>, <span style=\"color: #00af00; text-decoration-color: #00af00\">64</span>)    │    <span style=\"color: #00af00; text-decoration-color: #00af00\">615,232</span> │ batch_normalizat… │\n",
       "│ (<span style=\"color: #0087ff; text-decoration-color: #0087ff\">Sequential</span>)        │                   │            │                   │\n",
       "├─────────────────────┼───────────────────┼────────────┼───────────────────┤\n",
       "│ add_2 (<span style=\"color: #0087ff; text-decoration-color: #0087ff\">Add</span>)         │ (<span style=\"color: #00d7ff; text-decoration-color: #00d7ff\">None</span>, <span style=\"color: #00af00; text-decoration-color: #00af00\">60</span>, <span style=\"color: #00af00; text-decoration-color: #00af00\">64</span>)    │          <span style=\"color: #00af00; text-decoration-color: #00af00\">0</span> │ batch_normalizat… │\n",
       "│                     │                   │            │ sequential_1[<span style=\"color: #00af00; text-decoration-color: #00af00\">0</span>][<span style=\"color: #00af00; text-decoration-color: #00af00\">…</span> │\n",
       "├─────────────────────┼───────────────────┼────────────┼───────────────────┤\n",
       "│ conv1d_5 (<span style=\"color: #0087ff; text-decoration-color: #0087ff\">Conv1D</span>)   │ (<span style=\"color: #00d7ff; text-decoration-color: #00d7ff\">None</span>, <span style=\"color: #00af00; text-decoration-color: #00af00\">60</span>, <span style=\"color: #00af00; text-decoration-color: #00af00\">14</span>)    │        <span style=\"color: #00af00; text-decoration-color: #00af00\">910</span> │ add_2[<span style=\"color: #00af00; text-decoration-color: #00af00\">0</span>][<span style=\"color: #00af00; text-decoration-color: #00af00\">0</span>]       │\n",
       "├─────────────────────┼───────────────────┼────────────┼───────────────────┤\n",
       "│ get_item_3          │ (<span style=\"color: #00d7ff; text-decoration-color: #00d7ff\">None</span>, <span style=\"color: #00af00; text-decoration-color: #00af00\">60</span>, <span style=\"color: #00af00; text-decoration-color: #00af00\">6</span>)     │          <span style=\"color: #00af00; text-decoration-color: #00af00\">0</span> │ conv1d_5[<span style=\"color: #00af00; text-decoration-color: #00af00\">0</span>][<span style=\"color: #00af00; text-decoration-color: #00af00\">0</span>]    │\n",
       "│ (<span style=\"color: #0087ff; text-decoration-color: #0087ff\">GetItem</span>)           │                   │            │                   │\n",
       "├─────────────────────┼───────────────────┼────────────┼───────────────────┤\n",
       "│ transpose_2         │ (<span style=\"color: #00d7ff; text-decoration-color: #00d7ff\">None</span>, <span style=\"color: #00af00; text-decoration-color: #00af00\">6</span>, <span style=\"color: #00af00; text-decoration-color: #00af00\">60</span>)     │          <span style=\"color: #00af00; text-decoration-color: #00af00\">0</span> │ get_item_3[<span style=\"color: #00af00; text-decoration-color: #00af00\">0</span>][<span style=\"color: #00af00; text-decoration-color: #00af00\">0</span>]  │\n",
       "│ (<span style=\"color: #0087ff; text-decoration-color: #0087ff\">Transpose</span>)         │                   │            │                   │\n",
       "├─────────────────────┼───────────────────┼────────────┼───────────────────┤\n",
       "│ get_item_4          │ (<span style=\"color: #00d7ff; text-decoration-color: #00d7ff\">None</span>, <span style=\"color: #00af00; text-decoration-color: #00af00\">60</span>, <span style=\"color: #00af00; text-decoration-color: #00af00\">8</span>)     │          <span style=\"color: #00af00; text-decoration-color: #00af00\">0</span> │ conv1d_5[<span style=\"color: #00af00; text-decoration-color: #00af00\">0</span>][<span style=\"color: #00af00; text-decoration-color: #00af00\">0</span>]    │\n",
       "│ (<span style=\"color: #0087ff; text-decoration-color: #0087ff\">GetItem</span>)           │                   │            │                   │\n",
       "├─────────────────────┼───────────────────┼────────────┼───────────────────┤\n",
       "│ flatten (<span style=\"color: #0087ff; text-decoration-color: #0087ff\">Flatten</span>)   │ (<span style=\"color: #00d7ff; text-decoration-color: #00d7ff\">None</span>, <span style=\"color: #00af00; text-decoration-color: #00af00\">360</span>)       │          <span style=\"color: #00af00; text-decoration-color: #00af00\">0</span> │ transpose_2[<span style=\"color: #00af00; text-decoration-color: #00af00\">0</span>][<span style=\"color: #00af00; text-decoration-color: #00af00\">0</span>] │\n",
       "├─────────────────────┼───────────────────┼────────────┼───────────────────┤\n",
       "│ mean (<span style=\"color: #0087ff; text-decoration-color: #0087ff\">Mean</span>)         │ (<span style=\"color: #00d7ff; text-decoration-color: #00d7ff\">None</span>, <span style=\"color: #00af00; text-decoration-color: #00af00\">8</span>)         │          <span style=\"color: #00af00; text-decoration-color: #00af00\">0</span> │ get_item_4[<span style=\"color: #00af00; text-decoration-color: #00af00\">0</span>][<span style=\"color: #00af00; text-decoration-color: #00af00\">0</span>]  │\n",
       "├─────────────────────┼───────────────────┼────────────┼───────────────────┤\n",
       "│ concatenate_1       │ (<span style=\"color: #00d7ff; text-decoration-color: #00d7ff\">None</span>, <span style=\"color: #00af00; text-decoration-color: #00af00\">368</span>)       │          <span style=\"color: #00af00; text-decoration-color: #00af00\">0</span> │ flatten[<span style=\"color: #00af00; text-decoration-color: #00af00\">0</span>][<span style=\"color: #00af00; text-decoration-color: #00af00\">0</span>],    │\n",
       "│ (<span style=\"color: #0087ff; text-decoration-color: #0087ff\">Concatenate</span>)       │                   │            │ mean[<span style=\"color: #00af00; text-decoration-color: #00af00\">0</span>][<span style=\"color: #00af00; text-decoration-color: #00af00\">0</span>]        │\n",
       "└─────────────────────┴───────────────────┴────────────┴───────────────────┘\n",
       "</pre>\n"
      ],
      "text/plain": [
       "┏━━━━━━━━━━━━━━━━━━━━━┳━━━━━━━━━━━━━━━━━━━┳━━━━━━━━━━━━┳━━━━━━━━━━━━━━━━━━━┓\n",
       "┃\u001b[1m \u001b[0m\u001b[1mLayer (type)       \u001b[0m\u001b[1m \u001b[0m┃\u001b[1m \u001b[0m\u001b[1mOutput Shape     \u001b[0m\u001b[1m \u001b[0m┃\u001b[1m \u001b[0m\u001b[1m   Param #\u001b[0m\u001b[1m \u001b[0m┃\u001b[1m \u001b[0m\u001b[1mConnected to     \u001b[0m\u001b[1m \u001b[0m┃\n",
       "┡━━━━━━━━━━━━━━━━━━━━━╇━━━━━━━━━━━━━━━━━━━╇━━━━━━━━━━━━╇━━━━━━━━━━━━━━━━━━━┩\n",
       "│ input_layer         │ (\u001b[38;5;45mNone\u001b[0m, \u001b[38;5;34m556\u001b[0m)       │          \u001b[38;5;34m0\u001b[0m │ -                 │\n",
       "│ (\u001b[38;5;33mInputLayer\u001b[0m)        │                   │            │                   │\n",
       "├─────────────────────┼───────────────────┼────────────┼───────────────────┤\n",
       "│ normalization       │ (\u001b[38;5;45mNone\u001b[0m, \u001b[38;5;34m556\u001b[0m)       │          \u001b[38;5;34m0\u001b[0m │ input_layer[\u001b[38;5;34m0\u001b[0m][\u001b[38;5;34m0\u001b[0m] │\n",
       "│ (\u001b[38;5;33mNormalization\u001b[0m)     │                   │            │                   │\n",
       "├─────────────────────┼───────────────────┼────────────┼───────────────────┤\n",
       "│ get_item (\u001b[38;5;33mGetItem\u001b[0m)  │ (\u001b[38;5;45mNone\u001b[0m, \u001b[38;5;34m360\u001b[0m)       │          \u001b[38;5;34m0\u001b[0m │ normalization[\u001b[38;5;34m0\u001b[0m]… │\n",
       "├─────────────────────┼───────────────────┼────────────┼───────────────────┤\n",
       "│ get_item_1          │ (\u001b[38;5;45mNone\u001b[0m, \u001b[38;5;34m180\u001b[0m)       │          \u001b[38;5;34m0\u001b[0m │ normalization[\u001b[38;5;34m0\u001b[0m]… │\n",
       "│ (\u001b[38;5;33mGetItem\u001b[0m)           │                   │            │                   │\n",
       "├─────────────────────┼───────────────────┼────────────┼───────────────────┤\n",
       "│ get_item_2          │ (\u001b[38;5;45mNone\u001b[0m, \u001b[38;5;34m16\u001b[0m)        │          \u001b[38;5;34m0\u001b[0m │ normalization[\u001b[38;5;34m0\u001b[0m]… │\n",
       "│ (\u001b[38;5;33mGetItem\u001b[0m)           │                   │            │                   │\n",
       "├─────────────────────┼───────────────────┼────────────┼───────────────────┤\n",
       "│ reshape (\u001b[38;5;33mReshape\u001b[0m)   │ (\u001b[38;5;45mNone\u001b[0m, \u001b[38;5;34m6\u001b[0m, \u001b[38;5;34m60\u001b[0m)     │          \u001b[38;5;34m0\u001b[0m │ get_item[\u001b[38;5;34m0\u001b[0m][\u001b[38;5;34m0\u001b[0m]    │\n",
       "├─────────────────────┼───────────────────┼────────────┼───────────────────┤\n",
       "│ reshape_1 (\u001b[38;5;33mReshape\u001b[0m) │ (\u001b[38;5;45mNone\u001b[0m, \u001b[38;5;34m3\u001b[0m, \u001b[38;5;34m60\u001b[0m)     │          \u001b[38;5;34m0\u001b[0m │ get_item_1[\u001b[38;5;34m0\u001b[0m][\u001b[38;5;34m0\u001b[0m]  │\n",
       "├─────────────────────┼───────────────────┼────────────┼───────────────────┤\n",
       "│ reshape_2 (\u001b[38;5;33mReshape\u001b[0m) │ (\u001b[38;5;45mNone\u001b[0m, \u001b[38;5;34m1\u001b[0m, \u001b[38;5;34m16\u001b[0m)     │          \u001b[38;5;34m0\u001b[0m │ get_item_2[\u001b[38;5;34m0\u001b[0m][\u001b[38;5;34m0\u001b[0m]  │\n",
       "├─────────────────────┼───────────────────┼────────────┼───────────────────┤\n",
       "│ transpose           │ (\u001b[38;5;45mNone\u001b[0m, \u001b[38;5;34m60\u001b[0m, \u001b[38;5;34m6\u001b[0m)     │          \u001b[38;5;34m0\u001b[0m │ reshape[\u001b[38;5;34m0\u001b[0m][\u001b[38;5;34m0\u001b[0m]     │\n",
       "│ (\u001b[38;5;33mTranspose\u001b[0m)         │                   │            │                   │\n",
       "├─────────────────────┼───────────────────┼────────────┼───────────────────┤\n",
       "│ transpose_1         │ (\u001b[38;5;45mNone\u001b[0m, \u001b[38;5;34m60\u001b[0m, \u001b[38;5;34m3\u001b[0m)     │          \u001b[38;5;34m0\u001b[0m │ reshape_1[\u001b[38;5;34m0\u001b[0m][\u001b[38;5;34m0\u001b[0m]   │\n",
       "│ (\u001b[38;5;33mTranspose\u001b[0m)         │                   │            │                   │\n",
       "├─────────────────────┼───────────────────┼────────────┼───────────────────┤\n",
       "│ repeat (\u001b[38;5;33mRepeat\u001b[0m)     │ (\u001b[38;5;45mNone\u001b[0m, \u001b[38;5;34m60\u001b[0m, \u001b[38;5;34m16\u001b[0m)    │          \u001b[38;5;34m0\u001b[0m │ reshape_2[\u001b[38;5;34m0\u001b[0m][\u001b[38;5;34m0\u001b[0m]   │\n",
       "├─────────────────────┼───────────────────┼────────────┼───────────────────┤\n",
       "│ concatenate         │ (\u001b[38;5;45mNone\u001b[0m, \u001b[38;5;34m60\u001b[0m, \u001b[38;5;34m25\u001b[0m)    │          \u001b[38;5;34m0\u001b[0m │ transpose[\u001b[38;5;34m0\u001b[0m][\u001b[38;5;34m0\u001b[0m],  │\n",
       "│ (\u001b[38;5;33mConcatenate\u001b[0m)       │                   │            │ transpose_1[\u001b[38;5;34m0\u001b[0m][\u001b[38;5;34m0\u001b[0m… │\n",
       "│                     │                   │            │ repeat[\u001b[38;5;34m0\u001b[0m][\u001b[38;5;34m0\u001b[0m]      │\n",
       "├─────────────────────┼───────────────────┼────────────┼───────────────────┤\n",
       "│ conv1d (\u001b[38;5;33mConv1D\u001b[0m)     │ (\u001b[38;5;45mNone\u001b[0m, \u001b[38;5;34m60\u001b[0m, \u001b[38;5;34m64\u001b[0m)    │      \u001b[38;5;34m1,664\u001b[0m │ concatenate[\u001b[38;5;34m0\u001b[0m][\u001b[38;5;34m0\u001b[0m] │\n",
       "├─────────────────────┼───────────────────┼────────────┼───────────────────┤\n",
       "│ sequential          │ (\u001b[38;5;45mNone\u001b[0m, \u001b[38;5;34m60\u001b[0m, \u001b[38;5;34m64\u001b[0m)    │    \u001b[38;5;34m615,232\u001b[0m │ conv1d[\u001b[38;5;34m0\u001b[0m][\u001b[38;5;34m0\u001b[0m]      │\n",
       "│ (\u001b[38;5;33mSequential\u001b[0m)        │                   │            │                   │\n",
       "├─────────────────────┼───────────────────┼────────────┼───────────────────┤\n",
       "│ add (\u001b[38;5;33mAdd\u001b[0m)           │ (\u001b[38;5;45mNone\u001b[0m, \u001b[38;5;34m60\u001b[0m, \u001b[38;5;34m64\u001b[0m)    │          \u001b[38;5;34m0\u001b[0m │ conv1d[\u001b[38;5;34m0\u001b[0m][\u001b[38;5;34m0\u001b[0m],     │\n",
       "│                     │                   │            │ sequential[\u001b[38;5;34m0\u001b[0m][\u001b[38;5;34m0\u001b[0m]  │\n",
       "├─────────────────────┼───────────────────┼────────────┼───────────────────┤\n",
       "│ global_average_poo… │ (\u001b[38;5;45mNone\u001b[0m, \u001b[38;5;34m1\u001b[0m, \u001b[38;5;34m64\u001b[0m)     │          \u001b[38;5;34m0\u001b[0m │ sequential[\u001b[38;5;34m0\u001b[0m][\u001b[38;5;34m0\u001b[0m]  │\n",
       "│ (\u001b[38;5;33mGlobalAveragePool…\u001b[0m │                   │            │                   │\n",
       "├─────────────────────┼───────────────────┼────────────┼───────────────────┤\n",
       "│ add_1 (\u001b[38;5;33mAdd\u001b[0m)         │ (\u001b[38;5;45mNone\u001b[0m, \u001b[38;5;34m60\u001b[0m, \u001b[38;5;34m64\u001b[0m)    │          \u001b[38;5;34m0\u001b[0m │ add[\u001b[38;5;34m0\u001b[0m][\u001b[38;5;34m0\u001b[0m],        │\n",
       "│                     │                   │            │ global_average_p… │\n",
       "├─────────────────────┼───────────────────┼────────────┼───────────────────┤\n",
       "│ batch_normalizatio… │ (\u001b[38;5;45mNone\u001b[0m, \u001b[38;5;34m60\u001b[0m, \u001b[38;5;34m64\u001b[0m)    │        \u001b[38;5;34m256\u001b[0m │ add_1[\u001b[38;5;34m0\u001b[0m][\u001b[38;5;34m0\u001b[0m]       │\n",
       "│ (\u001b[38;5;33mBatchNormalizatio…\u001b[0m │                   │            │                   │\n",
       "├─────────────────────┼───────────────────┼────────────┼───────────────────┤\n",
       "│ sequential_1        │ (\u001b[38;5;45mNone\u001b[0m, \u001b[38;5;34m60\u001b[0m, \u001b[38;5;34m64\u001b[0m)    │    \u001b[38;5;34m615,232\u001b[0m │ batch_normalizat… │\n",
       "│ (\u001b[38;5;33mSequential\u001b[0m)        │                   │            │                   │\n",
       "├─────────────────────┼───────────────────┼────────────┼───────────────────┤\n",
       "│ add_2 (\u001b[38;5;33mAdd\u001b[0m)         │ (\u001b[38;5;45mNone\u001b[0m, \u001b[38;5;34m60\u001b[0m, \u001b[38;5;34m64\u001b[0m)    │          \u001b[38;5;34m0\u001b[0m │ batch_normalizat… │\n",
       "│                     │                   │            │ sequential_1[\u001b[38;5;34m0\u001b[0m][\u001b[38;5;34m…\u001b[0m │\n",
       "├─────────────────────┼───────────────────┼────────────┼───────────────────┤\n",
       "│ conv1d_5 (\u001b[38;5;33mConv1D\u001b[0m)   │ (\u001b[38;5;45mNone\u001b[0m, \u001b[38;5;34m60\u001b[0m, \u001b[38;5;34m14\u001b[0m)    │        \u001b[38;5;34m910\u001b[0m │ add_2[\u001b[38;5;34m0\u001b[0m][\u001b[38;5;34m0\u001b[0m]       │\n",
       "├─────────────────────┼───────────────────┼────────────┼───────────────────┤\n",
       "│ get_item_3          │ (\u001b[38;5;45mNone\u001b[0m, \u001b[38;5;34m60\u001b[0m, \u001b[38;5;34m6\u001b[0m)     │          \u001b[38;5;34m0\u001b[0m │ conv1d_5[\u001b[38;5;34m0\u001b[0m][\u001b[38;5;34m0\u001b[0m]    │\n",
       "│ (\u001b[38;5;33mGetItem\u001b[0m)           │                   │            │                   │\n",
       "├─────────────────────┼───────────────────┼────────────┼───────────────────┤\n",
       "│ transpose_2         │ (\u001b[38;5;45mNone\u001b[0m, \u001b[38;5;34m6\u001b[0m, \u001b[38;5;34m60\u001b[0m)     │          \u001b[38;5;34m0\u001b[0m │ get_item_3[\u001b[38;5;34m0\u001b[0m][\u001b[38;5;34m0\u001b[0m]  │\n",
       "│ (\u001b[38;5;33mTranspose\u001b[0m)         │                   │            │                   │\n",
       "├─────────────────────┼───────────────────┼────────────┼───────────────────┤\n",
       "│ get_item_4          │ (\u001b[38;5;45mNone\u001b[0m, \u001b[38;5;34m60\u001b[0m, \u001b[38;5;34m8\u001b[0m)     │          \u001b[38;5;34m0\u001b[0m │ conv1d_5[\u001b[38;5;34m0\u001b[0m][\u001b[38;5;34m0\u001b[0m]    │\n",
       "│ (\u001b[38;5;33mGetItem\u001b[0m)           │                   │            │                   │\n",
       "├─────────────────────┼───────────────────┼────────────┼───────────────────┤\n",
       "│ flatten (\u001b[38;5;33mFlatten\u001b[0m)   │ (\u001b[38;5;45mNone\u001b[0m, \u001b[38;5;34m360\u001b[0m)       │          \u001b[38;5;34m0\u001b[0m │ transpose_2[\u001b[38;5;34m0\u001b[0m][\u001b[38;5;34m0\u001b[0m] │\n",
       "├─────────────────────┼───────────────────┼────────────┼───────────────────┤\n",
       "│ mean (\u001b[38;5;33mMean\u001b[0m)         │ (\u001b[38;5;45mNone\u001b[0m, \u001b[38;5;34m8\u001b[0m)         │          \u001b[38;5;34m0\u001b[0m │ get_item_4[\u001b[38;5;34m0\u001b[0m][\u001b[38;5;34m0\u001b[0m]  │\n",
       "├─────────────────────┼───────────────────┼────────────┼───────────────────┤\n",
       "│ concatenate_1       │ (\u001b[38;5;45mNone\u001b[0m, \u001b[38;5;34m368\u001b[0m)       │          \u001b[38;5;34m0\u001b[0m │ flatten[\u001b[38;5;34m0\u001b[0m][\u001b[38;5;34m0\u001b[0m],    │\n",
       "│ (\u001b[38;5;33mConcatenate\u001b[0m)       │                   │            │ mean[\u001b[38;5;34m0\u001b[0m][\u001b[38;5;34m0\u001b[0m]        │\n",
       "└─────────────────────┴───────────────────┴────────────┴───────────────────┘\n"
      ]
     },
     "metadata": {},
     "output_type": "display_data"
    },
    {
     "data": {
      "text/html": [
       "<pre style=\"white-space:pre;overflow-x:auto;line-height:normal;font-family:Menlo,'DejaVu Sans Mono',consolas,'Courier New',monospace\"><span style=\"font-weight: bold\"> Total params: </span><span style=\"color: #00af00; text-decoration-color: #00af00\">1,233,294</span> (4.70 MB)\n",
       "</pre>\n"
      ],
      "text/plain": [
       "\u001b[1m Total params: \u001b[0m\u001b[38;5;34m1,233,294\u001b[0m (4.70 MB)\n"
      ]
     },
     "metadata": {},
     "output_type": "display_data"
    },
    {
     "data": {
      "text/html": [
       "<pre style=\"white-space:pre;overflow-x:auto;line-height:normal;font-family:Menlo,'DejaVu Sans Mono',consolas,'Courier New',monospace\"><span style=\"font-weight: bold\"> Trainable params: </span><span style=\"color: #00af00; text-decoration-color: #00af00\">1,229,582</span> (4.69 MB)\n",
       "</pre>\n"
      ],
      "text/plain": [
       "\u001b[1m Trainable params: \u001b[0m\u001b[38;5;34m1,229,582\u001b[0m (4.69 MB)\n"
      ]
     },
     "metadata": {},
     "output_type": "display_data"
    },
    {
     "data": {
      "text/html": [
       "<pre style=\"white-space:pre;overflow-x:auto;line-height:normal;font-family:Menlo,'DejaVu Sans Mono',consolas,'Courier New',monospace\"><span style=\"font-weight: bold\"> Non-trainable params: </span><span style=\"color: #00af00; text-decoration-color: #00af00\">3,712</span> (14.50 KB)\n",
       "</pre>\n"
      ],
      "text/plain": [
       "\u001b[1m Non-trainable params: \u001b[0m\u001b[38;5;34m3,712\u001b[0m (14.50 KB)\n"
      ]
     },
     "metadata": {},
     "output_type": "display_data"
    }
   ],
   "source": [
    "keras.utils.clear_session()\n",
    "\n",
    "\n",
    "def x_to_seq(x):\n",
    "    x_seq0 = keras.ops.transpose(keras.ops.reshape(x[:, 0:60 * 6], (-1, 6, 60)), (0, 2, 1))\n",
    "    x_seq1 = keras.ops.transpose(keras.ops.reshape(x[:, 60 * 6 + 16:60 * 9 + 16], (-1, 3, 60)), (0, 2, 1))\n",
    "    x_flat = keras.ops.reshape(x[:, 60 * 6:60 * 6 + 16], (-1, 1, 16))\n",
    "    x_flat = keras.ops.repeat(x_flat, 60, axis=1)\n",
    "    return keras.ops.concatenate([x_seq0, x_seq1, x_flat], axis=-1)\n",
    "\n",
    "\n",
    "def build_cnn(activation='relu'):\n",
    "    return keras.Sequential([\n",
    "        keras.layers.Conv1D(512, 3, padding='same', activation=activation),\n",
    "        keras.layers.BatchNormalization(),\n",
    "        keras.layers.Conv1D(256, 3, padding='same', activation=activation),\n",
    "        keras.layers.BatchNormalization(),\n",
    "        keras.layers.Dropout(0.3),\n",
    "        keras.layers.LSTM(64, return_sequences=True),\n",
    "        keras.layers.BatchNormalization(),\n",
    "        keras.layers.LSTM(64, return_sequences=True),\n",
    "        keras.layers.BatchNormalization(),\n",
    "        keras.layers.Dense(64, activation=activation),\n",
    "    ])\n",
    "\n",
    "\n",
    "\n",
    "X_input = x = keras.layers.Input(ds_train.element_spec[0].shape[1:])\n",
    "x = keras.layers.Normalization(mean=norm_x.mean, variance=norm_x.variance)(x)\n",
    "x = x_to_seq(x)\n",
    "\n",
    "\n",
    "e = e0 = keras.layers.Conv1D(64, 1, padding='same')(x)\n",
    "e = build_cnn()(e)\n",
    "# add global average to allow some comunication between all levels even in a small CNN\n",
    "e = e0 + e + keras.layers.GlobalAveragePooling1D(keepdims=True)(e)\n",
    "e = keras.layers.BatchNormalization()(e)\n",
    "e = e + build_cnn()(e)\n",
    "\n",
    "\n",
    "p_all = keras.layers.Conv1D(14, 1, padding='same')(e)\n",
    "\n",
    "p_seq = p_all[:, :, :6]\n",
    "p_seq = keras.ops.transpose(p_seq, (0, 2, 1))\n",
    "p_seq = keras.layers.Flatten()(p_seq)\n",
    "assert p_seq.shape[-1] == 360\n",
    "\n",
    "p_flat = p_all[:, :, 6:6 + 8]\n",
    "p_flat = keras.ops.mean(p_flat, axis=1)\n",
    "assert p_flat.shape[-1] == 8\n",
    "\n",
    "P = keras.ops.concatenate([p_seq, p_flat], axis=1)\n",
    "\n",
    "# build & compile\n",
    "model = keras.Model(X_input, P)\n",
    "model.compile(\n",
    "    loss='mse', \n",
    "    optimizer=keras.optimizers.Adam(lr_scheduler),\n",
    "    metrics=[ClippedR2Score()]\n",
    ")\n",
    "model.build(tuple(ds_train.element_spec[0].shape))\n",
    "model.summary()"
   ]
  },
  {
   "cell_type": "code",
   "execution_count": 15,
   "id": "89cdeb82",
   "metadata": {
    "execution": {
     "iopub.execute_input": "2024-07-05T02:29:59.935029Z",
     "iopub.status.busy": "2024-07-05T02:29:59.934718Z",
     "iopub.status.idle": "2024-07-05T10:12:05.572558Z",
     "shell.execute_reply": "2024-07-05T10:12:05.569120Z"
    },
    "papermill": {
     "duration": 27725.667879,
     "end_time": "2024-07-05T10:12:05.591326",
     "exception": false,
     "start_time": "2024-07-05T02:29:59.923447",
     "status": "completed"
    },
    "tags": []
   },
   "outputs": [
    {
     "name": "stdout",
     "output_type": "stream",
     "text": [
      "Epoch 1/25\n"
     ]
    },
    {
     "name": "stderr",
     "output_type": "stream",
     "text": [
      "2024-07-05 02:30:11.753514: E external/xla/xla/service/slow_operation_alarm.cc:65] Trying algorithm eng0{} for conv (f32[4096,512,60]{2,1,0}, u8[0]{0}) custom-call(f32[4096,256,60]{2,1,0}, f32[256,512,3]{2,1,0}), window={size=3 pad=1_1}, dim_labels=bf0_oi0->bf0, custom_call_target=\"__cudnn$convBackwardInput\", backend_config={\"conv_result_scale\":1,\"activation_mode\":\"kNone\",\"side_input_scale\":0,\"leakyrelu_alpha\":0} is taking a while...\n",
      "2024-07-05 02:30:15.809119: E external/xla/xla/service/slow_operation_alarm.cc:133] The operation took 5.055788271s\n",
      "Trying algorithm eng0{} for conv (f32[4096,512,60]{2,1,0}, u8[0]{0}) custom-call(f32[4096,256,60]{2,1,0}, f32[256,512,3]{2,1,0}), window={size=3 pad=1_1}, dim_labels=bf0_oi0->bf0, custom_call_target=\"__cudnn$convBackwardInput\", backend_config={\"conv_result_scale\":1,\"activation_mode\":\"kNone\",\"side_input_scale\":0,\"leakyrelu_alpha\":0} is taking a while...\n",
      "2024-07-05 02:30:17.223568: E external/xla/xla/service/slow_operation_alarm.cc:65] Trying algorithm eng0{} for conv (f32[4096,64,60]{2,1,0}, u8[0]{0}) custom-call(f32[4096,512,60]{2,1,0}, f32[512,64,3]{2,1,0}), window={size=3 pad=1_1}, dim_labels=bf0_oi0->bf0, custom_call_target=\"__cudnn$convBackwardInput\", backend_config={\"conv_result_scale\":1,\"activation_mode\":\"kNone\",\"side_input_scale\":0,\"leakyrelu_alpha\":0} is taking a while...\n",
      "2024-07-05 02:30:17.478754: E external/xla/xla/service/slow_operation_alarm.cc:133] The operation took 1.255274802s\n",
      "Trying algorithm eng0{} for conv (f32[4096,64,60]{2,1,0}, u8[0]{0}) custom-call(f32[4096,512,60]{2,1,0}, f32[512,64,3]{2,1,0}), window={size=3 pad=1_1}, dim_labels=bf0_oi0->bf0, custom_call_target=\"__cudnn$convBackwardInput\", backend_config={\"conv_result_scale\":1,\"activation_mode\":\"kNone\",\"side_input_scale\":0,\"leakyrelu_alpha\":0} is taking a while...\n",
      "2024-07-05 02:48:53.006916: E external/xla/xla/service/slow_operation_alarm.cc:65] Trying algorithm eng0{} for conv (f32[1664,512,60]{2,1,0}, u8[0]{0}) custom-call(f32[1664,256,60]{2,1,0}, f32[256,512,3]{2,1,0}), window={size=3 pad=1_1}, dim_labels=bf0_oi0->bf0, custom_call_target=\"__cudnn$convBackwardInput\", backend_config={\"conv_result_scale\":1,\"activation_mode\":\"kNone\",\"side_input_scale\":0,\"leakyrelu_alpha\":0} is taking a while...\n",
      "2024-07-05 02:48:54.044132: E external/xla/xla/service/slow_operation_alarm.cc:133] The operation took 2.037443004s\n",
      "Trying algorithm eng0{} for conv (f32[1664,512,60]{2,1,0}, u8[0]{0}) custom-call(f32[1664,256,60]{2,1,0}, f32[256,512,3]{2,1,0}), window={size=3 pad=1_1}, dim_labels=bf0_oi0->bf0, custom_call_target=\"__cudnn$convBackwardInput\", backend_config={\"conv_result_scale\":1,\"activation_mode\":\"kNone\",\"side_input_scale\":0,\"leakyrelu_alpha\":0} is taking a while...\n"
     ]
    },
    {
     "name": "stdout",
     "output_type": "stream",
     "text": [
      "2442/2442 - 1148s - 470ms/step - loss: 0.5135 - r2_score: nan - val_loss: 0.3553 - val_r2_score: nan\n",
      "Epoch 2/25\n",
      "2442/2442 - 1108s - 454ms/step - loss: 0.3731 - r2_score: nan - val_loss: 0.3078 - val_r2_score: nan\n",
      "Epoch 3/25\n",
      "2442/2442 - 1107s - 453ms/step - loss: 0.3416 - r2_score: nan - val_loss: 0.2963 - val_r2_score: nan\n",
      "Epoch 4/25\n",
      "2442/2442 - 1108s - 454ms/step - loss: 0.3338 - r2_score: nan - val_loss: 0.2857 - val_r2_score: nan\n",
      "Epoch 5/25\n",
      "2442/2442 - 1108s - 454ms/step - loss: 0.3184 - r2_score: nan - val_loss: 0.2700 - val_r2_score: nan\n",
      "Epoch 6/25\n",
      "2442/2442 - 1109s - 454ms/step - loss: 0.3062 - r2_score: nan - val_loss: 0.2819 - val_r2_score: nan\n",
      "Epoch 7/25\n",
      "2442/2442 - 1109s - 454ms/step - loss: 0.3020 - r2_score: nan - val_loss: 0.2708 - val_r2_score: nan\n",
      "Epoch 8/25\n",
      "2442/2442 - 1105s - 453ms/step - loss: 0.2954 - r2_score: nan - val_loss: 0.2588 - val_r2_score: nan\n",
      "Epoch 9/25\n",
      "2442/2442 - 1107s - 453ms/step - loss: 0.2908 - r2_score: nan - val_loss: 0.2495 - val_r2_score: nan\n",
      "Epoch 10/25\n",
      "2442/2442 - 1106s - 453ms/step - loss: 0.2881 - r2_score: nan - val_loss: 0.2513 - val_r2_score: nan\n",
      "Epoch 11/25\n",
      "2442/2442 - 1108s - 454ms/step - loss: 0.2851 - r2_score: nan - val_loss: 0.2478 - val_r2_score: nan\n",
      "Epoch 12/25\n",
      "2442/2442 - 1106s - 453ms/step - loss: 0.2813 - r2_score: nan - val_loss: 0.2456 - val_r2_score: nan\n",
      "Epoch 13/25\n",
      "2442/2442 - 1108s - 454ms/step - loss: 0.2812 - r2_score: nan - val_loss: 0.2502 - val_r2_score: nan\n",
      "Epoch 14/25\n",
      "2442/2442 - 1105s - 453ms/step - loss: 0.2787 - r2_score: nan - val_loss: 0.2432 - val_r2_score: nan\n",
      "Epoch 15/25\n",
      "2442/2442 - 1109s - 454ms/step - loss: 0.2747 - r2_score: nan - val_loss: 0.2380 - val_r2_score: nan\n",
      "Epoch 16/25\n",
      "2442/2442 - 1106s - 453ms/step - loss: 0.2723 - r2_score: nan - val_loss: 0.2352 - val_r2_score: nan\n",
      "Epoch 17/25\n",
      "2442/2442 - 1109s - 454ms/step - loss: 0.2700 - r2_score: nan - val_loss: 0.2346 - val_r2_score: nan\n",
      "Epoch 18/25\n",
      "2442/2442 - 1105s - 452ms/step - loss: 0.2688 - r2_score: nan - val_loss: 0.2329 - val_r2_score: nan\n",
      "Epoch 19/25\n",
      "2442/2442 - 1109s - 454ms/step - loss: 0.2671 - r2_score: nan - val_loss: 0.2330 - val_r2_score: nan\n",
      "Epoch 20/25\n",
      "2442/2442 - 1106s - 453ms/step - loss: 0.2660 - r2_score: nan - val_loss: 0.2316 - val_r2_score: nan\n",
      "Epoch 21/25\n",
      "2442/2442 - 1109s - 454ms/step - loss: 0.2653 - r2_score: nan - val_loss: 0.2302 - val_r2_score: nan\n",
      "Epoch 22/25\n",
      "2442/2442 - 1106s - 453ms/step - loss: 0.2643 - r2_score: nan - val_loss: 0.2297 - val_r2_score: nan\n",
      "Epoch 23/25\n",
      "2442/2442 - 1110s - 455ms/step - loss: 0.2638 - r2_score: nan - val_loss: 0.2294 - val_r2_score: nan\n",
      "Epoch 24/25\n",
      "2442/2442 - 1105s - 453ms/step - loss: 0.2633 - r2_score: nan - val_loss: 0.2301 - val_r2_score: nan\n",
      "Epoch 25/25\n",
      "2442/2442 - 1108s - 454ms/step - loss: 0.2629 - r2_score: nan - val_loss: 0.2299 - val_r2_score: nan\n"
     ]
    }
   ],
   "source": [
    "ds_train_target_normalized = ds_train.map(lambda x, y: (x, (y - mean_y) / stdd_y))\n",
    "ds_valid_target_normalized = ds_valid.map(lambda x, y: (x, (y - mean_y) / stdd_y))\n",
    "\n",
    "history = model.fit(\n",
    "    ds_train_target_normalized,\n",
    "    validation_data=ds_valid_target_normalized,\n",
    "    epochs=epochs,\n",
    "    verbose=1 if is_interactive() else 2,\n",
    "    callbacks=[\n",
    "        keras.callbacks.ModelCheckpoint(filepath='model.keras')\n",
    "    ]\n",
    ")"
   ]
  },
  {
   "cell_type": "code",
   "execution_count": 16,
   "id": "7cff4eae",
   "metadata": {
    "execution": {
     "iopub.execute_input": "2024-07-05T10:12:05.626132Z",
     "iopub.status.busy": "2024-07-05T10:12:05.625758Z",
     "iopub.status.idle": "2024-07-05T10:12:06.065774Z",
     "shell.execute_reply": "2024-07-05T10:12:06.064866Z"
    },
    "papermill": {
     "duration": 0.461216,
     "end_time": "2024-07-05T10:12:06.067916",
     "exception": false,
     "start_time": "2024-07-05T10:12:05.606700",
     "status": "completed"
    },
    "tags": []
   },
   "outputs": [
    {
     "data": {
      "image/png": "[encoded data removed]",
      "text/plain": [
       "<Figure size 640x480 with 1 Axes>"
      ]
     },
     "metadata": {},
     "output_type": "display_data"
    }
   ],
   "source": [
    "plt.plot(history.history['loss'], color='tab:blue')\n",
    "plt.plot(history.history['val_loss'], color='tab:red')\n",
    "plt.yscale('log');"
   ]
  },
  {
   "cell_type": "code",
   "execution_count": 17,
   "id": "d8dccfb0",
   "metadata": {
    "execution": {
     "iopub.execute_input": "2024-07-05T10:12:06.219359Z",
     "iopub.status.busy": "2024-07-05T10:12:06.218645Z",
     "iopub.status.idle": "2024-07-05T10:12:17.176922Z",
     "shell.execute_reply": "2024-07-05T10:12:17.176076Z"
    },
    "papermill": {
     "duration": 11.095777,
     "end_time": "2024-07-05T10:12:17.179326",
     "exception": false,
     "start_time": "2024-07-05T10:12:06.083549",
     "status": "completed"
    },
    "tags": []
   },
   "outputs": [
    {
     "name": "stdout",
     "output_type": "stream",
     "text": [
      "\u001b[1m23/23\u001b[0m \u001b[32m━━━━━━━━━━━━━━━━━━━━\u001b[0m\u001b[37m\u001b[0m \u001b[1m5s\u001b[0m 139ms/step\n"
     ]
    }
   ],
   "source": [
    "y_valid = np.concatenate([yb for _, yb in ds_valid])\n",
    "p_valid = model.predict(ds_valid, batch_size=BATCH_SIZE) * stdd_y + mean_y"
   ]
  },
  {
   "cell_type": "code",
   "execution_count": 18,
   "id": "797d4c0c",
   "metadata": {
    "execution": {
     "iopub.execute_input": "2024-07-05T10:12:17.215410Z",
     "iopub.status.busy": "2024-07-05T10:12:17.214744Z",
     "iopub.status.idle": "2024-07-05T10:12:18.655554Z",
     "shell.execute_reply": "2024-07-05T10:12:18.654576Z"
    },
    "papermill": {
     "duration": 1.460955,
     "end_time": "2024-07-05T10:12:18.657681",
     "exception": false,
     "start_time": "2024-07-05T10:12:17.196726",
     "status": "completed"
    },
    "tags": []
   },
   "outputs": [
    {
     "data": {
      "text/plain": [
       "[<matplotlib.lines.Line2D at 0x7940e0787d30>]"
      ]
     },
     "execution_count": 18,
     "metadata": {},
     "output_type": "execute_result"
    },
    {
     "data": {
      "image/png": "[encoded data removed]",
      "text/plain": [
       "<Figure size 640x480 with 1 Axes>"
      ]
     },
     "metadata": {},
     "output_type": "display_data"
    }
   ],
   "source": [
    "scores_valid = np.array([metrics.r2_score(y_valid[:, i], p_valid[:, i]) for i in range(len(TARGETS))])\n",
    "plt.plot(scores_valid.clip(-1, 1))"
   ]
  },
  {
   "cell_type": "code",
   "execution_count": 19,
   "id": "d33f6b80",
   "metadata": {
    "execution": {
     "iopub.execute_input": "2024-07-05T10:12:18.693546Z",
     "iopub.status.busy": "2024-07-05T10:12:18.693268Z",
     "iopub.status.idle": "2024-07-05T10:12:18.699084Z",
     "shell.execute_reply": "2024-07-05T10:12:18.698198Z"
    },
    "papermill": {
     "duration": 0.025741,
     "end_time": "2024-07-05T10:12:18.700975",
     "exception": false,
     "start_time": "2024-07-05T10:12:18.675234",
     "status": "completed"
    },
    "tags": []
   },
   "outputs": [
    {
     "data": {
      "text/plain": [
       "'Number of under-performing targets: 85'"
      ]
     },
     "execution_count": 19,
     "metadata": {},
     "output_type": "execute_result"
    }
   ],
   "source": [
    "mask = scores_valid <= 1e-3\n",
    "f\"Number of under-performing targets: {sum(mask)}\""
   ]
  },
  {
   "cell_type": "code",
   "execution_count": 20,
   "id": "9a0c6616",
   "metadata": {
    "execution": {
     "iopub.execute_input": "2024-07-05T10:12:18.737009Z",
     "iopub.status.busy": "2024-07-05T10:12:18.736592Z",
     "iopub.status.idle": "2024-07-05T10:12:18.742578Z",
     "shell.execute_reply": "2024-07-05T10:12:18.741651Z"
    },
    "papermill": {
     "duration": 0.026319,
     "end_time": "2024-07-05T10:12:18.744674",
     "exception": false,
     "start_time": "2024-07-05T10:12:18.718355",
     "status": "completed"
    },
    "tags": []
   },
   "outputs": [
    {
     "data": {
      "text/plain": [
       "'Clipped score: 0.5106649593073754'"
      ]
     },
     "execution_count": 20,
     "metadata": {},
     "output_type": "execute_result"
    }
   ],
   "source": [
    "f\"Clipped score: {scores_valid.clip(0, 1).mean()}\""
   ]
  },
  {
   "cell_type": "code",
   "execution_count": 21,
   "id": "a403f8f1",
   "metadata": {
    "execution": {
     "iopub.execute_input": "2024-07-05T10:12:18.781920Z",
     "iopub.status.busy": "2024-07-05T10:12:18.781282Z",
     "iopub.status.idle": "2024-07-05T10:12:19.143765Z",
     "shell.execute_reply": "2024-07-05T10:12:19.142868Z"
    },
    "papermill": {
     "duration": 0.383228,
     "end_time": "2024-07-05T10:12:19.145695",
     "exception": false,
     "start_time": "2024-07-05T10:12:18.762467",
     "status": "completed"
    },
    "tags": []
   },
   "outputs": [],
   "source": [
    "del y_valid, p_valid\n",
    "gc.collect();"
   ]
  },
  {
   "cell_type": "markdown",
   "id": "3694c984",
   "metadata": {
    "papermill": {
     "duration": 0.017405,
     "end_time": "2024-07-05T10:12:19.181282",
     "exception": false,
     "start_time": "2024-07-05T10:12:19.163877",
     "status": "completed"
    },
    "tags": []
   },
   "source": [
    "# Submission"
   ]
  },
  {
   "cell_type": "code",
   "execution_count": 22,
   "id": "f40cfd91",
   "metadata": {
    "execution": {
     "iopub.execute_input": "2024-07-05T10:12:19.218296Z",
     "iopub.status.busy": "2024-07-05T10:12:19.217940Z",
     "iopub.status.idle": "2024-07-05T10:12:23.361231Z",
     "shell.execute_reply": "2024-07-05T10:12:23.360137Z"
    },
    "papermill": {
     "duration": 4.164421,
     "end_time": "2024-07-05T10:12:23.363486",
     "exception": false,
     "start_time": "2024-07-05T10:12:19.199065",
     "status": "completed"
    },
    "tags": []
   },
   "outputs": [],
   "source": [
    "sample = pl.read_csv(\"/kaggle/input/leap-atmospheric-physics-ai-climsim/sample_submission.csv\")"
   ]
  },
  {
   "cell_type": "code",
   "execution_count": 23,
   "id": "259abe3c",
   "metadata": {
    "execution": {
     "iopub.execute_input": "2024-07-05T10:12:23.400524Z",
     "iopub.status.busy": "2024-07-05T10:12:23.400202Z",
     "iopub.status.idle": "2024-07-05T10:12:52.381048Z",
     "shell.execute_reply": "2024-07-05T10:12:52.380049Z"
    },
    "papermill": {
     "duration": 29.002664,
     "end_time": "2024-07-05T10:12:52.384301",
     "exception": false,
     "start_time": "2024-07-05T10:12:23.381637",
     "status": "completed"
    },
    "tags": []
   },
   "outputs": [],
   "source": [
    "df_test = (\n",
    "    pl.scan_csv(\"/kaggle/input/leap-atmospheric-physics-ai-climsim/test.csv\")\n",
    "    .select(pl.exclude(\"sample_id\"))\n",
    "    .cast(pl.Float32)\n",
    "    .collect()\n",
    ")"
   ]
  },
  {
   "cell_type": "code",
   "execution_count": 24,
   "id": "30f01abf",
   "metadata": {
    "execution": {
     "iopub.execute_input": "2024-07-05T10:12:52.422276Z",
     "iopub.status.busy": "2024-07-05T10:12:52.421487Z",
     "iopub.status.idle": "2024-07-05T10:13:28.668358Z",
     "shell.execute_reply": "2024-07-05T10:13:28.665169Z"
    },
    "papermill": {
     "duration": 36.268826,
     "end_time": "2024-07-05T10:13:28.671682",
     "exception": false,
     "start_time": "2024-07-05T10:12:52.402856",
     "status": "completed"
    },
    "tags": []
   },
   "outputs": [
    {
     "name": "stdout",
     "output_type": "stream",
     "text": [
      "\u001b[1m39/39\u001b[0m \u001b[32m━━━━━━━━━━━━━━━━━━━━\u001b[0m\u001b[37m\u001b[0m \u001b[1m27s\u001b[0m 436ms/step\n"
     ]
    }
   ],
   "source": [
    "p_test = model.predict(df_test.to_numpy(), batch_size=4 * BATCH_SIZE) * stdd_y + mean_y\n",
    "p_test = np.array(p_test)\n",
    "p_test[:, mask] = mean_y[:, mask]"
   ]
  },
  {
   "cell_type": "code",
   "execution_count": 25,
   "id": "be2ec2a0",
   "metadata": {
    "execution": {
     "iopub.execute_input": "2024-07-05T10:13:28.716723Z",
     "iopub.status.busy": "2024-07-05T10:13:28.716169Z",
     "iopub.status.idle": "2024-07-05T10:13:32.999297Z",
     "shell.execute_reply": "2024-07-05T10:13:32.998152Z"
    },
    "papermill": {
     "duration": 4.308504,
     "end_time": "2024-07-05T10:13:33.001968",
     "exception": false,
     "start_time": "2024-07-05T10:13:28.693464",
     "status": "completed"
    },
    "tags": []
   },
   "outputs": [],
   "source": [
    "# correction of ptend_q0002 targets (from 12 to 29)\n",
    "df_p_test = pd.DataFrame(p_test, columns=TARGETS)\n",
    "\n",
    "for idx in range(12, 30):\n",
    "    df_p_test[f\"ptend_q0002_{idx}\"] = -df_test[f\"state_q0002_{idx}\"].to_numpy() / 1200\n",
    "    \n",
    "p_test = df_p_test.values"
   ]
  },
  {
   "cell_type": "code",
   "execution_count": 26,
   "id": "d91fa5fb",
   "metadata": {
    "execution": {
     "iopub.execute_input": "2024-07-05T10:13:33.046535Z",
     "iopub.status.busy": "2024-07-05T10:13:33.045512Z",
     "iopub.status.idle": "2024-07-05T10:13:58.158399Z",
     "shell.execute_reply": "2024-07-05T10:13:58.157236Z"
    },
    "papermill": {
     "duration": 25.137692,
     "end_time": "2024-07-05T10:13:58.161314",
     "exception": false,
     "start_time": "2024-07-05T10:13:33.023622",
     "status": "completed"
    },
    "tags": []
   },
   "outputs": [],
   "source": [
    "submission = sample.to_pandas()\n",
    "submission[TARGETS] = submission[TARGETS] * p_test\n",
    "pl.from_pandas(submission[[\"sample_id\"] + TARGETS]).write_csv(\"submission.csv\")"
   ]
  }
 ],
 "metadata": {
  "kaggle": {
   "accelerator": "gpu",
   "dataSources": [
    {
     "databundleVersionId": 8877088,
     "sourceId": 56537,
     "sourceType": "competition"
    },
    {
     "datasetId": 5004471,
     "sourceId": 8409068,
     "sourceType": "datasetVersion"
    }
   ],
   "dockerImageVersionId": 30699,
   "isGpuEnabled": true,
   "isInternetEnabled": true,
   "language": "python",
   "sourceType": "notebook"
  },
  "kernelspec": {
   "display_name": "Python 3",
   "language": "python",
   "name": "python3"
  },
  "language_info": {
   "codemirror_mode": {
    "name": "ipython",
    "version": 3
   },
   "file_extension": ".py",
   "mimetype": "text/x-python",
   "name": "python",
   "nbconvert_exporter": "python",
   "pygments_lexer": "ipython3",
   "version": "3.10.13"
  },
  "papermill": {
   "default_parameters": {},
   "duration": 28163.648345,
   "end_time": "2024-07-05T10:14:01.513009",
   "environment_variables": {},
   "exception": null,
   "input_path": "__notebook__.ipynb",
   "output_path": "__notebook__.ipynb",
   "parameters": {},
   "start_time": "2024-07-05T02:24:37.864664",
   "version": "2.5.0"
  }
 },
 "nbformat": 4,
 "nbformat_minor": 5
}

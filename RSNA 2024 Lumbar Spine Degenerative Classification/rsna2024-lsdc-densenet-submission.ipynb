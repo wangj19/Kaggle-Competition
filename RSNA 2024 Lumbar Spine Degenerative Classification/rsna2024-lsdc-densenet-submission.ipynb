{
 "cells": [
  {
   "cell_type": "markdown",
   "id": "7cfddddc",
   "metadata": {
    "_cell_guid": "b1076dfc-b9ad-4769-8c92-a6c4dae69d19",
    "_uuid": "8f2839f25d086af736a60e9eeb907d3b93b6e0e5",
    "papermill": {
     "duration": 0.008853,
     "end_time": "2024-06-20T00:33:12.690850",
     "exception": false,
     "start_time": "2024-06-20T00:33:12.681997",
     "status": "completed"
    },
    "tags": []
   },
   "source": [
    "# RSNA2024 LSDC Submission Baseline\n",
    "This notebook is forked [here](https://www.kaggle.com/code/itsuki9180/rsna2024-lsdc-training-baseline). In the [previous notebook](https://www.kaggle.com/code/itsuki9180/rsna2024-lsdc-making-dataset), the author selected the images we wanted to use and exported them to png.The original notebook training. And the original other trained EfficientNet_B4 model with these images. \n",
    "\n",
    "I desided to change the model to see if there is any improvement. The reason why I choose DenseNet201 for training is that DenseNet201 has generally same number of parameters and size with EfficientNet_B4 so that I believe that Kaggle GPU could handle it and we don't need extra machine.\n",
    "\n",
    "### My other Notebooks\n",
    "- [RSNA2024 LSDC Making Dataset](https://www.kaggle.com/code/itsuki9180/rsna2024-lsdc-making-dataset) \n",
    "- [RSNA2024 LSDC Training Baseline](https://www.kaggle.com/code/hugowjd/rsna2024-lsdc-training-densenet) \n",
    "- [RSNA2024 LSDC Submission Baseline](https://www.kaggle.com/code/hugowjd/rsna2024-lsdc-densenet-submission) <- you're reading now"
   ]
  },
  {
   "cell_type": "markdown",
   "id": "caa1e260",
   "metadata": {
    "papermill": {
     "duration": 0.00779,
     "end_time": "2024-06-20T00:33:12.706727",
     "exception": false,
     "start_time": "2024-06-20T00:33:12.698937",
     "status": "completed"
    },
    "tags": []
   },
   "source": [
    "# Import Libralies"
   ]
  },
  {
   "cell_type": "code",
   "execution_count": 1,
   "id": "c0c77280",
   "metadata": {
    "execution": {
     "iopub.execute_input": "2024-06-20T00:33:12.725192Z",
     "iopub.status.busy": "2024-06-20T00:33:12.724195Z",
     "iopub.status.idle": "2024-06-20T00:33:27.740320Z",
     "shell.execute_reply": "2024-06-20T00:33:27.739551Z"
    },
    "papermill": {
     "duration": 15.02777,
     "end_time": "2024-06-20T00:33:27.742616",
     "exception": false,
     "start_time": "2024-06-20T00:33:12.714846",
     "status": "completed"
    },
    "tags": []
   },
   "outputs": [],
   "source": [
    "import os\n",
    "import gc\n",
    "import sys\n",
    "from PIL import Image\n",
    "import cv2\n",
    "import math, random\n",
    "import numpy as np\n",
    "import pandas as pd\n",
    "from glob import glob\n",
    "from tqdm import tqdm\n",
    "import matplotlib.pyplot as plt\n",
    "from sklearn.model_selection import KFold\n",
    "\n",
    "from collections import OrderedDict\n",
    "\n",
    "import torch\n",
    "import torch.nn.functional as F\n",
    "from torch import nn\n",
    "from torch.utils.data import DataLoader, Dataset\n",
    "from torch.optim import AdamW\n",
    "\n",
    "import timm\n",
    "from timm.utils import ModelEmaV2\n",
    "from transformers import get_cosine_schedule_with_warmup\n",
    "\n",
    "import albumentations as A\n",
    "\n",
    "from sklearn.model_selection import KFold\n",
    "\n",
    "import re\n",
    "import pydicom"
   ]
  },
  {
   "cell_type": "code",
   "execution_count": 2,
   "id": "e4a102a1",
   "metadata": {
    "execution": {
     "iopub.execute_input": "2024-06-20T00:33:27.760304Z",
     "iopub.status.busy": "2024-06-20T00:33:27.759611Z",
     "iopub.status.idle": "2024-06-20T00:33:27.763941Z",
     "shell.execute_reply": "2024-06-20T00:33:27.763026Z"
    },
    "papermill": {
     "duration": 0.015087,
     "end_time": "2024-06-20T00:33:27.765923",
     "exception": false,
     "start_time": "2024-06-20T00:33:27.750836",
     "status": "completed"
    },
    "tags": []
   },
   "outputs": [],
   "source": [
    "rd = '/kaggle/input/rsna-2024-lumbar-spine-degenerative-classification'"
   ]
  },
  {
   "cell_type": "markdown",
   "id": "1d73e920",
   "metadata": {
    "papermill": {
     "duration": 0.007599,
     "end_time": "2024-06-20T00:33:27.781074",
     "exception": false,
     "start_time": "2024-06-20T00:33:27.773475",
     "status": "completed"
    },
    "tags": []
   },
   "source": [
    "# Config"
   ]
  },
  {
   "cell_type": "code",
   "execution_count": 3,
   "id": "bd5e7e3f",
   "metadata": {
    "execution": {
     "iopub.execute_input": "2024-06-20T00:33:27.797827Z",
     "iopub.status.busy": "2024-06-20T00:33:27.797546Z",
     "iopub.status.idle": "2024-06-20T00:33:27.879544Z",
     "shell.execute_reply": "2024-06-20T00:33:27.878771Z"
    },
    "papermill": {
     "duration": 0.092495,
     "end_time": "2024-06-20T00:33:27.881460",
     "exception": false,
     "start_time": "2024-06-20T00:33:27.788965",
     "status": "completed"
    },
    "tags": []
   },
   "outputs": [],
   "source": [
    "DENSENET_DIR = f'/kaggle/input/densenet-weights-for-rsna-2024/'\n",
    "\n",
    "device = 'cuda:0' if torch.cuda.is_available() else 'cpu'\n",
    "N_WORKERS = os.cpu_count()\n",
    "USE_AMP = True\n",
    "SEED = 8620\n",
    "\n",
    "IMG_SIZE = [512, 512]\n",
    "IN_CHANS = 30\n",
    "N_LABELS = 25\n",
    "N_CLASSES = 3 * N_LABELS\n",
    "\n",
    "N_FOLDS = 5\n",
    "\n",
    "# MODEL_NAME = \"tf_efficientnet_b4.ns_jft_in1k\"\n",
    "DENSE_MODEL_NAME = \"densenet201\"\n",
    "BATCH_SIZE = 1"
   ]
  },
  {
   "cell_type": "code",
   "execution_count": 4,
   "id": "6e81584f",
   "metadata": {
    "execution": {
     "iopub.execute_input": "2024-06-20T00:33:27.899324Z",
     "iopub.status.busy": "2024-06-20T00:33:27.899015Z",
     "iopub.status.idle": "2024-06-20T00:33:27.902747Z",
     "shell.execute_reply": "2024-06-20T00:33:27.902035Z"
    },
    "papermill": {
     "duration": 0.015322,
     "end_time": "2024-06-20T00:33:27.904720",
     "exception": false,
     "start_time": "2024-06-20T00:33:27.889398",
     "status": "completed"
    },
    "tags": []
   },
   "outputs": [],
   "source": [
    "rd = '/kaggle/input/rsna-2024-lumbar-spine-degenerative-classification'"
   ]
  },
  {
   "cell_type": "code",
   "execution_count": 5,
   "id": "0a1dcbaf",
   "metadata": {
    "execution": {
     "iopub.execute_input": "2024-06-20T00:33:27.922315Z",
     "iopub.status.busy": "2024-06-20T00:33:27.922035Z",
     "iopub.status.idle": "2024-06-20T00:33:27.929097Z",
     "shell.execute_reply": "2024-06-20T00:33:27.928249Z"
    },
    "papermill": {
     "duration": 0.018362,
     "end_time": "2024-06-20T00:33:27.931095",
     "exception": false,
     "start_time": "2024-06-20T00:33:27.912733",
     "status": "completed"
    },
    "tags": []
   },
   "outputs": [
    {
     "data": {
      "text/plain": [
       "device(type='cuda', index=0)"
      ]
     },
     "execution_count": 5,
     "metadata": {},
     "output_type": "execute_result"
    }
   ],
   "source": [
    "device = torch.device('cuda:0') if torch.cuda.is_available() else torch.device('cpu')\n",
    "device"
   ]
  },
  {
   "cell_type": "code",
   "execution_count": 6,
   "id": "ae21394a",
   "metadata": {
    "execution": {
     "iopub.execute_input": "2024-06-20T00:33:27.950113Z",
     "iopub.status.busy": "2024-06-20T00:33:27.949853Z",
     "iopub.status.idle": "2024-06-20T00:33:27.993945Z",
     "shell.execute_reply": "2024-06-20T00:33:27.992932Z"
    },
    "papermill": {
     "duration": 0.056979,
     "end_time": "2024-06-20T00:33:27.996314",
     "exception": false,
     "start_time": "2024-06-20T00:33:27.939335",
     "status": "completed"
    },
    "tags": []
   },
   "outputs": [
    {
     "data": {
      "text/html": [
       "<div>\n",
       "<style scoped>\n",
       "    .dataframe tbody tr th:only-of-type {\n",
       "        vertical-align: middle;\n",
       "    }\n",
       "\n",
       "    .dataframe tbody tr th {\n",
       "        vertical-align: top;\n",
       "    }\n",
       "\n",
       "    .dataframe thead th {\n",
       "        text-align: right;\n",
       "    }\n",
       "</style>\n",
       "<table border=\"1\" class=\"dataframe\">\n",
       "  <thead>\n",
       "    <tr style=\"text-align: right;\">\n",
       "      <th></th>\n",
       "      <th>study_id</th>\n",
       "      <th>series_id</th>\n",
       "      <th>series_description</th>\n",
       "    </tr>\n",
       "  </thead>\n",
       "  <tbody>\n",
       "    <tr>\n",
       "      <th>0</th>\n",
       "      <td>44036939</td>\n",
       "      <td>2828203845</td>\n",
       "      <td>Sagittal T1</td>\n",
       "    </tr>\n",
       "    <tr>\n",
       "      <th>1</th>\n",
       "      <td>44036939</td>\n",
       "      <td>3481971518</td>\n",
       "      <td>Axial T2</td>\n",
       "    </tr>\n",
       "    <tr>\n",
       "      <th>2</th>\n",
       "      <td>44036939</td>\n",
       "      <td>3844393089</td>\n",
       "      <td>Sagittal T2/STIR</td>\n",
       "    </tr>\n",
       "  </tbody>\n",
       "</table>\n",
       "</div>"
      ],
      "text/plain": [
       "   study_id   series_id series_description\n",
       "0  44036939  2828203845        Sagittal T1\n",
       "1  44036939  3481971518           Axial T2\n",
       "2  44036939  3844393089   Sagittal T2/STIR"
      ]
     },
     "execution_count": 6,
     "metadata": {},
     "output_type": "execute_result"
    }
   ],
   "source": [
    "df = pd.read_csv(f'{rd}/test_series_descriptions.csv')\n",
    "df.head()"
   ]
  },
  {
   "cell_type": "code",
   "execution_count": 7,
   "id": "b974f481",
   "metadata": {
    "execution": {
     "iopub.execute_input": "2024-06-20T00:33:28.016881Z",
     "iopub.status.busy": "2024-06-20T00:33:28.016623Z",
     "iopub.status.idle": "2024-06-20T00:33:28.024985Z",
     "shell.execute_reply": "2024-06-20T00:33:28.024193Z"
    },
    "papermill": {
     "duration": 0.021044,
     "end_time": "2024-06-20T00:33:28.027073",
     "exception": false,
     "start_time": "2024-06-20T00:33:28.006029",
     "status": "completed"
    },
    "tags": []
   },
   "outputs": [],
   "source": [
    "study_ids = list(df['study_id'].unique())"
   ]
  },
  {
   "cell_type": "code",
   "execution_count": 8,
   "id": "37224761",
   "metadata": {
    "execution": {
     "iopub.execute_input": "2024-06-20T00:33:28.044404Z",
     "iopub.status.busy": "2024-06-20T00:33:28.044108Z",
     "iopub.status.idle": "2024-06-20T00:33:28.053165Z",
     "shell.execute_reply": "2024-06-20T00:33:28.052458Z"
    },
    "papermill": {
     "duration": 0.020018,
     "end_time": "2024-06-20T00:33:28.055237",
     "exception": false,
     "start_time": "2024-06-20T00:33:28.035219",
     "status": "completed"
    },
    "tags": []
   },
   "outputs": [],
   "source": [
    "sample_sub = pd.read_csv(f'{rd}/sample_submission.csv')"
   ]
  },
  {
   "cell_type": "code",
   "execution_count": 9,
   "id": "13d9d85b",
   "metadata": {
    "execution": {
     "iopub.execute_input": "2024-06-20T00:33:28.073716Z",
     "iopub.status.busy": "2024-06-20T00:33:28.073423Z",
     "iopub.status.idle": "2024-06-20T00:33:28.079225Z",
     "shell.execute_reply": "2024-06-20T00:33:28.078374Z"
    },
    "papermill": {
     "duration": 0.016916,
     "end_time": "2024-06-20T00:33:28.081026",
     "exception": false,
     "start_time": "2024-06-20T00:33:28.064110",
     "status": "completed"
    },
    "tags": []
   },
   "outputs": [
    {
     "data": {
      "text/plain": [
       "['normal_mild', 'moderate', 'severe']"
      ]
     },
     "execution_count": 9,
     "metadata": {},
     "output_type": "execute_result"
    }
   ],
   "source": [
    "LABELS = list(sample_sub.columns[1:])\n",
    "LABELS"
   ]
  },
  {
   "cell_type": "code",
   "execution_count": 10,
   "id": "f5620122",
   "metadata": {
    "execution": {
     "iopub.execute_input": "2024-06-20T00:33:28.098575Z",
     "iopub.status.busy": "2024-06-20T00:33:28.098286Z",
     "iopub.status.idle": "2024-06-20T00:33:28.102412Z",
     "shell.execute_reply": "2024-06-20T00:33:28.101668Z"
    },
    "papermill": {
     "duration": 0.014898,
     "end_time": "2024-06-20T00:33:28.104259",
     "exception": false,
     "start_time": "2024-06-20T00:33:28.089361",
     "status": "completed"
    },
    "tags": []
   },
   "outputs": [],
   "source": [
    "CONDITIONS = [\n",
    "    'spinal_canal_stenosis', \n",
    "    'left_neural_foraminal_narrowing', \n",
    "    'right_neural_foraminal_narrowing',\n",
    "    'left_subarticular_stenosis',\n",
    "    'right_subarticular_stenosis'\n",
    "]\n",
    "\n",
    "LEVELS = [\n",
    "    'l1_l2',\n",
    "    'l2_l3',\n",
    "    'l3_l4',\n",
    "    'l4_l5',\n",
    "    'l5_s1',\n",
    "]"
   ]
  },
  {
   "cell_type": "code",
   "execution_count": 11,
   "id": "15bac698",
   "metadata": {
    "execution": {
     "iopub.execute_input": "2024-06-20T00:33:28.121600Z",
     "iopub.status.busy": "2024-06-20T00:33:28.121304Z",
     "iopub.status.idle": "2024-06-20T00:33:28.125906Z",
     "shell.execute_reply": "2024-06-20T00:33:28.125050Z"
    },
    "papermill": {
     "duration": 0.015418,
     "end_time": "2024-06-20T00:33:28.127842",
     "exception": false,
     "start_time": "2024-06-20T00:33:28.112424",
     "status": "completed"
    },
    "tags": []
   },
   "outputs": [],
   "source": [
    "def atoi(text):\n",
    "    return int(text) if text.isdigit() else text\n",
    "\n",
    "def natural_keys(text):\n",
    "    return [ atoi(c) for c in re.split(r'(\\d+)', text) ]"
   ]
  },
  {
   "cell_type": "markdown",
   "id": "b1dd3ed3",
   "metadata": {
    "papermill": {
     "duration": 0.007815,
     "end_time": "2024-06-20T00:33:28.143750",
     "exception": false,
     "start_time": "2024-06-20T00:33:28.135935",
     "status": "completed"
    },
    "tags": []
   },
   "source": [
    "# Define Dataset"
   ]
  },
  {
   "cell_type": "code",
   "execution_count": 12,
   "id": "c4eedd7e",
   "metadata": {
    "execution": {
     "iopub.execute_input": "2024-06-20T00:33:28.161355Z",
     "iopub.status.busy": "2024-06-20T00:33:28.161119Z",
     "iopub.status.idle": "2024-06-20T00:33:28.181239Z",
     "shell.execute_reply": "2024-06-20T00:33:28.180567Z"
    },
    "papermill": {
     "duration": 0.031225,
     "end_time": "2024-06-20T00:33:28.183193",
     "exception": false,
     "start_time": "2024-06-20T00:33:28.151968",
     "status": "completed"
    },
    "tags": []
   },
   "outputs": [],
   "source": [
    "class RSNA24TestDataset(Dataset):\n",
    "    def __init__(self, df, study_ids, phase='test', transform=None):\n",
    "        self.df = df\n",
    "        self.study_ids = study_ids\n",
    "        self.transform = transform\n",
    "        self.phase = phase\n",
    "    \n",
    "    def __len__(self):\n",
    "        return len(self.study_ids)\n",
    "    \n",
    "    def get_img_paths(self, study_id, series_desc):\n",
    "        pdf = self.df[self.df['study_id']==study_id]\n",
    "        pdf_ = pdf[pdf['series_description']==series_desc]\n",
    "        allimgs = []\n",
    "        for i, row in pdf_.iterrows():\n",
    "            pimgs = glob.glob(f'{rd}/test_images/{study_id}/{row[\"series_id\"]}/*.dcm')\n",
    "            pimgs = sorted(pimgs, key=natural_keys)\n",
    "            allimgs.extend(pimgs)\n",
    "            \n",
    "        return allimgs\n",
    "    \n",
    "    def read_dcm_ret_arr(self, src_path):\n",
    "        dicom_data = pydicom.dcmread(src_path)\n",
    "        image = dicom_data.pixel_array\n",
    "        image = (image - image.min()) / (image.max() - image.min() + 1e-6) * 255\n",
    "        img = cv2.resize(image, (IMG_SIZE[0], IMG_SIZE[1]),interpolation=cv2.INTER_CUBIC)\n",
    "        assert img.shape==(IMG_SIZE[0], IMG_SIZE[1])\n",
    "        return img\n",
    "\n",
    "    def __getitem__(self, idx):\n",
    "        x = np.zeros((IMG_SIZE[0], IMG_SIZE[1], IN_CHANS), dtype=np.uint8)\n",
    "        st_id = self.study_ids[idx]        \n",
    "        \n",
    "        # Sagittal T1\n",
    "        allimgs_st1 = self.get_img_paths(st_id, 'Sagittal T1')\n",
    "        if len(allimgs_st1)==0:\n",
    "            print(st_id, ': Sagittal T1, has no images')\n",
    "        \n",
    "        else:\n",
    "            step = len(allimgs_st1) / 10.0\n",
    "            st = len(allimgs_st1)/2.0 - 4.0*step\n",
    "            end = len(allimgs_st1)+0.0001\n",
    "            for j, i in enumerate(np.arange(st, end, step)):\n",
    "                try:\n",
    "                    ind2 = max(0, int((i-0.5001).round()))\n",
    "                    img = self.read_dcm_ret_arr(allimgs_st1[ind2])\n",
    "                    x[..., j] = img.astype(np.uint8)\n",
    "                except:\n",
    "                    print(f'failed to load on {st_id}, Sagittal T1')\n",
    "                    pass\n",
    "            \n",
    "        # Sagittal T2/STIR\n",
    "        allimgs_st2 = self.get_img_paths(st_id, 'Sagittal T2/STIR')\n",
    "        if len(allimgs_st2)==0:\n",
    "            print(st_id, ': Sagittal T2/STIR, has no images')\n",
    "            \n",
    "        else:\n",
    "            step = len(allimgs_st2) / 10.0\n",
    "            st = len(allimgs_st2)/2.0 - 4.0*step\n",
    "            end = len(allimgs_st2)+0.0001\n",
    "            for j, i in enumerate(np.arange(st, end, step)):\n",
    "                try:\n",
    "                    ind2 = max(0, int((i-0.5001).round()))\n",
    "                    img = self.read_dcm_ret_arr(allimgs_st2[ind2])\n",
    "                    x[..., j+10] = img.astype(np.uint8)\n",
    "                except:\n",
    "                    print(f'failed to load on {st_id}, Sagittal T2/STIR')\n",
    "                    pass\n",
    "            \n",
    "        # Axial T2\n",
    "        allimgs_at2 = self.get_img_paths(st_id, 'Axial T2')\n",
    "        if len(allimgs_at2)==0:\n",
    "            print(st_id, ': Axial T2, has no images')\n",
    "            \n",
    "        else:\n",
    "            step = len(allimgs_at2) / 10.0\n",
    "            st = len(allimgs_at2)/2.0 - 4.0*step\n",
    "            end = len(allimgs_at2)+0.0001\n",
    "\n",
    "            for j, i in enumerate(np.arange(st, end, step)):\n",
    "                try:\n",
    "                    ind2 = max(0, int((i-0.5001).round()))\n",
    "                    img = self.read_dcm_ret_arr(allimgs_at2[ind2])\n",
    "                    x[..., j+20] = img.astype(np.uint8)\n",
    "                except:\n",
    "                    print(f'failed to load on {st_id}, Axial T2')\n",
    "                    pass  \n",
    "            \n",
    "            \n",
    "        if self.transform is not None:\n",
    "            x = self.transform(image=x)['image']\n",
    "\n",
    "        x = x.transpose(2, 0, 1)\n",
    "                \n",
    "        return x, str(st_id)"
   ]
  },
  {
   "cell_type": "code",
   "execution_count": 13,
   "id": "15021e4d",
   "metadata": {
    "execution": {
     "iopub.execute_input": "2024-06-20T00:33:28.200769Z",
     "iopub.status.busy": "2024-06-20T00:33:28.200474Z",
     "iopub.status.idle": "2024-06-20T00:33:28.205053Z",
     "shell.execute_reply": "2024-06-20T00:33:28.204128Z"
    },
    "papermill": {
     "duration": 0.015376,
     "end_time": "2024-06-20T00:33:28.206991",
     "exception": false,
     "start_time": "2024-06-20T00:33:28.191615",
     "status": "completed"
    },
    "tags": []
   },
   "outputs": [],
   "source": [
    "transforms_test = A.Compose([\n",
    "    A.Resize(IMG_SIZE[0], IMG_SIZE[1]),\n",
    "    A.Normalize(mean=0.5, std=0.5)\n",
    "])"
   ]
  },
  {
   "cell_type": "code",
   "execution_count": 14,
   "id": "e1ce1cfb",
   "metadata": {
    "execution": {
     "iopub.execute_input": "2024-06-20T00:33:28.224042Z",
     "iopub.status.busy": "2024-06-20T00:33:28.223781Z",
     "iopub.status.idle": "2024-06-20T00:33:28.228435Z",
     "shell.execute_reply": "2024-06-20T00:33:28.227639Z"
    },
    "papermill": {
     "duration": 0.015235,
     "end_time": "2024-06-20T00:33:28.230311",
     "exception": false,
     "start_time": "2024-06-20T00:33:28.215076",
     "status": "completed"
    },
    "tags": []
   },
   "outputs": [],
   "source": [
    "test_ds = RSNA24TestDataset(df, study_ids, transform=transforms_test)\n",
    "test_dl = DataLoader(\n",
    "    test_ds, \n",
    "    batch_size=1, \n",
    "    shuffle=False,\n",
    "    num_workers=N_WORKERS,\n",
    "    pin_memory=True,\n",
    "    drop_last=False\n",
    ")"
   ]
  },
  {
   "cell_type": "markdown",
   "id": "eff5029d",
   "metadata": {
    "papermill": {
     "duration": 0.008299,
     "end_time": "2024-06-20T00:33:28.246887",
     "exception": false,
     "start_time": "2024-06-20T00:33:28.238588",
     "status": "completed"
    },
    "tags": []
   },
   "source": [
    "# Define Model"
   ]
  },
  {
   "cell_type": "code",
   "execution_count": 15,
   "id": "2ea4c0d5",
   "metadata": {
    "execution": {
     "iopub.execute_input": "2024-06-20T00:33:28.265914Z",
     "iopub.status.busy": "2024-06-20T00:33:28.265353Z",
     "iopub.status.idle": "2024-06-20T00:33:28.271133Z",
     "shell.execute_reply": "2024-06-20T00:33:28.270255Z"
    },
    "papermill": {
     "duration": 0.0172,
     "end_time": "2024-06-20T00:33:28.273133",
     "exception": false,
     "start_time": "2024-06-20T00:33:28.255933",
     "status": "completed"
    },
    "tags": []
   },
   "outputs": [],
   "source": [
    "class RSNA24Model(nn.Module):\n",
    "    def __init__(self, model_name, in_c=30, n_classes=75, pretrained=True, features_only=False):\n",
    "        super().__init__()\n",
    "        self.model = timm.create_model(\n",
    "                                    model_name,\n",
    "                                    pretrained=pretrained, \n",
    "                                    features_only=features_only,\n",
    "                                    in_chans=in_c,\n",
    "                                    num_classes=n_classes,\n",
    "                                    global_pool='avg'\n",
    "                                    )\n",
    "    \n",
    "    def forward(self, x):\n",
    "        y = self.model(x)\n",
    "        return y"
   ]
  },
  {
   "cell_type": "markdown",
   "id": "f5aee662",
   "metadata": {
    "papermill": {
     "duration": 0.008247,
     "end_time": "2024-06-20T00:33:28.289683",
     "exception": false,
     "start_time": "2024-06-20T00:33:28.281436",
     "status": "completed"
    },
    "tags": []
   },
   "source": [
    "# Load Models"
   ]
  },
  {
   "cell_type": "code",
   "execution_count": 16,
   "id": "1af01611",
   "metadata": {
    "execution": {
     "iopub.execute_input": "2024-06-20T00:33:28.307498Z",
     "iopub.status.busy": "2024-06-20T00:33:28.307217Z",
     "iopub.status.idle": "2024-06-20T00:33:28.311049Z",
     "shell.execute_reply": "2024-06-20T00:33:28.310155Z"
    },
    "papermill": {
     "duration": 0.014817,
     "end_time": "2024-06-20T00:33:28.312929",
     "exception": false,
     "start_time": "2024-06-20T00:33:28.298112",
     "status": "completed"
    },
    "tags": []
   },
   "outputs": [],
   "source": [
    "models = []"
   ]
  },
  {
   "cell_type": "code",
   "execution_count": 17,
   "id": "20889686",
   "metadata": {
    "execution": {
     "iopub.execute_input": "2024-06-20T00:33:28.331352Z",
     "iopub.status.busy": "2024-06-20T00:33:28.331109Z",
     "iopub.status.idle": "2024-06-20T00:33:28.340897Z",
     "shell.execute_reply": "2024-06-20T00:33:28.340014Z"
    },
    "papermill": {
     "duration": 0.021277,
     "end_time": "2024-06-20T00:33:28.342882",
     "exception": false,
     "start_time": "2024-06-20T00:33:28.321605",
     "status": "completed"
    },
    "tags": []
   },
   "outputs": [],
   "source": [
    "import glob\n",
    "DENSE_CKPT_PATHS = glob.glob(f'{DENSENET_DIR}best_wll_model_fold-*.pt')\n",
    "DENSE_CKPT_PATHS = sorted(DENSE_CKPT_PATHS)"
   ]
  },
  {
   "cell_type": "code",
   "execution_count": 18,
   "id": "6ab1a934",
   "metadata": {
    "execution": {
     "iopub.execute_input": "2024-06-20T00:33:28.360084Z",
     "iopub.status.busy": "2024-06-20T00:33:28.359824Z",
     "iopub.status.idle": "2024-06-20T00:33:36.847186Z",
     "shell.execute_reply": "2024-06-20T00:33:36.846351Z"
    },
    "papermill": {
     "duration": 8.498348,
     "end_time": "2024-06-20T00:33:36.849399",
     "exception": false,
     "start_time": "2024-06-20T00:33:28.351051",
     "status": "completed"
    },
    "tags": []
   },
   "outputs": [
    {
     "name": "stdout",
     "output_type": "stream",
     "text": [
      "loading /kaggle/input/densenet-weights-for-rsna-2024/best_wll_model_fold-0.pt...\n",
      "loading /kaggle/input/densenet-weights-for-rsna-2024/best_wll_model_fold-1.pt...\n",
      "loading /kaggle/input/densenet-weights-for-rsna-2024/best_wll_model_fold-2.pt...\n",
      "loading /kaggle/input/densenet-weights-for-rsna-2024/best_wll_model_fold-3.pt...\n",
      "loading /kaggle/input/densenet-weights-for-rsna-2024/best_wll_model_fold-4.pt...\n"
     ]
    }
   ],
   "source": [
    "for i, cp in enumerate(DENSE_CKPT_PATHS):\n",
    "    print(f'loading {cp}...')\n",
    "    model = RSNA24Model(DENSE_MODEL_NAME, IN_CHANS, N_CLASSES, pretrained=False)\n",
    "    model.load_state_dict(torch.load(cp))\n",
    "    model.eval()\n",
    "    model.half()\n",
    "    model.to(device)\n",
    "    models.append(model)"
   ]
  },
  {
   "cell_type": "markdown",
   "id": "f425612e",
   "metadata": {
    "papermill": {
     "duration": 0.008485,
     "end_time": "2024-06-20T00:33:36.866960",
     "exception": false,
     "start_time": "2024-06-20T00:33:36.858475",
     "status": "completed"
    },
    "tags": []
   },
   "source": [
    "# Inference loop"
   ]
  },
  {
   "cell_type": "code",
   "execution_count": 19,
   "id": "a9e08172",
   "metadata": {
    "execution": {
     "iopub.execute_input": "2024-06-20T00:33:36.885026Z",
     "iopub.status.busy": "2024-06-20T00:33:36.884719Z",
     "iopub.status.idle": "2024-06-20T00:33:40.682363Z",
     "shell.execute_reply": "2024-06-20T00:33:40.681011Z"
    },
    "papermill": {
     "duration": 3.809213,
     "end_time": "2024-06-20T00:33:40.684479",
     "exception": false,
     "start_time": "2024-06-20T00:33:36.875266",
     "status": "completed"
    },
    "tags": []
   },
   "outputs": [
    {
     "name": "stderr",
     "output_type": "stream",
     "text": [
      "100%|██████████| 1/1 [00:03<00:00,  3.78s/it]\n"
     ]
    }
   ],
   "source": [
    "autocast = torch.cuda.amp.autocast(enabled=USE_AMP, dtype=torch.half)\n",
    "y_preds = []\n",
    "row_names = []\n",
    "\n",
    "with tqdm(test_dl, leave=True) as pbar:\n",
    "    with torch.no_grad():\n",
    "        for idx, (x, si) in enumerate(pbar):\n",
    "            x = x.to(device)\n",
    "            pred_per_study = np.zeros((25, 3))\n",
    "            \n",
    "            for cond in CONDITIONS:\n",
    "                for level in LEVELS:\n",
    "                    row_names.append(si[0] + '_' + cond + '_' + level)\n",
    "            \n",
    "            with autocast:\n",
    "                for m in models:\n",
    "                    y = m(x)[0]\n",
    "                    for col in range(N_LABELS):\n",
    "                        pred = y[col*3:col*3+3]\n",
    "                        y_pred = pred.float().softmax(0).cpu().numpy()\n",
    "                        pred_per_study[col] += y_pred / len(models)\n",
    "                y_preds.append(pred_per_study)\n",
    "\n",
    "y_preds = np.concatenate(y_preds, axis=0)"
   ]
  },
  {
   "cell_type": "markdown",
   "id": "773c7638",
   "metadata": {
    "papermill": {
     "duration": 0.008845,
     "end_time": "2024-06-20T00:33:40.702550",
     "exception": false,
     "start_time": "2024-06-20T00:33:40.693705",
     "status": "completed"
    },
    "tags": []
   },
   "source": [
    "# Make Submission"
   ]
  },
  {
   "cell_type": "code",
   "execution_count": 20,
   "id": "e67e8557",
   "metadata": {
    "execution": {
     "iopub.execute_input": "2024-06-20T00:33:40.722042Z",
     "iopub.status.busy": "2024-06-20T00:33:40.721723Z",
     "iopub.status.idle": "2024-06-20T00:33:40.746660Z",
     "shell.execute_reply": "2024-06-20T00:33:40.745688Z"
    },
    "papermill": {
     "duration": 0.037018,
     "end_time": "2024-06-20T00:33:40.748643",
     "exception": false,
     "start_time": "2024-06-20T00:33:40.711625",
     "status": "completed"
    },
    "tags": []
   },
   "outputs": [
    {
     "data": {
      "text/html": [
       "<div>\n",
       "<style scoped>\n",
       "    .dataframe tbody tr th:only-of-type {\n",
       "        vertical-align: middle;\n",
       "    }\n",
       "\n",
       "    .dataframe tbody tr th {\n",
       "        vertical-align: top;\n",
       "    }\n",
       "\n",
       "    .dataframe thead th {\n",
       "        text-align: right;\n",
       "    }\n",
       "</style>\n",
       "<table border=\"1\" class=\"dataframe\">\n",
       "  <thead>\n",
       "    <tr style=\"text-align: right;\">\n",
       "      <th></th>\n",
       "      <th>row_id</th>\n",
       "      <th>normal_mild</th>\n",
       "      <th>moderate</th>\n",
       "      <th>severe</th>\n",
       "    </tr>\n",
       "  </thead>\n",
       "  <tbody>\n",
       "    <tr>\n",
       "      <th>0</th>\n",
       "      <td>44036939_spinal_canal_stenosis_l1_l2</td>\n",
       "      <td>0.452606</td>\n",
       "      <td>0.352116</td>\n",
       "      <td>0.195278</td>\n",
       "    </tr>\n",
       "    <tr>\n",
       "      <th>1</th>\n",
       "      <td>44036939_spinal_canal_stenosis_l2_l3</td>\n",
       "      <td>0.197659</td>\n",
       "      <td>0.438147</td>\n",
       "      <td>0.364194</td>\n",
       "    </tr>\n",
       "    <tr>\n",
       "      <th>2</th>\n",
       "      <td>44036939_spinal_canal_stenosis_l3_l4</td>\n",
       "      <td>0.163309</td>\n",
       "      <td>0.327939</td>\n",
       "      <td>0.508752</td>\n",
       "    </tr>\n",
       "    <tr>\n",
       "      <th>3</th>\n",
       "      <td>44036939_spinal_canal_stenosis_l4_l5</td>\n",
       "      <td>0.220417</td>\n",
       "      <td>0.236451</td>\n",
       "      <td>0.543131</td>\n",
       "    </tr>\n",
       "    <tr>\n",
       "      <th>4</th>\n",
       "      <td>44036939_spinal_canal_stenosis_l5_s1</td>\n",
       "      <td>0.819362</td>\n",
       "      <td>0.101084</td>\n",
       "      <td>0.079555</td>\n",
       "    </tr>\n",
       "    <tr>\n",
       "      <th>5</th>\n",
       "      <td>44036939_left_neural_foraminal_narrowing_l1_l2</td>\n",
       "      <td>0.568519</td>\n",
       "      <td>0.400305</td>\n",
       "      <td>0.031176</td>\n",
       "    </tr>\n",
       "    <tr>\n",
       "      <th>6</th>\n",
       "      <td>44036939_left_neural_foraminal_narrowing_l2_l3</td>\n",
       "      <td>0.382895</td>\n",
       "      <td>0.536840</td>\n",
       "      <td>0.080265</td>\n",
       "    </tr>\n",
       "    <tr>\n",
       "      <th>7</th>\n",
       "      <td>44036939_left_neural_foraminal_narrowing_l3_l4</td>\n",
       "      <td>0.258269</td>\n",
       "      <td>0.494957</td>\n",
       "      <td>0.246774</td>\n",
       "    </tr>\n",
       "    <tr>\n",
       "      <th>8</th>\n",
       "      <td>44036939_left_neural_foraminal_narrowing_l4_l5</td>\n",
       "      <td>0.151090</td>\n",
       "      <td>0.446995</td>\n",
       "      <td>0.401915</td>\n",
       "    </tr>\n",
       "    <tr>\n",
       "      <th>9</th>\n",
       "      <td>44036939_left_neural_foraminal_narrowing_l5_s1</td>\n",
       "      <td>0.203369</td>\n",
       "      <td>0.362530</td>\n",
       "      <td>0.434101</td>\n",
       "    </tr>\n",
       "    <tr>\n",
       "      <th>10</th>\n",
       "      <td>44036939_right_neural_foraminal_narrowing_l1_l2</td>\n",
       "      <td>0.586377</td>\n",
       "      <td>0.301675</td>\n",
       "      <td>0.111948</td>\n",
       "    </tr>\n",
       "    <tr>\n",
       "      <th>11</th>\n",
       "      <td>44036939_right_neural_foraminal_narrowing_l2_l3</td>\n",
       "      <td>0.414743</td>\n",
       "      <td>0.534626</td>\n",
       "      <td>0.050632</td>\n",
       "    </tr>\n",
       "    <tr>\n",
       "      <th>12</th>\n",
       "      <td>44036939_right_neural_foraminal_narrowing_l3_l4</td>\n",
       "      <td>0.202117</td>\n",
       "      <td>0.604213</td>\n",
       "      <td>0.193671</td>\n",
       "    </tr>\n",
       "    <tr>\n",
       "      <th>13</th>\n",
       "      <td>44036939_right_neural_foraminal_narrowing_l4_l5</td>\n",
       "      <td>0.174199</td>\n",
       "      <td>0.429878</td>\n",
       "      <td>0.395923</td>\n",
       "    </tr>\n",
       "    <tr>\n",
       "      <th>14</th>\n",
       "      <td>44036939_right_neural_foraminal_narrowing_l5_s1</td>\n",
       "      <td>0.234002</td>\n",
       "      <td>0.326344</td>\n",
       "      <td>0.439654</td>\n",
       "    </tr>\n",
       "    <tr>\n",
       "      <th>15</th>\n",
       "      <td>44036939_left_subarticular_stenosis_l1_l2</td>\n",
       "      <td>0.379683</td>\n",
       "      <td>0.368721</td>\n",
       "      <td>0.251596</td>\n",
       "    </tr>\n",
       "    <tr>\n",
       "      <th>16</th>\n",
       "      <td>44036939_left_subarticular_stenosis_l2_l3</td>\n",
       "      <td>0.156540</td>\n",
       "      <td>0.343577</td>\n",
       "      <td>0.499884</td>\n",
       "    </tr>\n",
       "    <tr>\n",
       "      <th>17</th>\n",
       "      <td>44036939_left_subarticular_stenosis_l3_l4</td>\n",
       "      <td>0.082536</td>\n",
       "      <td>0.337465</td>\n",
       "      <td>0.579998</td>\n",
       "    </tr>\n",
       "    <tr>\n",
       "      <th>18</th>\n",
       "      <td>44036939_left_subarticular_stenosis_l4_l5</td>\n",
       "      <td>0.064102</td>\n",
       "      <td>0.257586</td>\n",
       "      <td>0.678311</td>\n",
       "    </tr>\n",
       "    <tr>\n",
       "      <th>19</th>\n",
       "      <td>44036939_left_subarticular_stenosis_l5_s1</td>\n",
       "      <td>0.300503</td>\n",
       "      <td>0.302519</td>\n",
       "      <td>0.396977</td>\n",
       "    </tr>\n",
       "    <tr>\n",
       "      <th>20</th>\n",
       "      <td>44036939_right_subarticular_stenosis_l1_l2</td>\n",
       "      <td>0.363140</td>\n",
       "      <td>0.454146</td>\n",
       "      <td>0.182715</td>\n",
       "    </tr>\n",
       "    <tr>\n",
       "      <th>21</th>\n",
       "      <td>44036939_right_subarticular_stenosis_l2_l3</td>\n",
       "      <td>0.154872</td>\n",
       "      <td>0.407918</td>\n",
       "      <td>0.437210</td>\n",
       "    </tr>\n",
       "    <tr>\n",
       "      <th>22</th>\n",
       "      <td>44036939_right_subarticular_stenosis_l3_l4</td>\n",
       "      <td>0.085288</td>\n",
       "      <td>0.303281</td>\n",
       "      <td>0.611431</td>\n",
       "    </tr>\n",
       "    <tr>\n",
       "      <th>23</th>\n",
       "      <td>44036939_right_subarticular_stenosis_l4_l5</td>\n",
       "      <td>0.065032</td>\n",
       "      <td>0.258246</td>\n",
       "      <td>0.676722</td>\n",
       "    </tr>\n",
       "    <tr>\n",
       "      <th>24</th>\n",
       "      <td>44036939_right_subarticular_stenosis_l5_s1</td>\n",
       "      <td>0.308983</td>\n",
       "      <td>0.350569</td>\n",
       "      <td>0.340448</td>\n",
       "    </tr>\n",
       "  </tbody>\n",
       "</table>\n",
       "</div>"
      ],
      "text/plain": [
       "                                             row_id  normal_mild  moderate  \\\n",
       "0              44036939_spinal_canal_stenosis_l1_l2     0.452606  0.352116   \n",
       "1              44036939_spinal_canal_stenosis_l2_l3     0.197659  0.438147   \n",
       "2              44036939_spinal_canal_stenosis_l3_l4     0.163309  0.327939   \n",
       "3              44036939_spinal_canal_stenosis_l4_l5     0.220417  0.236451   \n",
       "4              44036939_spinal_canal_stenosis_l5_s1     0.819362  0.101084   \n",
       "5    44036939_left_neural_foraminal_narrowing_l1_l2     0.568519  0.400305   \n",
       "6    44036939_left_neural_foraminal_narrowing_l2_l3     0.382895  0.536840   \n",
       "7    44036939_left_neural_foraminal_narrowing_l3_l4     0.258269  0.494957   \n",
       "8    44036939_left_neural_foraminal_narrowing_l4_l5     0.151090  0.446995   \n",
       "9    44036939_left_neural_foraminal_narrowing_l5_s1     0.203369  0.362530   \n",
       "10  44036939_right_neural_foraminal_narrowing_l1_l2     0.586377  0.301675   \n",
       "11  44036939_right_neural_foraminal_narrowing_l2_l3     0.414743  0.534626   \n",
       "12  44036939_right_neural_foraminal_narrowing_l3_l4     0.202117  0.604213   \n",
       "13  44036939_right_neural_foraminal_narrowing_l4_l5     0.174199  0.429878   \n",
       "14  44036939_right_neural_foraminal_narrowing_l5_s1     0.234002  0.326344   \n",
       "15        44036939_left_subarticular_stenosis_l1_l2     0.379683  0.368721   \n",
       "16        44036939_left_subarticular_stenosis_l2_l3     0.156540  0.343577   \n",
       "17        44036939_left_subarticular_stenosis_l3_l4     0.082536  0.337465   \n",
       "18        44036939_left_subarticular_stenosis_l4_l5     0.064102  0.257586   \n",
       "19        44036939_left_subarticular_stenosis_l5_s1     0.300503  0.302519   \n",
       "20       44036939_right_subarticular_stenosis_l1_l2     0.363140  0.454146   \n",
       "21       44036939_right_subarticular_stenosis_l2_l3     0.154872  0.407918   \n",
       "22       44036939_right_subarticular_stenosis_l3_l4     0.085288  0.303281   \n",
       "23       44036939_right_subarticular_stenosis_l4_l5     0.065032  0.258246   \n",
       "24       44036939_right_subarticular_stenosis_l5_s1     0.308983  0.350569   \n",
       "\n",
       "      severe  \n",
       "0   0.195278  \n",
       "1   0.364194  \n",
       "2   0.508752  \n",
       "3   0.543131  \n",
       "4   0.079555  \n",
       "5   0.031176  \n",
       "6   0.080265  \n",
       "7   0.246774  \n",
       "8   0.401915  \n",
       "9   0.434101  \n",
       "10  0.111948  \n",
       "11  0.050632  \n",
       "12  0.193671  \n",
       "13  0.395923  \n",
       "14  0.439654  \n",
       "15  0.251596  \n",
       "16  0.499884  \n",
       "17  0.579998  \n",
       "18  0.678311  \n",
       "19  0.396977  \n",
       "20  0.182715  \n",
       "21  0.437210  \n",
       "22  0.611431  \n",
       "23  0.676722  \n",
       "24  0.340448  "
      ]
     },
     "execution_count": 20,
     "metadata": {},
     "output_type": "execute_result"
    }
   ],
   "source": [
    "sub = pd.DataFrame()\n",
    "sub['row_id'] = row_names\n",
    "sub[LABELS] = y_preds\n",
    "sub.head(25)"
   ]
  },
  {
   "cell_type": "code",
   "execution_count": 21,
   "id": "e2e4d6e6",
   "metadata": {
    "execution": {
     "iopub.execute_input": "2024-06-20T00:33:40.768610Z",
     "iopub.status.busy": "2024-06-20T00:33:40.768311Z",
     "iopub.status.idle": "2024-06-20T00:33:40.786041Z",
     "shell.execute_reply": "2024-06-20T00:33:40.785051Z"
    },
    "papermill": {
     "duration": 0.030194,
     "end_time": "2024-06-20T00:33:40.788028",
     "exception": false,
     "start_time": "2024-06-20T00:33:40.757834",
     "status": "completed"
    },
    "tags": []
   },
   "outputs": [
    {
     "data": {
      "text/html": [
       "<div>\n",
       "<style scoped>\n",
       "    .dataframe tbody tr th:only-of-type {\n",
       "        vertical-align: middle;\n",
       "    }\n",
       "\n",
       "    .dataframe tbody tr th {\n",
       "        vertical-align: top;\n",
       "    }\n",
       "\n",
       "    .dataframe thead th {\n",
       "        text-align: right;\n",
       "    }\n",
       "</style>\n",
       "<table border=\"1\" class=\"dataframe\">\n",
       "  <thead>\n",
       "    <tr style=\"text-align: right;\">\n",
       "      <th></th>\n",
       "      <th>row_id</th>\n",
       "      <th>normal_mild</th>\n",
       "      <th>moderate</th>\n",
       "      <th>severe</th>\n",
       "    </tr>\n",
       "  </thead>\n",
       "  <tbody>\n",
       "    <tr>\n",
       "      <th>0</th>\n",
       "      <td>44036939_spinal_canal_stenosis_l1_l2</td>\n",
       "      <td>0.452606</td>\n",
       "      <td>0.352116</td>\n",
       "      <td>0.195278</td>\n",
       "    </tr>\n",
       "    <tr>\n",
       "      <th>1</th>\n",
       "      <td>44036939_spinal_canal_stenosis_l2_l3</td>\n",
       "      <td>0.197659</td>\n",
       "      <td>0.438147</td>\n",
       "      <td>0.364194</td>\n",
       "    </tr>\n",
       "    <tr>\n",
       "      <th>2</th>\n",
       "      <td>44036939_spinal_canal_stenosis_l3_l4</td>\n",
       "      <td>0.163309</td>\n",
       "      <td>0.327939</td>\n",
       "      <td>0.508752</td>\n",
       "    </tr>\n",
       "    <tr>\n",
       "      <th>3</th>\n",
       "      <td>44036939_spinal_canal_stenosis_l4_l5</td>\n",
       "      <td>0.220417</td>\n",
       "      <td>0.236451</td>\n",
       "      <td>0.543131</td>\n",
       "    </tr>\n",
       "    <tr>\n",
       "      <th>4</th>\n",
       "      <td>44036939_spinal_canal_stenosis_l5_s1</td>\n",
       "      <td>0.819362</td>\n",
       "      <td>0.101084</td>\n",
       "      <td>0.079555</td>\n",
       "    </tr>\n",
       "  </tbody>\n",
       "</table>\n",
       "</div>"
      ],
      "text/plain": [
       "                                 row_id  normal_mild  moderate    severe\n",
       "0  44036939_spinal_canal_stenosis_l1_l2     0.452606  0.352116  0.195278\n",
       "1  44036939_spinal_canal_stenosis_l2_l3     0.197659  0.438147  0.364194\n",
       "2  44036939_spinal_canal_stenosis_l3_l4     0.163309  0.327939  0.508752\n",
       "3  44036939_spinal_canal_stenosis_l4_l5     0.220417  0.236451  0.543131\n",
       "4  44036939_spinal_canal_stenosis_l5_s1     0.819362  0.101084  0.079555"
      ]
     },
     "execution_count": 21,
     "metadata": {},
     "output_type": "execute_result"
    }
   ],
   "source": [
    "sub.to_csv('submission.csv', index=False)\n",
    "pd.read_csv('submission.csv').head()"
   ]
  },
  {
   "cell_type": "markdown",
   "id": "700a8fa8",
   "metadata": {
    "papermill": {
     "duration": 0.009938,
     "end_time": "2024-06-20T00:33:40.807626",
     "exception": false,
     "start_time": "2024-06-20T00:33:40.797688",
     "status": "completed"
    },
    "tags": []
   },
   "source": [
    "# Conclusion\n",
    "We created the dataset, performed training, and inference in this notebook. \n",
    "\n",
    "This competition is a bit complicated to handle the dataset, so there may be a better way.\n",
    "\n",
    "I think there are many other areas to improve in my notebook. I hope you can learn from my notebook and get a better score."
   ]
  },
  {
   "cell_type": "code",
   "execution_count": null,
   "id": "70a5eb9d",
   "metadata": {
    "papermill": {
     "duration": 0.009484,
     "end_time": "2024-06-20T00:33:40.827025",
     "exception": false,
     "start_time": "2024-06-20T00:33:40.817541",
     "status": "completed"
    },
    "tags": []
   },
   "outputs": [],
   "source": []
  }
 ],
 "metadata": {
  "kaggle": {
   "accelerator": "nvidiaTeslaT4",
   "dataSources": [
    {
     "databundleVersionId": 8561470,
     "sourceId": 71549,
     "sourceType": "competition"
    },
    {
     "datasetId": 5236783,
     "sourceId": 8727685,
     "sourceType": "datasetVersion"
    }
   ],
   "dockerImageVersionId": 30733,
   "isGpuEnabled": true,
   "isInternetEnabled": false,
   "language": "python",
   "sourceType": "notebook"
  },
  "kernelspec": {
   "display_name": "Python 3",
   "language": "python",
   "name": "python3"
  },
  "language_info": {
   "codemirror_mode": {
    "name": "ipython",
    "version": 3
   },
   "file_extension": ".py",
   "mimetype": "text/x-python",
   "name": "python",
   "nbconvert_exporter": "python",
   "pygments_lexer": "ipython3",
   "version": "3.10.13"
  },
  "papermill": {
   "default_parameters": {},
   "duration": 34.977321,
   "end_time": "2024-06-20T00:33:43.678404",
   "environment_variables": {},
   "exception": null,
   "input_path": "__notebook__.ipynb",
   "output_path": "__notebook__.ipynb",
   "parameters": {},
   "start_time": "2024-06-20T00:33:08.701083",
   "version": "2.5.0"
  }
 },
 "nbformat": 4,
 "nbformat_minor": 5
}
